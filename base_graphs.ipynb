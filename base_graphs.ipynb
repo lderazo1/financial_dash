{
 "cells": [
  {
   "cell_type": "code",
   "execution_count": 1,
   "id": "64bc127d",
   "metadata": {},
   "outputs": [],
   "source": [
    "import gspread\n",
    "from oauth2client.service_account import ServiceAccountCredentials\n",
    "import pandas as pd\n",
    "\n",
    "#Initial connection Google Sheets\n",
    "\n",
    "######   V1.0 Only get Cantones\n",
    "\n",
    "CREDS_JSON = 'credentials.json'\n",
    "scope = [\"https://spreadsheets.google.com/feeds\",'https://www.googleapis.com/auth/spreadsheets',\"https://www.googleapis.com/auth/drive.file\",\"https://www.googleapis.com/auth/drive\"]\n",
    "\n",
    "def get_selected_dataframe(sheet_name, key):\n",
    "    creds = ServiceAccountCredentials.from_json_keyfile_name(CREDS_JSON, scope)\n",
    "    client = gspread.authorize(creds)\n",
    "    sheet = client.open_by_key(key) # Open the spreadhseet\n",
    "    base_sheet = sheet.worksheet(sheet_name)\n",
    "    df = pd.DataFrame(base_sheet.get_all_records())\n",
    "    return df\n"
   ]
  },
  {
   "cell_type": "markdown",
   "id": "754e5e31",
   "metadata": {},
   "source": [
    "#### Apuntar hacia SHEET"
   ]
  },
  {
   "cell_type": "code",
   "execution_count": 2,
   "id": "ccfc92e5",
   "metadata": {},
   "outputs": [],
   "source": [
    "df = get_selected_dataframe('CANTON','1FvE33JAUWO8mgzcoaZF7H1iYCEYm6da06rmEX8lGJaM')"
   ]
  },
  {
   "cell_type": "markdown",
   "id": "d7538367",
   "metadata": {},
   "source": [
    "#### Data Manipulation (******)"
   ]
  },
  {
   "cell_type": "code",
   "execution_count": 3,
   "id": "41e2967c",
   "metadata": {
    "scrolled": true
   },
   "outputs": [
    {
     "data": {
      "text/html": [
       "<div>\n",
       "<style scoped>\n",
       "    .dataframe tbody tr th:only-of-type {\n",
       "        vertical-align: middle;\n",
       "    }\n",
       "\n",
       "    .dataframe tbody tr th {\n",
       "        vertical-align: top;\n",
       "    }\n",
       "\n",
       "    .dataframe thead th {\n",
       "        text-align: right;\n",
       "    }\n",
       "</style>\n",
       "<table border=\"1\" class=\"dataframe\">\n",
       "  <thead>\n",
       "    <tr style=\"text-align: right;\">\n",
       "      <th></th>\n",
       "      <th>DPA_CANTON</th>\n",
       "      <th>CANTON</th>\n",
       "      <th>Poblacion Hombres 2022</th>\n",
       "      <th>Poblacion Mujeres 2022</th>\n",
       "      <th>PEA</th>\n",
       "      <th>Extension Territorial</th>\n",
       "      <th>% Poblacion Rural</th>\n",
       "      <th>Ingreso Medio Hogares  USD (Mensual)</th>\n",
       "      <th>% Empleo Informal</th>\n",
       "      <th>Acceso a Agua Mejorada</th>\n",
       "      <th>...</th>\n",
       "      <th>Acceso a Internet</th>\n",
       "      <th>Acceso Computadores (% Hogares)</th>\n",
       "      <th>Centro de Salud Tipo A</th>\n",
       "      <th>Centro de Salud Tipo B</th>\n",
       "      <th>Centro de Salud Tipo C</th>\n",
       "      <th>Centros especializados</th>\n",
       "      <th>Hospital Basico</th>\n",
       "      <th>Hospital de especialidades</th>\n",
       "      <th>Hospital General</th>\n",
       "      <th>Puesto de Salud</th>\n",
       "    </tr>\n",
       "  </thead>\n",
       "  <tbody>\n",
       "    <tr>\n",
       "      <th>0</th>\n",
       "      <td>1301</td>\n",
       "      <td>Portoviejo</td>\n",
       "      <td>160935</td>\n",
       "      <td>165707</td>\n",
       "      <td>59.28</td>\n",
       "      <td>960.73</td>\n",
       "      <td>25.2</td>\n",
       "      <td>31.95</td>\n",
       "      <td>65</td>\n",
       "      <td>88.43</td>\n",
       "      <td>...</td>\n",
       "      <td>41.09</td>\n",
       "      <td>27.38</td>\n",
       "      <td>31</td>\n",
       "      <td>3</td>\n",
       "      <td>1</td>\n",
       "      <td>2</td>\n",
       "      <td>0</td>\n",
       "      <td>1</td>\n",
       "      <td>1</td>\n",
       "      <td>3</td>\n",
       "    </tr>\n",
       "    <tr>\n",
       "      <th>1</th>\n",
       "      <td>1302</td>\n",
       "      <td>Bolívar</td>\n",
       "      <td>23456</td>\n",
       "      <td>22447</td>\n",
       "      <td>62.85</td>\n",
       "      <td>538.20</td>\n",
       "      <td>55.0</td>\n",
       "      <td>19.79</td>\n",
       "      <td>68</td>\n",
       "      <td>56.58</td>\n",
       "      <td>...</td>\n",
       "      <td>27.08</td>\n",
       "      <td>11.07</td>\n",
       "      <td>7</td>\n",
       "      <td>0</td>\n",
       "      <td>0</td>\n",
       "      <td>0</td>\n",
       "      <td>1</td>\n",
       "      <td>0</td>\n",
       "      <td>0</td>\n",
       "      <td>0</td>\n",
       "    </tr>\n",
       "    <tr>\n",
       "      <th>2</th>\n",
       "      <td>1303</td>\n",
       "      <td>Chone</td>\n",
       "      <td>65100</td>\n",
       "      <td>65024</td>\n",
       "      <td>59.20</td>\n",
       "      <td>3037.10</td>\n",
       "      <td>56.0</td>\n",
       "      <td>30.06</td>\n",
       "      <td>62</td>\n",
       "      <td>56.00</td>\n",
       "      <td>...</td>\n",
       "      <td>27.67</td>\n",
       "      <td>9.77</td>\n",
       "      <td>14</td>\n",
       "      <td>0</td>\n",
       "      <td>1</td>\n",
       "      <td>0</td>\n",
       "      <td>0</td>\n",
       "      <td>0</td>\n",
       "      <td>1</td>\n",
       "      <td>0</td>\n",
       "    </tr>\n",
       "    <tr>\n",
       "      <th>3</th>\n",
       "      <td>1304</td>\n",
       "      <td>El Carmen</td>\n",
       "      <td>58819</td>\n",
       "      <td>56216</td>\n",
       "      <td>62.85</td>\n",
       "      <td>1732.00</td>\n",
       "      <td>48.0</td>\n",
       "      <td>19.79</td>\n",
       "      <td>68</td>\n",
       "      <td>56.58</td>\n",
       "      <td>...</td>\n",
       "      <td>27.08</td>\n",
       "      <td>11.07</td>\n",
       "      <td>9</td>\n",
       "      <td>0</td>\n",
       "      <td>0</td>\n",
       "      <td>0</td>\n",
       "      <td>1</td>\n",
       "      <td>0</td>\n",
       "      <td>0</td>\n",
       "      <td>0</td>\n",
       "    </tr>\n",
       "    <tr>\n",
       "      <th>4</th>\n",
       "      <td>1305</td>\n",
       "      <td>Flavio Alfaro</td>\n",
       "      <td>12004</td>\n",
       "      <td>11245</td>\n",
       "      <td>62.91</td>\n",
       "      <td>1346.92</td>\n",
       "      <td>75.0</td>\n",
       "      <td>17.34</td>\n",
       "      <td>73</td>\n",
       "      <td>54.84</td>\n",
       "      <td>...</td>\n",
       "      <td>19.59</td>\n",
       "      <td>8.69</td>\n",
       "      <td>0</td>\n",
       "      <td>1</td>\n",
       "      <td>0</td>\n",
       "      <td>0</td>\n",
       "      <td>1</td>\n",
       "      <td>0</td>\n",
       "      <td>0</td>\n",
       "      <td>0</td>\n",
       "    </tr>\n",
       "    <tr>\n",
       "      <th>5</th>\n",
       "      <td>1306</td>\n",
       "      <td>Jipijapa</td>\n",
       "      <td>37734</td>\n",
       "      <td>36626</td>\n",
       "      <td>62.91</td>\n",
       "      <td>1467.45</td>\n",
       "      <td>43.0</td>\n",
       "      <td>17.34</td>\n",
       "      <td>73</td>\n",
       "      <td>54.84</td>\n",
       "      <td>...</td>\n",
       "      <td>19.59</td>\n",
       "      <td>8.69</td>\n",
       "      <td>9</td>\n",
       "      <td>1</td>\n",
       "      <td>0</td>\n",
       "      <td>0</td>\n",
       "      <td>1</td>\n",
       "      <td>0</td>\n",
       "      <td>0</td>\n",
       "      <td>2</td>\n",
       "    </tr>\n",
       "    <tr>\n",
       "      <th>6</th>\n",
       "      <td>1307</td>\n",
       "      <td>Junín</td>\n",
       "      <td>9539</td>\n",
       "      <td>8993</td>\n",
       "      <td>62.85</td>\n",
       "      <td>246.07</td>\n",
       "      <td>71.0</td>\n",
       "      <td>19.79</td>\n",
       "      <td>68</td>\n",
       "      <td>56.58</td>\n",
       "      <td>...</td>\n",
       "      <td>27.08</td>\n",
       "      <td>11.07</td>\n",
       "      <td>4</td>\n",
       "      <td>0</td>\n",
       "      <td>1</td>\n",
       "      <td>0</td>\n",
       "      <td>0</td>\n",
       "      <td>0</td>\n",
       "      <td>0</td>\n",
       "      <td>0</td>\n",
       "    </tr>\n",
       "    <tr>\n",
       "      <th>7</th>\n",
       "      <td>1308</td>\n",
       "      <td>Manta</td>\n",
       "      <td>132375</td>\n",
       "      <td>136738</td>\n",
       "      <td>64.22</td>\n",
       "      <td>303.31</td>\n",
       "      <td>4.0</td>\n",
       "      <td>49.67</td>\n",
       "      <td>56</td>\n",
       "      <td>98.00</td>\n",
       "      <td>...</td>\n",
       "      <td>41.05</td>\n",
       "      <td>18.43</td>\n",
       "      <td>15</td>\n",
       "      <td>4</td>\n",
       "      <td>1</td>\n",
       "      <td>0</td>\n",
       "      <td>0</td>\n",
       "      <td>0</td>\n",
       "      <td>1</td>\n",
       "      <td>1</td>\n",
       "    </tr>\n",
       "    <tr>\n",
       "      <th>8</th>\n",
       "      <td>1309</td>\n",
       "      <td>Montecristi</td>\n",
       "      <td>58353</td>\n",
       "      <td>57833</td>\n",
       "      <td>62.85</td>\n",
       "      <td>738.58</td>\n",
       "      <td>23.0</td>\n",
       "      <td>19.79</td>\n",
       "      <td>68</td>\n",
       "      <td>56.58</td>\n",
       "      <td>...</td>\n",
       "      <td>27.08</td>\n",
       "      <td>11.07</td>\n",
       "      <td>8</td>\n",
       "      <td>2</td>\n",
       "      <td>0</td>\n",
       "      <td>0</td>\n",
       "      <td>0</td>\n",
       "      <td>0</td>\n",
       "      <td>0</td>\n",
       "      <td>0</td>\n",
       "    </tr>\n",
       "    <tr>\n",
       "      <th>9</th>\n",
       "      <td>1310</td>\n",
       "      <td>Paján</td>\n",
       "      <td>19269</td>\n",
       "      <td>17309</td>\n",
       "      <td>62.91</td>\n",
       "      <td>841.44</td>\n",
       "      <td>82.0</td>\n",
       "      <td>17.34</td>\n",
       "      <td>73</td>\n",
       "      <td>54.84</td>\n",
       "      <td>...</td>\n",
       "      <td>19.59</td>\n",
       "      <td>8.69</td>\n",
       "      <td>9</td>\n",
       "      <td>0</td>\n",
       "      <td>0</td>\n",
       "      <td>0</td>\n",
       "      <td>1</td>\n",
       "      <td>0</td>\n",
       "      <td>0</td>\n",
       "      <td>1</td>\n",
       "    </tr>\n",
       "    <tr>\n",
       "      <th>10</th>\n",
       "      <td>1311</td>\n",
       "      <td>Pichincha</td>\n",
       "      <td>15055</td>\n",
       "      <td>14000</td>\n",
       "      <td>62.91</td>\n",
       "      <td>1075.26</td>\n",
       "      <td>87.0</td>\n",
       "      <td>17.34</td>\n",
       "      <td>73</td>\n",
       "      <td>54.84</td>\n",
       "      <td>...</td>\n",
       "      <td>19.59</td>\n",
       "      <td>8.69</td>\n",
       "      <td>3</td>\n",
       "      <td>1</td>\n",
       "      <td>0</td>\n",
       "      <td>0</td>\n",
       "      <td>1</td>\n",
       "      <td>0</td>\n",
       "      <td>0</td>\n",
       "      <td>0</td>\n",
       "    </tr>\n",
       "    <tr>\n",
       "      <th>11</th>\n",
       "      <td>1312</td>\n",
       "      <td>Rocafuerte</td>\n",
       "      <td>19028</td>\n",
       "      <td>18606</td>\n",
       "      <td>62.85</td>\n",
       "      <td>279.65</td>\n",
       "      <td>73.0</td>\n",
       "      <td>19.79</td>\n",
       "      <td>68</td>\n",
       "      <td>56.58</td>\n",
       "      <td>...</td>\n",
       "      <td>27.08</td>\n",
       "      <td>11.07</td>\n",
       "      <td>5</td>\n",
       "      <td>1</td>\n",
       "      <td>0</td>\n",
       "      <td>0</td>\n",
       "      <td>1</td>\n",
       "      <td>0</td>\n",
       "      <td>0</td>\n",
       "      <td>0</td>\n",
       "    </tr>\n",
       "    <tr>\n",
       "      <th>12</th>\n",
       "      <td>1313</td>\n",
       "      <td>Santa Ana</td>\n",
       "      <td>24221</td>\n",
       "      <td>23418</td>\n",
       "      <td>62.85</td>\n",
       "      <td>1025.29</td>\n",
       "      <td>80.0</td>\n",
       "      <td>19.79</td>\n",
       "      <td>68</td>\n",
       "      <td>56.58</td>\n",
       "      <td>...</td>\n",
       "      <td>27.08</td>\n",
       "      <td>11.07</td>\n",
       "      <td>6</td>\n",
       "      <td>0</td>\n",
       "      <td>1</td>\n",
       "      <td>0</td>\n",
       "      <td>0</td>\n",
       "      <td>0</td>\n",
       "      <td>0</td>\n",
       "      <td>0</td>\n",
       "    </tr>\n",
       "    <tr>\n",
       "      <th>13</th>\n",
       "      <td>1314</td>\n",
       "      <td>Sucre</td>\n",
       "      <td>31757</td>\n",
       "      <td>30960</td>\n",
       "      <td>62.85</td>\n",
       "      <td>764.00</td>\n",
       "      <td>65.0</td>\n",
       "      <td>19.79</td>\n",
       "      <td>68</td>\n",
       "      <td>56.58</td>\n",
       "      <td>...</td>\n",
       "      <td>27.08</td>\n",
       "      <td>11.07</td>\n",
       "      <td>6</td>\n",
       "      <td>1</td>\n",
       "      <td>0</td>\n",
       "      <td>0</td>\n",
       "      <td>0</td>\n",
       "      <td>0</td>\n",
       "      <td>1</td>\n",
       "      <td>2</td>\n",
       "    </tr>\n",
       "    <tr>\n",
       "      <th>14</th>\n",
       "      <td>1315</td>\n",
       "      <td>Tosagua</td>\n",
       "      <td>21678</td>\n",
       "      <td>20889</td>\n",
       "      <td>62.85</td>\n",
       "      <td>374.81</td>\n",
       "      <td>72.0</td>\n",
       "      <td>19.79</td>\n",
       "      <td>68</td>\n",
       "      <td>56.58</td>\n",
       "      <td>...</td>\n",
       "      <td>19.59</td>\n",
       "      <td>8.69</td>\n",
       "      <td>4</td>\n",
       "      <td>0</td>\n",
       "      <td>1</td>\n",
       "      <td>0</td>\n",
       "      <td>0</td>\n",
       "      <td>0</td>\n",
       "      <td>0</td>\n",
       "      <td>0</td>\n",
       "    </tr>\n",
       "    <tr>\n",
       "      <th>15</th>\n",
       "      <td>1316</td>\n",
       "      <td>24 De Mayo</td>\n",
       "      <td>14490</td>\n",
       "      <td>13560</td>\n",
       "      <td>62.91</td>\n",
       "      <td>525.91</td>\n",
       "      <td>83.0</td>\n",
       "      <td>17.34</td>\n",
       "      <td>73</td>\n",
       "      <td>54.84</td>\n",
       "      <td>...</td>\n",
       "      <td>19.59</td>\n",
       "      <td>8.69</td>\n",
       "      <td>8</td>\n",
       "      <td>1</td>\n",
       "      <td>0</td>\n",
       "      <td>0</td>\n",
       "      <td>0</td>\n",
       "      <td>0</td>\n",
       "      <td>0</td>\n",
       "      <td>0</td>\n",
       "    </tr>\n",
       "    <tr>\n",
       "      <th>16</th>\n",
       "      <td>1317</td>\n",
       "      <td>Pedernales</td>\n",
       "      <td>33207</td>\n",
       "      <td>31206</td>\n",
       "      <td>62.91</td>\n",
       "      <td>1907.25</td>\n",
       "      <td>56.0</td>\n",
       "      <td>17.34</td>\n",
       "      <td>73</td>\n",
       "      <td>54.84</td>\n",
       "      <td>...</td>\n",
       "      <td>19.59</td>\n",
       "      <td>8.69</td>\n",
       "      <td>3</td>\n",
       "      <td>2</td>\n",
       "      <td>0</td>\n",
       "      <td>0</td>\n",
       "      <td>0</td>\n",
       "      <td>0</td>\n",
       "      <td>0</td>\n",
       "      <td>0</td>\n",
       "    </tr>\n",
       "    <tr>\n",
       "      <th>17</th>\n",
       "      <td>1318</td>\n",
       "      <td>Olmedo</td>\n",
       "      <td>5228</td>\n",
       "      <td>4896</td>\n",
       "      <td>62.91</td>\n",
       "      <td>253.88</td>\n",
       "      <td>79.0</td>\n",
       "      <td>17.34</td>\n",
       "      <td>73</td>\n",
       "      <td>54.84</td>\n",
       "      <td>...</td>\n",
       "      <td>19.59</td>\n",
       "      <td>8.69</td>\n",
       "      <td>0</td>\n",
       "      <td>1</td>\n",
       "      <td>0</td>\n",
       "      <td>0</td>\n",
       "      <td>0</td>\n",
       "      <td>0</td>\n",
       "      <td>0</td>\n",
       "      <td>0</td>\n",
       "    </tr>\n",
       "    <tr>\n",
       "      <th>18</th>\n",
       "      <td>1319</td>\n",
       "      <td>Puerto López</td>\n",
       "      <td>13078</td>\n",
       "      <td>12239</td>\n",
       "      <td>62.91</td>\n",
       "      <td>429.36</td>\n",
       "      <td>76.0</td>\n",
       "      <td>17.34</td>\n",
       "      <td>73</td>\n",
       "      <td>54.84</td>\n",
       "      <td>...</td>\n",
       "      <td>19.59</td>\n",
       "      <td>8.69</td>\n",
       "      <td>2</td>\n",
       "      <td>0</td>\n",
       "      <td>1</td>\n",
       "      <td>0</td>\n",
       "      <td>0</td>\n",
       "      <td>0</td>\n",
       "      <td>0</td>\n",
       "      <td>1</td>\n",
       "    </tr>\n",
       "    <tr>\n",
       "      <th>19</th>\n",
       "      <td>1320</td>\n",
       "      <td>Jama</td>\n",
       "      <td>13444</td>\n",
       "      <td>12937</td>\n",
       "      <td>62.91</td>\n",
       "      <td>579.39</td>\n",
       "      <td>72.0</td>\n",
       "      <td>17.34</td>\n",
       "      <td>73</td>\n",
       "      <td>54.84</td>\n",
       "      <td>...</td>\n",
       "      <td>19.59</td>\n",
       "      <td>8.69</td>\n",
       "      <td>1</td>\n",
       "      <td>0</td>\n",
       "      <td>1</td>\n",
       "      <td>0</td>\n",
       "      <td>0</td>\n",
       "      <td>0</td>\n",
       "      <td>0</td>\n",
       "      <td>0</td>\n",
       "    </tr>\n",
       "    <tr>\n",
       "      <th>20</th>\n",
       "      <td>1321</td>\n",
       "      <td>Jaramijó</td>\n",
       "      <td>15783</td>\n",
       "      <td>14894</td>\n",
       "      <td>62.85</td>\n",
       "      <td>97.23</td>\n",
       "      <td>73.0</td>\n",
       "      <td>19.79</td>\n",
       "      <td>68</td>\n",
       "      <td>56.58</td>\n",
       "      <td>...</td>\n",
       "      <td>27.08</td>\n",
       "      <td>11.07</td>\n",
       "      <td>0</td>\n",
       "      <td>1</td>\n",
       "      <td>0</td>\n",
       "      <td>0</td>\n",
       "      <td>0</td>\n",
       "      <td>0</td>\n",
       "      <td>0</td>\n",
       "      <td>0</td>\n",
       "    </tr>\n",
       "    <tr>\n",
       "      <th>21</th>\n",
       "      <td>1322</td>\n",
       "      <td>San Vicente</td>\n",
       "      <td>12817</td>\n",
       "      <td>12246</td>\n",
       "      <td>62.85</td>\n",
       "      <td>709.42</td>\n",
       "      <td>55.0</td>\n",
       "      <td>19.79</td>\n",
       "      <td>68</td>\n",
       "      <td>56.58</td>\n",
       "      <td>...</td>\n",
       "      <td>27.08</td>\n",
       "      <td>11.07</td>\n",
       "      <td>3</td>\n",
       "      <td>1</td>\n",
       "      <td>0</td>\n",
       "      <td>0</td>\n",
       "      <td>0</td>\n",
       "      <td>0</td>\n",
       "      <td>0</td>\n",
       "      <td>0</td>\n",
       "    </tr>\n",
       "  </tbody>\n",
       "</table>\n",
       "<p>22 rows × 26 columns</p>\n",
       "</div>"
      ],
      "text/plain": [
       "    DPA_CANTON         CANTON  Poblacion Hombres 2022  Poblacion Mujeres 2022  \\\n",
       "0         1301     Portoviejo                  160935                  165707   \n",
       "1         1302        Bolívar                   23456                   22447   \n",
       "2         1303          Chone                   65100                   65024   \n",
       "3         1304      El Carmen                   58819                   56216   \n",
       "4         1305  Flavio Alfaro                   12004                   11245   \n",
       "5         1306       Jipijapa                   37734                   36626   \n",
       "6         1307          Junín                    9539                    8993   \n",
       "7         1308          Manta                  132375                  136738   \n",
       "8         1309    Montecristi                   58353                   57833   \n",
       "9         1310          Paján                   19269                   17309   \n",
       "10        1311      Pichincha                   15055                   14000   \n",
       "11        1312     Rocafuerte                   19028                   18606   \n",
       "12        1313      Santa Ana                   24221                   23418   \n",
       "13        1314          Sucre                   31757                   30960   \n",
       "14        1315        Tosagua                   21678                   20889   \n",
       "15        1316     24 De Mayo                   14490                   13560   \n",
       "16        1317     Pedernales                   33207                   31206   \n",
       "17        1318         Olmedo                    5228                    4896   \n",
       "18        1319   Puerto López                   13078                   12239   \n",
       "19        1320           Jama                   13444                   12937   \n",
       "20        1321       Jaramijó                   15783                   14894   \n",
       "21        1322    San Vicente                   12817                   12246   \n",
       "\n",
       "      PEA  Extension Territorial  % Poblacion Rural  \\\n",
       "0   59.28                 960.73               25.2   \n",
       "1   62.85                 538.20               55.0   \n",
       "2   59.20                3037.10               56.0   \n",
       "3   62.85                1732.00               48.0   \n",
       "4   62.91                1346.92               75.0   \n",
       "5   62.91                1467.45               43.0   \n",
       "6   62.85                 246.07               71.0   \n",
       "7   64.22                 303.31                4.0   \n",
       "8   62.85                 738.58               23.0   \n",
       "9   62.91                 841.44               82.0   \n",
       "10  62.91                1075.26               87.0   \n",
       "11  62.85                 279.65               73.0   \n",
       "12  62.85                1025.29               80.0   \n",
       "13  62.85                 764.00               65.0   \n",
       "14  62.85                 374.81               72.0   \n",
       "15  62.91                 525.91               83.0   \n",
       "16  62.91                1907.25               56.0   \n",
       "17  62.91                 253.88               79.0   \n",
       "18  62.91                 429.36               76.0   \n",
       "19  62.91                 579.39               72.0   \n",
       "20  62.85                  97.23               73.0   \n",
       "21  62.85                 709.42               55.0   \n",
       "\n",
       "    Ingreso Medio Hogares  USD (Mensual)  % Empleo Informal  \\\n",
       "0                                  31.95                 65   \n",
       "1                                  19.79                 68   \n",
       "2                                  30.06                 62   \n",
       "3                                  19.79                 68   \n",
       "4                                  17.34                 73   \n",
       "5                                  17.34                 73   \n",
       "6                                  19.79                 68   \n",
       "7                                  49.67                 56   \n",
       "8                                  19.79                 68   \n",
       "9                                  17.34                 73   \n",
       "10                                 17.34                 73   \n",
       "11                                 19.79                 68   \n",
       "12                                 19.79                 68   \n",
       "13                                 19.79                 68   \n",
       "14                                 19.79                 68   \n",
       "15                                 17.34                 73   \n",
       "16                                 17.34                 73   \n",
       "17                                 17.34                 73   \n",
       "18                                 17.34                 73   \n",
       "19                                 17.34                 73   \n",
       "20                                 19.79                 68   \n",
       "21                                 19.79                 68   \n",
       "\n",
       "    Acceso a Agua Mejorada  ...  Acceso a Internet  \\\n",
       "0                    88.43  ...              41.09   \n",
       "1                    56.58  ...              27.08   \n",
       "2                    56.00  ...              27.67   \n",
       "3                    56.58  ...              27.08   \n",
       "4                    54.84  ...              19.59   \n",
       "5                    54.84  ...              19.59   \n",
       "6                    56.58  ...              27.08   \n",
       "7                    98.00  ...              41.05   \n",
       "8                    56.58  ...              27.08   \n",
       "9                    54.84  ...              19.59   \n",
       "10                   54.84  ...              19.59   \n",
       "11                   56.58  ...              27.08   \n",
       "12                   56.58  ...              27.08   \n",
       "13                   56.58  ...              27.08   \n",
       "14                   56.58  ...              19.59   \n",
       "15                   54.84  ...              19.59   \n",
       "16                   54.84  ...              19.59   \n",
       "17                   54.84  ...              19.59   \n",
       "18                   54.84  ...              19.59   \n",
       "19                   54.84  ...              19.59   \n",
       "20                   56.58  ...              27.08   \n",
       "21                   56.58  ...              27.08   \n",
       "\n",
       "    Acceso Computadores (% Hogares)  Centro de Salud Tipo A  \\\n",
       "0                             27.38                      31   \n",
       "1                             11.07                       7   \n",
       "2                              9.77                      14   \n",
       "3                             11.07                       9   \n",
       "4                              8.69                       0   \n",
       "5                              8.69                       9   \n",
       "6                             11.07                       4   \n",
       "7                             18.43                      15   \n",
       "8                             11.07                       8   \n",
       "9                              8.69                       9   \n",
       "10                             8.69                       3   \n",
       "11                            11.07                       5   \n",
       "12                            11.07                       6   \n",
       "13                            11.07                       6   \n",
       "14                             8.69                       4   \n",
       "15                             8.69                       8   \n",
       "16                             8.69                       3   \n",
       "17                             8.69                       0   \n",
       "18                             8.69                       2   \n",
       "19                             8.69                       1   \n",
       "20                            11.07                       0   \n",
       "21                            11.07                       3   \n",
       "\n",
       "    Centro de Salud Tipo B  Centro de Salud Tipo C  Centros especializados  \\\n",
       "0                        3                       1                       2   \n",
       "1                        0                       0                       0   \n",
       "2                        0                       1                       0   \n",
       "3                        0                       0                       0   \n",
       "4                        1                       0                       0   \n",
       "5                        1                       0                       0   \n",
       "6                        0                       1                       0   \n",
       "7                        4                       1                       0   \n",
       "8                        2                       0                       0   \n",
       "9                        0                       0                       0   \n",
       "10                       1                       0                       0   \n",
       "11                       1                       0                       0   \n",
       "12                       0                       1                       0   \n",
       "13                       1                       0                       0   \n",
       "14                       0                       1                       0   \n",
       "15                       1                       0                       0   \n",
       "16                       2                       0                       0   \n",
       "17                       1                       0                       0   \n",
       "18                       0                       1                       0   \n",
       "19                       0                       1                       0   \n",
       "20                       1                       0                       0   \n",
       "21                       1                       0                       0   \n",
       "\n",
       "    Hospital Basico  Hospital de especialidades  Hospital General  \\\n",
       "0                 0                           1                 1   \n",
       "1                 1                           0                 0   \n",
       "2                 0                           0                 1   \n",
       "3                 1                           0                 0   \n",
       "4                 1                           0                 0   \n",
       "5                 1                           0                 0   \n",
       "6                 0                           0                 0   \n",
       "7                 0                           0                 1   \n",
       "8                 0                           0                 0   \n",
       "9                 1                           0                 0   \n",
       "10                1                           0                 0   \n",
       "11                1                           0                 0   \n",
       "12                0                           0                 0   \n",
       "13                0                           0                 1   \n",
       "14                0                           0                 0   \n",
       "15                0                           0                 0   \n",
       "16                0                           0                 0   \n",
       "17                0                           0                 0   \n",
       "18                0                           0                 0   \n",
       "19                0                           0                 0   \n",
       "20                0                           0                 0   \n",
       "21                0                           0                 0   \n",
       "\n",
       "    Puesto de Salud  \n",
       "0                 3  \n",
       "1                 0  \n",
       "2                 0  \n",
       "3                 0  \n",
       "4                 0  \n",
       "5                 2  \n",
       "6                 0  \n",
       "7                 1  \n",
       "8                 0  \n",
       "9                 1  \n",
       "10                0  \n",
       "11                0  \n",
       "12                0  \n",
       "13                2  \n",
       "14                0  \n",
       "15                0  \n",
       "16                0  \n",
       "17                0  \n",
       "18                1  \n",
       "19                0  \n",
       "20                0  \n",
       "21                0  \n",
       "\n",
       "[22 rows x 26 columns]"
      ]
     },
     "execution_count": 3,
     "metadata": {},
     "output_type": "execute_result"
    }
   ],
   "source": [
    "df"
   ]
  },
  {
   "cell_type": "code",
   "execution_count": 4,
   "id": "632ca758",
   "metadata": {},
   "outputs": [],
   "source": [
    "selection = df.loc[df['CANTON'] == \"Portoviejo\"]"
   ]
  },
  {
   "cell_type": "code",
   "execution_count": 5,
   "id": "e882def0",
   "metadata": {},
   "outputs": [
    {
     "data": {
      "text/html": [
       "<div>\n",
       "<style scoped>\n",
       "    .dataframe tbody tr th:only-of-type {\n",
       "        vertical-align: middle;\n",
       "    }\n",
       "\n",
       "    .dataframe tbody tr th {\n",
       "        vertical-align: top;\n",
       "    }\n",
       "\n",
       "    .dataframe thead th {\n",
       "        text-align: right;\n",
       "    }\n",
       "</style>\n",
       "<table border=\"1\" class=\"dataframe\">\n",
       "  <thead>\n",
       "    <tr style=\"text-align: right;\">\n",
       "      <th></th>\n",
       "      <th>DPA_CANTON</th>\n",
       "      <th>CANTON</th>\n",
       "      <th>Poblacion Hombres 2022</th>\n",
       "      <th>Poblacion Mujeres 2022</th>\n",
       "      <th>PEA</th>\n",
       "      <th>Extension Territorial</th>\n",
       "      <th>% Poblacion Rural</th>\n",
       "      <th>Ingreso Medio Hogares  USD (Mensual)</th>\n",
       "      <th>% Empleo Informal</th>\n",
       "      <th>Acceso a Agua Mejorada</th>\n",
       "      <th>...</th>\n",
       "      <th>Acceso a Internet</th>\n",
       "      <th>Acceso Computadores (% Hogares)</th>\n",
       "      <th>Centro de Salud Tipo A</th>\n",
       "      <th>Centro de Salud Tipo B</th>\n",
       "      <th>Centro de Salud Tipo C</th>\n",
       "      <th>Centros especializados</th>\n",
       "      <th>Hospital Basico</th>\n",
       "      <th>Hospital de especialidades</th>\n",
       "      <th>Hospital General</th>\n",
       "      <th>Puesto de Salud</th>\n",
       "    </tr>\n",
       "  </thead>\n",
       "  <tbody>\n",
       "    <tr>\n",
       "      <th>0</th>\n",
       "      <td>1301</td>\n",
       "      <td>Portoviejo</td>\n",
       "      <td>160935</td>\n",
       "      <td>165707</td>\n",
       "      <td>59.28</td>\n",
       "      <td>960.73</td>\n",
       "      <td>25.2</td>\n",
       "      <td>31.95</td>\n",
       "      <td>65</td>\n",
       "      <td>88.43</td>\n",
       "      <td>...</td>\n",
       "      <td>41.09</td>\n",
       "      <td>27.38</td>\n",
       "      <td>31</td>\n",
       "      <td>3</td>\n",
       "      <td>1</td>\n",
       "      <td>2</td>\n",
       "      <td>0</td>\n",
       "      <td>1</td>\n",
       "      <td>1</td>\n",
       "      <td>3</td>\n",
       "    </tr>\n",
       "  </tbody>\n",
       "</table>\n",
       "<p>1 rows × 26 columns</p>\n",
       "</div>"
      ],
      "text/plain": [
       "   DPA_CANTON      CANTON  Poblacion Hombres 2022  Poblacion Mujeres 2022  \\\n",
       "0        1301  Portoviejo                  160935                  165707   \n",
       "\n",
       "     PEA  Extension Territorial  % Poblacion Rural  \\\n",
       "0  59.28                 960.73               25.2   \n",
       "\n",
       "   Ingreso Medio Hogares  USD (Mensual)  % Empleo Informal  \\\n",
       "0                                 31.95                 65   \n",
       "\n",
       "   Acceso a Agua Mejorada  ...  Acceso a Internet  \\\n",
       "0                   88.43  ...              41.09   \n",
       "\n",
       "   Acceso Computadores (% Hogares)  Centro de Salud Tipo A  \\\n",
       "0                            27.38                      31   \n",
       "\n",
       "   Centro de Salud Tipo B  Centro de Salud Tipo C  Centros especializados  \\\n",
       "0                       3                       1                       2   \n",
       "\n",
       "   Hospital Basico  Hospital de especialidades  Hospital General  \\\n",
       "0                0                           1                 1   \n",
       "\n",
       "   Puesto de Salud  \n",
       "0                3  \n",
       "\n",
       "[1 rows x 26 columns]"
      ]
     },
     "execution_count": 5,
     "metadata": {},
     "output_type": "execute_result"
    }
   ],
   "source": [
    "selection"
   ]
  },
  {
   "cell_type": "markdown",
   "id": "87268932",
   "metadata": {},
   "source": [
    "#### GeoPandas"
   ]
  },
  {
   "cell_type": "code",
   "execution_count": 6,
   "id": "0072e2b7",
   "metadata": {},
   "outputs": [],
   "source": [
    "import geopandas as gpd\n",
    "import pyproj\n",
    "\n",
    "geo = gpd.read_file('ec.geojson', driver=\"GeoJSON\")\n",
    "geo.to_crs(pyproj.CRS.from_epsg(4326), inplace=True)"
   ]
  },
  {
   "cell_type": "code",
   "execution_count": 7,
   "id": "fbda24cb",
   "metadata": {},
   "outputs": [
    {
     "data": {
      "text/plain": [
       "Index(['DPA_VALOR', 'DPA_ANIO', 'DPA_CANTON', 'DPA_DESCAN', 'DPA_PROVIN',\n",
       "       'DPA_DESPRO', 'PCODE2', 'geometry'],\n",
       "      dtype='object')"
      ]
     },
     "execution_count": 7,
     "metadata": {},
     "output_type": "execute_result"
    }
   ],
   "source": [
    "geo.keys()"
   ]
  },
  {
   "cell_type": "code",
   "execution_count": 8,
   "id": "184f7310",
   "metadata": {
    "scrolled": true
   },
   "outputs": [
    {
     "data": {
      "text/html": [
       "<div>\n",
       "<style scoped>\n",
       "    .dataframe tbody tr th:only-of-type {\n",
       "        vertical-align: middle;\n",
       "    }\n",
       "\n",
       "    .dataframe tbody tr th {\n",
       "        vertical-align: top;\n",
       "    }\n",
       "\n",
       "    .dataframe thead th {\n",
       "        text-align: right;\n",
       "    }\n",
       "</style>\n",
       "<table border=\"1\" class=\"dataframe\">\n",
       "  <thead>\n",
       "    <tr style=\"text-align: right;\">\n",
       "      <th></th>\n",
       "      <th>DPA_VALOR</th>\n",
       "      <th>DPA_ANIO</th>\n",
       "      <th>DPA_CANTON</th>\n",
       "      <th>DPA_DESCAN</th>\n",
       "      <th>DPA_PROVIN</th>\n",
       "      <th>DPA_DESPRO</th>\n",
       "      <th>PCODE2</th>\n",
       "      <th>geometry</th>\n",
       "    </tr>\n",
       "  </thead>\n",
       "  <tbody>\n",
       "    <tr>\n",
       "      <th>0</th>\n",
       "      <td>0</td>\n",
       "      <td>2011</td>\n",
       "      <td>0101</td>\n",
       "      <td>CUENCA</td>\n",
       "      <td>01</td>\n",
       "      <td>AZUAY</td>\n",
       "      <td>EC0101</td>\n",
       "      <td>MULTIPOLYGON (((-79.39303 -2.49798, -79.39052 ...</td>\n",
       "    </tr>\n",
       "    <tr>\n",
       "      <th>1</th>\n",
       "      <td>0</td>\n",
       "      <td>2011</td>\n",
       "      <td>0102</td>\n",
       "      <td>GIRON</td>\n",
       "      <td>01</td>\n",
       "      <td>AZUAY</td>\n",
       "      <td>EC0102</td>\n",
       "      <td>MULTIPOLYGON (((-79.02892 -3.17588, -79.02701 ...</td>\n",
       "    </tr>\n",
       "    <tr>\n",
       "      <th>2</th>\n",
       "      <td>0</td>\n",
       "      <td>2011</td>\n",
       "      <td>0103</td>\n",
       "      <td>GUALACEO</td>\n",
       "      <td>01</td>\n",
       "      <td>AZUAY</td>\n",
       "      <td>EC0103</td>\n",
       "      <td>MULTIPOLYGON (((-78.63193 -2.93822, -78.63687 ...</td>\n",
       "    </tr>\n",
       "    <tr>\n",
       "      <th>3</th>\n",
       "      <td>0</td>\n",
       "      <td>2011</td>\n",
       "      <td>0104</td>\n",
       "      <td>NABON</td>\n",
       "      <td>01</td>\n",
       "      <td>AZUAY</td>\n",
       "      <td>EC0104</td>\n",
       "      <td>MULTIPOLYGON (((-78.93581 -3.28822, -78.93412 ...</td>\n",
       "    </tr>\n",
       "    <tr>\n",
       "      <th>4</th>\n",
       "      <td>0</td>\n",
       "      <td>2011</td>\n",
       "      <td>0105</td>\n",
       "      <td>PAUTE</td>\n",
       "      <td>01</td>\n",
       "      <td>AZUAY</td>\n",
       "      <td>EC0105</td>\n",
       "      <td>MULTIPOLYGON (((-78.64190 -2.72233, -78.64778 ...</td>\n",
       "    </tr>\n",
       "    <tr>\n",
       "      <th>...</th>\n",
       "      <td>...</td>\n",
       "      <td>...</td>\n",
       "      <td>...</td>\n",
       "      <td>...</td>\n",
       "      <td>...</td>\n",
       "      <td>...</td>\n",
       "      <td>...</td>\n",
       "      <td>...</td>\n",
       "    </tr>\n",
       "    <tr>\n",
       "      <th>219</th>\n",
       "      <td>0</td>\n",
       "      <td>2011</td>\n",
       "      <td>2402</td>\n",
       "      <td>LA LIBERTAD</td>\n",
       "      <td>24</td>\n",
       "      <td>SANTA ELENA</td>\n",
       "      <td>EC2402</td>\n",
       "      <td>MULTIPOLYGON (((-80.87062 -2.27018, -80.87315 ...</td>\n",
       "    </tr>\n",
       "    <tr>\n",
       "      <th>220</th>\n",
       "      <td>0</td>\n",
       "      <td>2011</td>\n",
       "      <td>2403</td>\n",
       "      <td>SALINAS</td>\n",
       "      <td>24</td>\n",
       "      <td>SANTA ELENA</td>\n",
       "      <td>EC2403</td>\n",
       "      <td>MULTIPOLYGON (((-80.92200 -2.21943, -80.92059 ...</td>\n",
       "    </tr>\n",
       "    <tr>\n",
       "      <th>221</th>\n",
       "      <td>0</td>\n",
       "      <td>2011</td>\n",
       "      <td>9001</td>\n",
       "      <td>LAS GOLONDRINAS</td>\n",
       "      <td>90</td>\n",
       "      <td>ZONA NO DELIMITADA</td>\n",
       "      <td>EC9001</td>\n",
       "      <td>MULTIPOLYGON (((-78.92286 0.35833, -78.92784 0...</td>\n",
       "    </tr>\n",
       "    <tr>\n",
       "      <th>222</th>\n",
       "      <td>0</td>\n",
       "      <td>2011</td>\n",
       "      <td>9003</td>\n",
       "      <td>MANGA DEL CURA</td>\n",
       "      <td>90</td>\n",
       "      <td>ZONA NO DELIMITADA</td>\n",
       "      <td>EC9003</td>\n",
       "      <td>MULTIPOLYGON (((-79.45992 -0.50373, -79.45941 ...</td>\n",
       "    </tr>\n",
       "    <tr>\n",
       "      <th>223</th>\n",
       "      <td>0</td>\n",
       "      <td>2011</td>\n",
       "      <td>9004</td>\n",
       "      <td>EL PIEDRERO</td>\n",
       "      <td>90</td>\n",
       "      <td>ZONA NO DELIMITADA</td>\n",
       "      <td>EC9004</td>\n",
       "      <td>MULTIPOLYGON (((-79.20889 -2.31277, -79.20559 ...</td>\n",
       "    </tr>\n",
       "  </tbody>\n",
       "</table>\n",
       "<p>224 rows × 8 columns</p>\n",
       "</div>"
      ],
      "text/plain": [
       "     DPA_VALOR DPA_ANIO DPA_CANTON       DPA_DESCAN DPA_PROVIN  \\\n",
       "0            0     2011       0101           CUENCA         01   \n",
       "1            0     2011       0102            GIRON         01   \n",
       "2            0     2011       0103         GUALACEO         01   \n",
       "3            0     2011       0104            NABON         01   \n",
       "4            0     2011       0105            PAUTE         01   \n",
       "..         ...      ...        ...              ...        ...   \n",
       "219          0     2011       2402      LA LIBERTAD         24   \n",
       "220          0     2011       2403          SALINAS         24   \n",
       "221          0     2011       9001  LAS GOLONDRINAS         90   \n",
       "222          0     2011       9003   MANGA DEL CURA         90   \n",
       "223          0     2011       9004      EL PIEDRERO         90   \n",
       "\n",
       "             DPA_DESPRO  PCODE2  \\\n",
       "0                 AZUAY  EC0101   \n",
       "1                 AZUAY  EC0102   \n",
       "2                 AZUAY  EC0103   \n",
       "3                 AZUAY  EC0104   \n",
       "4                 AZUAY  EC0105   \n",
       "..                  ...     ...   \n",
       "219         SANTA ELENA  EC2402   \n",
       "220         SANTA ELENA  EC2403   \n",
       "221  ZONA NO DELIMITADA  EC9001   \n",
       "222  ZONA NO DELIMITADA  EC9003   \n",
       "223  ZONA NO DELIMITADA  EC9004   \n",
       "\n",
       "                                              geometry  \n",
       "0    MULTIPOLYGON (((-79.39303 -2.49798, -79.39052 ...  \n",
       "1    MULTIPOLYGON (((-79.02892 -3.17588, -79.02701 ...  \n",
       "2    MULTIPOLYGON (((-78.63193 -2.93822, -78.63687 ...  \n",
       "3    MULTIPOLYGON (((-78.93581 -3.28822, -78.93412 ...  \n",
       "4    MULTIPOLYGON (((-78.64190 -2.72233, -78.64778 ...  \n",
       "..                                                 ...  \n",
       "219  MULTIPOLYGON (((-80.87062 -2.27018, -80.87315 ...  \n",
       "220  MULTIPOLYGON (((-80.92200 -2.21943, -80.92059 ...  \n",
       "221  MULTIPOLYGON (((-78.92286 0.35833, -78.92784 0...  \n",
       "222  MULTIPOLYGON (((-79.45992 -0.50373, -79.45941 ...  \n",
       "223  MULTIPOLYGON (((-79.20889 -2.31277, -79.20559 ...  \n",
       "\n",
       "[224 rows x 8 columns]"
      ]
     },
     "execution_count": 8,
     "metadata": {},
     "output_type": "execute_result"
    }
   ],
   "source": [
    "geo"
   ]
  },
  {
   "cell_type": "code",
   "execution_count": 9,
   "id": "a65ef861",
   "metadata": {},
   "outputs": [],
   "source": [
    "selection_map = geo.loc[geo['DPA_CANTON'] == str(selection['DPA_CANTON'].values[0])]"
   ]
  },
  {
   "cell_type": "code",
   "execution_count": 10,
   "id": "bd58ae63",
   "metadata": {},
   "outputs": [
    {
     "data": {
      "text/html": [
       "<div>\n",
       "<style scoped>\n",
       "    .dataframe tbody tr th:only-of-type {\n",
       "        vertical-align: middle;\n",
       "    }\n",
       "\n",
       "    .dataframe tbody tr th {\n",
       "        vertical-align: top;\n",
       "    }\n",
       "\n",
       "    .dataframe thead th {\n",
       "        text-align: right;\n",
       "    }\n",
       "</style>\n",
       "<table border=\"1\" class=\"dataframe\">\n",
       "  <thead>\n",
       "    <tr style=\"text-align: right;\">\n",
       "      <th></th>\n",
       "      <th>DPA_VALOR</th>\n",
       "      <th>DPA_ANIO</th>\n",
       "      <th>DPA_CANTON</th>\n",
       "      <th>DPA_DESCAN</th>\n",
       "      <th>DPA_PROVIN</th>\n",
       "      <th>DPA_DESPRO</th>\n",
       "      <th>PCODE2</th>\n",
       "      <th>geometry</th>\n",
       "    </tr>\n",
       "  </thead>\n",
       "  <tbody>\n",
       "    <tr>\n",
       "      <th>134</th>\n",
       "      <td>0</td>\n",
       "      <td>2011</td>\n",
       "      <td>1301</td>\n",
       "      <td>PORTOVIEJO</td>\n",
       "      <td>13</td>\n",
       "      <td>MANABI</td>\n",
       "      <td>EC1301</td>\n",
       "      <td>MULTIPOLYGON (((-80.49285 -0.86898, -80.50286 ...</td>\n",
       "    </tr>\n",
       "  </tbody>\n",
       "</table>\n",
       "</div>"
      ],
      "text/plain": [
       "     DPA_VALOR DPA_ANIO DPA_CANTON  DPA_DESCAN DPA_PROVIN DPA_DESPRO  PCODE2  \\\n",
       "134          0     2011       1301  PORTOVIEJO         13     MANABI  EC1301   \n",
       "\n",
       "                                              geometry  \n",
       "134  MULTIPOLYGON (((-80.49285 -0.86898, -80.50286 ...  "
      ]
     },
     "execution_count": 10,
     "metadata": {},
     "output_type": "execute_result"
    }
   ],
   "source": [
    "selection_map"
   ]
  },
  {
   "cell_type": "code",
   "execution_count": 74,
   "id": "732ba160",
   "metadata": {
    "scrolled": false
   },
   "outputs": [
    {
     "data": {
      "application/vnd.plotly.v1+json": {
       "config": {
        "plotlyServerURL": "https://plot.ly"
       },
       "data": [
        {
         "colorscale": [
          [
           0,
           "rgb(179,226,205)"
          ],
          [
           1,
           "rgb(179,226,205)"
          ]
         ],
         "geo": "geo",
         "geojson": {
          "bbox": [
           -80.58521689,
           -1.20080628,
           -80.01084366,
           -0.79752912
          ],
          "features": [
           {
            "bbox": [
             -80.58521689,
             -1.20080628,
             -80.01084366,
             -0.79752912
            ],
            "geometry": {
             "coordinates": [
              [
               [
                [
                 -80.49284921,
                 -0.86897658
                ],
                [
                 -80.50286113,
                 -0.87056679
                ],
                [
                 -80.505941,
                 -0.87752398
                ],
                [
                 -80.50375592,
                 -0.88462438
                ],
                [
                 -80.50821766,
                 -0.88884331
                ],
                [
                 -80.50608497,
                 -0.89498645
                ],
                [
                 -80.50988868,
                 -0.89681737
                ],
                [
                 -80.51333605,
                 -0.9064958
                ],
                [
                 -80.52241689,
                 -0.91103095
                ],
                [
                 -80.53242719,
                 -0.92100483
                ],
                [
                 -80.5378615,
                 -0.92071097
                ],
                [
                 -80.54182124,
                 -0.92867485
                ],
                [
                 -80.5379011,
                 -0.92850074
                ],
                [
                 -80.52749286,
                 -0.93199155
                ],
                [
                 -80.52509491,
                 -0.9372101
                ],
                [
                 -80.52160482,
                 -0.93844222
                ],
                [
                 -80.51612404,
                 -0.94601177
                ],
                [
                 -80.50644953,
                 -0.96236413
                ],
                [
                 -80.49948138,
                 -0.9580578
                ],
                [
                 -80.48731905,
                 -0.95608192
                ],
                [
                 -80.48766069,
                 -0.96013367
                ],
                [
                 -80.48519115,
                 -0.96016809
                ],
                [
                 -80.4841642,
                 -0.96178327
                ],
                [
                 -80.45036032,
                 -0.96335144
                ],
                [
                 -80.45142342,
                 -0.96506203
                ],
                [
                 -80.44775799,
                 -0.97158149
                ],
                [
                 -80.44582647,
                 -0.97084947
                ],
                [
                 -80.44478058,
                 -0.9727344
                ],
                [
                 -80.44334355,
                 -0.97196232
                ],
                [
                 -80.44143896,
                 -0.97362868
                ],
                [
                 -80.43742014,
                 -0.9734904
                ],
                [
                 -80.43637288,
                 -0.9716508
                ],
                [
                 -80.43112512,
                 -0.97381925
                ],
                [
                 -80.42509858,
                 -0.96323813
                ],
                [
                 -80.42437931,
                 -0.95579881
                ],
                [
                 -80.41625248,
                 -0.95394013
                ],
                [
                 -80.4102755,
                 -0.95467143
                ],
                [
                 -80.40554779,
                 -0.95042164
                ],
                [
                 -80.40184709,
                 -0.95176109
                ],
                [
                 -80.39974925,
                 -0.95461973
                ],
                [
                 -80.39258004,
                 -0.95486818
                ],
                [
                 -80.38974623,
                 -0.95264371
                ],
                [
                 -80.38482934,
                 -0.95525907
                ],
                [
                 -80.37101331,
                 -0.9446348
                ],
                [
                 -80.36032656,
                 -0.95426026
                ],
                [
                 -80.34816487,
                 -0.95119013
                ],
                [
                 -80.34592184,
                 -0.95181735
                ],
                [
                 -80.34367657,
                 -0.9552784
                ],
                [
                 -80.33827262,
                 -0.94780456
                ],
                [
                 -80.33279201,
                 -0.95248253
                ],
                [
                 -80.32687871,
                 -0.95098203
                ],
                [
                 -80.32169899,
                 -0.95473347
                ],
                [
                 -80.30665341,
                 -0.9468982
                ],
                [
                 -80.30452322,
                 -0.9427943
                ],
                [
                 -80.29597566,
                 -0.9477619
                ],
                [
                 -80.28367568,
                 -0.96116865
                ],
                [
                 -80.27778218,
                 -0.96283319
                ],
                [
                 -80.27182887,
                 -0.97229731
                ],
                [
                 -80.26452074,
                 -0.97540369
                ],
                [
                 -80.2641641,
                 -0.97969729
                ],
                [
                 -80.26028263,
                 -0.97951734
                ],
                [
                 -80.25830564,
                 -0.98287575
                ],
                [
                 -80.25895273,
                 -0.98524562
                ],
                [
                 -80.25377725,
                 -0.98851508
                ],
                [
                 -80.25478104,
                 -0.99607233
                ],
                [
                 -80.25106908,
                 -1.00213965
                ],
                [
                 -80.22992962,
                 -1.00469514
                ],
                [
                 -80.22628362,
                 -1.00219607
                ],
                [
                 -80.21895241,
                 -1.00192604
                ],
                [
                 -80.21491641,
                 -1.00537808
                ],
                [
                 -80.21324248,
                 -1.0026194
                ],
                [
                 -80.20509378,
                 -1.00272116
                ],
                [
                 -80.20379225,
                 -0.99949001
                ],
                [
                 -80.20033838,
                 -0.99869994
                ],
                [
                 -80.20094522,
                 -0.99370638
                ],
                [
                 -80.19875771,
                 -0.98917097
                ],
                [
                 -80.19096732,
                 -0.9863726
                ],
                [
                 -80.18559477,
                 -0.98149779
                ],
                [
                 -80.17216649,
                 -0.98205316
                ],
                [
                 -80.16779261,
                 -0.97423609
                ],
                [
                 -80.15926358,
                 -0.97371177
                ],
                [
                 -80.15391812,
                 -0.97766961
                ],
                [
                 -80.13765498,
                 -0.9848233
                ],
                [
                 -80.13484458,
                 -0.987765
                ],
                [
                 -80.13530936,
                 -0.99269076
                ],
                [
                 -80.13742836,
                 -0.99239132
                ],
                [
                 -80.13957263,
                 -0.99721346
                ],
                [
                 -80.13940705,
                 -1.00667993
                ],
                [
                 -80.13077319,
                 -1.00590752
                ],
                [
                 -80.12671363,
                 -1.00799984
                ],
                [
                 -80.12137519,
                 -1.0168777
                ],
                [
                 -80.11084192,
                 -1.01993657
                ],
                [
                 -80.11329508,
                 -1.02935276
                ],
                [
                 -80.11633981,
                 -1.03287535
                ],
                [
                 -80.11092339,
                 -1.03308416
                ],
                [
                 -80.10983265,
                 -1.03630748
                ],
                [
                 -80.1066927,
                 -1.03795722
                ],
                [
                 -80.10221275,
                 -1.0372333
                ],
                [
                 -80.09990963,
                 -1.03423308
                ],
                [
                 -80.09469163,
                 -1.03372341
                ],
                [
                 -80.09175821,
                 -1.03504049
                ],
                [
                 -80.09038929,
                 -1.03861875
                ],
                [
                 -80.08699962,
                 -1.03800941
                ],
                [
                 -80.08555711,
                 -1.04030012
                ],
                [
                 -80.08255273,
                 -1.03304924
                ],
                [
                 -80.07969757,
                 -1.0328618
                ],
                [
                 -80.07314508,
                 -1.02670797
                ],
                [
                 -80.07251764,
                 -1.0241227
                ],
                [
                 -80.07395787,
                 -1.02159725
                ],
                [
                 -80.07121938,
                 -1.02079535
                ],
                [
                 -80.06308371,
                 -1.02089415
                ],
                [
                 -80.05679273,
                 -1.02421125
                ],
                [
                 -80.05289057,
                 -1.02181101
                ],
                [
                 -80.05283131,
                 -1.01948202
                ],
                [
                 -80.04909994,
                 -1.01883213
                ],
                [
                 -80.03063171,
                 -1.02456903
                ],
                [
                 -80.02799591,
                 -1.02037115
                ],
                [
                 -80.02233289,
                 -1.0235762
                ],
                [
                 -80.02086718,
                 -1.02615686
                ],
                [
                 -80.01472184,
                 -1.02347515
                ],
                [
                 -80.0138539,
                 -1.03023806
                ],
                [
                 -80.01084366,
                 -1.03449862
                ],
                [
                 -80.01452235,
                 -1.03802142
                ],
                [
                 -80.01419432,
                 -1.04785693
                ],
                [
                 -80.01615693,
                 -1.04991873
                ],
                [
                 -80.0197632,
                 -1.05043206
                ],
                [
                 -80.01822373,
                 -1.05997031
                ],
                [
                 -80.02399373,
                 -1.06797365
                ],
                [
                 -80.02648093,
                 -1.06709553
                ],
                [
                 -80.02470961,
                 -1.06970365
                ],
                [
                 -80.0264687,
                 -1.07419163
                ],
                [
                 -80.03014415,
                 -1.07277769
                ],
                [
                 -80.03515036,
                 -1.07534645
                ],
                [
                 -80.04256234,
                 -1.06677185
                ],
                [
                 -80.05257516,
                 -1.06349275
                ],
                [
                 -80.05589455,
                 -1.064655
                ],
                [
                 -80.06630765,
                 -1.06289009
                ],
                [
                 -80.07219314,
                 -1.06449435
                ],
                [
                 -80.07771701,
                 -1.06219551
                ],
                [
                 -80.08025409,
                 -1.06557755
                ],
                [
                 -80.08513526,
                 -1.06618958
                ],
                [
                 -80.08742074,
                 -1.06919641
                ],
                [
                 -80.09199493,
                 -1.07009328
                ],
                [
                 -80.09300011,
                 -1.07290548
                ],
                [
                 -80.09859285,
                 -1.07029788
                ],
                [
                 -80.10421974,
                 -1.07136253
                ],
                [
                 -80.10826241,
                 -1.07463878
                ],
                [
                 -80.10972118,
                 -1.07868466
                ],
                [
                 -80.12243709,
                 -1.08697905
                ],
                [
                 -80.12257297,
                 -1.09169727
                ],
                [
                 -80.12470808,
                 -1.09183833
                ],
                [
                 -80.12661943,
                 -1.09735032
                ],
                [
                 -80.13068411,
                 -1.09804696
                ],
                [
                 -80.13508386,
                 -1.09731351
                ],
                [
                 -80.13832612,
                 -1.07997275
                ],
                [
                 -80.14498161,
                 -1.08349506
                ],
                [
                 -80.14624818,
                 -1.08836539
                ],
                [
                 -80.1499188,
                 -1.08278821
                ],
                [
                 -80.15679244,
                 -1.08080219
                ],
                [
                 -80.16493041,
                 -1.08634614
                ],
                [
                 -80.1707541,
                 -1.08347245
                ],
                [
                 -80.17520627,
                 -1.0876753
                ],
                [
                 -80.1814946,
                 -1.08271184
                ],
                [
                 -80.18954077,
                 -1.08500868
                ],
                [
                 -80.19957301,
                 -1.0820182
                ],
                [
                 -80.20580771,
                 -1.08530767
                ],
                [
                 -80.20830649,
                 -1.08292706
                ],
                [
                 -80.21097445,
                 -1.08287982
                ],
                [
                 -80.21497563,
                 -1.08546733
                ],
                [
                 -80.22055427,
                 -1.08069225
                ],
                [
                 -80.22427121,
                 -1.08038233
                ],
                [
                 -80.2310888,
                 -1.08460008
                ],
                [
                 -80.23128711,
                 -1.0890246
                ],
                [
                 -80.23363079,
                 -1.09053847
                ],
                [
                 -80.23596158,
                 -1.08906115
                ],
                [
                 -80.24616609,
                 -1.09000673
                ],
                [
                 -80.25420148,
                 -1.08678979
                ],
                [
                 -80.26264416,
                 -1.08915509
                ],
                [
                 -80.26543471,
                 -1.09374593
                ],
                [
                 -80.26759405,
                 -1.09210534
                ],
                [
                 -80.27190938,
                 -1.09421337
                ],
                [
                 -80.27751051,
                 -1.09271595
                ],
                [
                 -80.2816806,
                 -1.09639448
                ],
                [
                 -80.28672269,
                 -1.09728388
                ],
                [
                 -80.29281126,
                 -1.10592908
                ],
                [
                 -80.29564675,
                 -1.10693275
                ],
                [
                 -80.2941396,
                 -1.11018598
                ],
                [
                 -80.29878786,
                 -1.11007346
                ],
                [
                 -80.3010526,
                 -1.10783437
                ],
                [
                 -80.30479704,
                 -1.10907883
                ],
                [
                 -80.30825523,
                 -1.10644318
                ],
                [
                 -80.32359171,
                 -1.11650404
                ],
                [
                 -80.3283882,
                 -1.13396582
                ],
                [
                 -80.33104167,
                 -1.13489625
                ],
                [
                 -80.3323272,
                 -1.14062911
                ],
                [
                 -80.34146196,
                 -1.15170126
                ],
                [
                 -80.35020622,
                 -1.15166345
                ],
                [
                 -80.353763,
                 -1.15524508
                ],
                [
                 -80.36641372,
                 -1.1577785
                ],
                [
                 -80.37872047,
                 -1.15800379
                ],
                [
                 -80.37895402,
                 -1.15582103
                ],
                [
                 -80.38172441,
                 -1.15478855
                ],
                [
                 -80.3818334,
                 -1.15645929
                ],
                [
                 -80.38537209,
                 -1.15697723
                ],
                [
                 -80.3842542,
                 -1.15940093
                ],
                [
                 -80.38680293,
                 -1.16267718
                ],
                [
                 -80.38969264,
                 -1.16392691
                ],
                [
                 -80.39110183,
                 -1.16111335
                ],
                [
                 -80.39698281,
                 -1.16188919
                ],
                [
                 -80.41308513,
                 -1.17228764
                ],
                [
                 -80.42498055,
                 -1.17427137
                ],
                [
                 -80.42859227,
                 -1.17344517
                ],
                [
                 -80.43364732,
                 -1.16782229
                ],
                [
                 -80.44077214,
                 -1.16778542
                ],
                [
                 -80.44560909,
                 -1.16300892
                ],
                [
                 -80.45035181,
                 -1.16437878
                ],
                [
                 -80.45321241,
                 -1.16234338
                ],
                [
                 -80.45612601,
                 -1.16367137
                ],
                [
                 -80.46707482,
                 -1.16369264
                ],
                [
                 -80.46843458,
                 -1.16650781
                ],
                [
                 -80.47536889,
                 -1.16807935
                ],
                [
                 -80.47713227,
                 -1.17011903
                ],
                [
                 -80.48260757,
                 -1.16986158
                ],
                [
                 -80.48603243,
                 -1.16781324
                ],
                [
                 -80.49640627,
                 -1.17528526
                ],
                [
                 -80.51054159,
                 -1.18183057
                ],
                [
                 -80.51863676,
                 -1.18922959
                ],
                [
                 -80.53006996,
                 -1.19502537
                ],
                [
                 -80.52909179,
                 -1.19820031
                ],
                [
                 -80.53030444,
                 -1.20080628
                ],
                [
                 -80.53618367,
                 -1.2007233
                ],
                [
                 -80.53798589,
                 -1.19514707
                ],
                [
                 -80.54113819,
                 -1.19236143
                ],
                [
                 -80.53940923,
                 -1.18811666
                ],
                [
                 -80.53850186,
                 -1.17444566
                ],
                [
                 -80.53298142,
                 -1.16903268
                ],
                [
                 -80.53262335,
                 -1.16622322
                ],
                [
                 -80.5371579,
                 -1.16494696
                ],
                [
                 -80.54326357,
                 -1.15943623
                ],
                [
                 -80.54352658,
                 -1.14810216
                ],
                [
                 -80.54493055,
                 -1.14699551
                ],
                [
                 -80.54950042,
                 -1.14767038
                ],
                [
                 -80.55138904,
                 -1.14403569
                ],
                [
                 -80.5473764,
                 -1.14013319
                ],
                [
                 -80.547287,
                 -1.13467333
                ],
                [
                 -80.55397063,
                 -1.12347638
                ],
                [
                 -80.55436252,
                 -1.11635699
                ],
                [
                 -80.55194064,
                 -1.10843817
                ],
                [
                 -80.54769458,
                 -1.10598671
                ],
                [
                 -80.53910813,
                 -1.1068388
                ],
                [
                 -80.53033088,
                 -1.10532451
                ],
                [
                 -80.525697,
                 -1.10170863
                ],
                [
                 -80.51864936,
                 -1.09911773
                ],
                [
                 -80.51751727,
                 -1.09707034
                ],
                [
                 -80.51944002,
                 -1.09245435
                ],
                [
                 -80.5193063,
                 -1.08777515
                ],
                [
                 -80.51594162,
                 -1.08349133
                ],
                [
                 -80.5157286,
                 -1.08044431
                ],
                [
                 -80.51720931,
                 -1.07898947
                ],
                [
                 -80.53083829,
                 -1.08218708
                ],
                [
                 -80.53885645,
                 -1.06721688
                ],
                [
                 -80.54273081,
                 -1.06691541
                ],
                [
                 -80.54633088,
                 -1.06276997
                ],
                [
                 -80.5439837,
                 -1.06065735
                ],
                [
                 -80.54656812,
                 -1.05923172
                ],
                [
                 -80.54741128,
                 -1.05647107
                ],
                [
                 -80.5475534,
                 -1.05505808
                ],
                [
                 -80.54524794,
                 -1.05410282
                ],
                [
                 -80.54495849,
                 -1.05066904
                ],
                [
                 -80.54832396,
                 -1.03813073
                ],
                [
                 -80.54461551,
                 -1.03304424
                ],
                [
                 -80.54175158,
                 -1.03206002
                ],
                [
                 -80.53832887,
                 -1.02106856
                ],
                [
                 -80.53954357,
                 -1.01982087
                ],
                [
                 -80.53454266,
                 -1.01675989
                ],
                [
                 -80.53270125,
                 -1.00837008
                ],
                [
                 -80.54224629,
                 -1.00520469
                ],
                [
                 -80.542854,
                 -0.99109743
                ],
                [
                 -80.55253928,
                 -0.98051276
                ],
                [
                 -80.5573787,
                 -0.9668354
                ],
                [
                 -80.5535908,
                 -0.9618612
                ],
                [
                 -80.55266543,
                 -0.95632178
                ],
                [
                 -80.55876901,
                 -0.95318772
                ],
                [
                 -80.564402,
                 -0.95260987
                ],
                [
                 -80.56299517,
                 -0.94983751
                ],
                [
                 -80.5647323,
                 -0.94647538
                ],
                [
                 -80.56937211,
                 -0.9442629
                ],
                [
                 -80.57528713,
                 -0.93592412
                ],
                [
                 -80.58091908,
                 -0.93562584
                ],
                [
                 -80.58314255,
                 -0.93403109
                ],
                [
                 -80.58453648,
                 -0.93101158
                ],
                [
                 -80.58367564,
                 -0.9289302
                ],
                [
                 -80.58521689,
                 -0.92789202
                ],
                [
                 -80.55902452,
                 -0.90029595
                ],
                [
                 -80.54226826,
                 -0.87420351
                ],
                [
                 -80.52790628,
                 -0.82951274
                ],
                [
                 -80.52224493,
                 -0.80102594
                ],
                [
                 -80.51688321,
                 -0.79752912
                ],
                [
                 -80.51817365,
                 -0.79978478
                ],
                [
                 -80.51494,
                 -0.80199572
                ],
                [
                 -80.51785669,
                 -0.80310198
                ],
                [
                 -80.51438278,
                 -0.80564396
                ],
                [
                 -80.51839301,
                 -0.80464589
                ],
                [
                 -80.5160824,
                 -0.80688157
                ],
                [
                 -80.51809672,
                 -0.80935314
                ],
                [
                 -80.51626035,
                 -0.80948808
                ],
                [
                 -80.51531716,
                 -0.81369653
                ],
                [
                 -80.51295347,
                 -0.81383143
                ],
                [
                 -80.5156323,
                 -0.8155383
                ],
                [
                 -80.51445327,
                 -0.81774133
                ],
                [
                 -80.51193848,
                 -0.81574884
                ],
                [
                 -80.51076664,
                 -0.81777547
                ],
                [
                 -80.51442575,
                 -0.82281739
                ],
                [
                 -80.51171534,
                 -0.82330001
                ],
                [
                 -80.5131376,
                 -0.82438294
                ],
                [
                 -80.51036954,
                 -0.82678022
                ],
                [
                 -80.51213027,
                 -0.82753346
                ],
                [
                 -80.50979617,
                 -0.82907827
                ],
                [
                 -80.5107456,
                 -0.83219967
                ],
                [
                 -80.50876542,
                 -0.83102239
                ],
                [
                 -80.50936792,
                 -0.83445697
                ],
                [
                 -80.50615314,
                 -0.83469699
                ],
                [
                 -80.50579242,
                 -0.83299705
                ],
                [
                 -80.50424461,
                 -0.8344507
                ],
                [
                 -80.5035495,
                 -0.83980265
                ],
                [
                 -80.50091543,
                 -0.84422185
                ],
                [
                 -80.50228558,
                 -0.84518171
                ],
                [
                 -80.49885118,
                 -0.84604419
                ],
                [
                 -80.50081667,
                 -0.84737305
                ],
                [
                 -80.4985072,
                 -0.84892544
                ],
                [
                 -80.49907659,
                 -0.85076514
                ],
                [
                 -80.49698744,
                 -0.85313417
                ],
                [
                 -80.49432014,
                 -0.85258578
                ],
                [
                 -80.49220849,
                 -0.85514319
                ],
                [
                 -80.49392079,
                 -0.85856164
                ],
                [
                 -80.49307733,
                 -0.86277192
                ],
                [
                 -80.49165694,
                 -0.86341496
                ],
                [
                 -80.49284921,
                 -0.86897658
                ]
               ]
              ]
             ],
             "type": "MultiPolygon"
            },
            "id": "PORTOVIEJO",
            "properties": {},
            "type": "Feature"
           }
          ],
          "type": "FeatureCollection"
         },
         "hovertemplate": "locations=%{location}<extra></extra>",
         "locations": [
          "PORTOVIEJO"
         ],
         "name": "",
         "showlegend": true,
         "showscale": false,
         "type": "choropleth",
         "visible": true,
         "z": [
          1
         ]
        }
       ],
       "layout": {
        "autosize": false,
        "geo": {
         "center": {},
         "domain": {
          "x": [
           0,
           1
          ],
          "y": [
           0,
           1
          ]
         },
         "fitbounds": "locations",
         "visible": false
        },
        "height": 200,
        "legend": {
         "tracegroupgap": 0
        },
        "margin": {
         "b": 0,
         "l": 0,
         "r": 0,
         "t": 0
        },
        "showlegend": false,
        "template": {
         "data": {
          "bar": [
           {
            "error_x": {
             "color": "#2a3f5f"
            },
            "error_y": {
             "color": "#2a3f5f"
            },
            "marker": {
             "line": {
              "color": "#E5ECF6",
              "width": 0.5
             },
             "pattern": {
              "fillmode": "overlay",
              "size": 10,
              "solidity": 0.2
             }
            },
            "type": "bar"
           }
          ],
          "barpolar": [
           {
            "marker": {
             "line": {
              "color": "#E5ECF6",
              "width": 0.5
             },
             "pattern": {
              "fillmode": "overlay",
              "size": 10,
              "solidity": 0.2
             }
            },
            "type": "barpolar"
           }
          ],
          "carpet": [
           {
            "aaxis": {
             "endlinecolor": "#2a3f5f",
             "gridcolor": "white",
             "linecolor": "white",
             "minorgridcolor": "white",
             "startlinecolor": "#2a3f5f"
            },
            "baxis": {
             "endlinecolor": "#2a3f5f",
             "gridcolor": "white",
             "linecolor": "white",
             "minorgridcolor": "white",
             "startlinecolor": "#2a3f5f"
            },
            "type": "carpet"
           }
          ],
          "choropleth": [
           {
            "colorbar": {
             "outlinewidth": 0,
             "ticks": ""
            },
            "type": "choropleth"
           }
          ],
          "contour": [
           {
            "colorbar": {
             "outlinewidth": 0,
             "ticks": ""
            },
            "colorscale": [
             [
              0,
              "#0d0887"
             ],
             [
              0.1111111111111111,
              "#46039f"
             ],
             [
              0.2222222222222222,
              "#7201a8"
             ],
             [
              0.3333333333333333,
              "#9c179e"
             ],
             [
              0.4444444444444444,
              "#bd3786"
             ],
             [
              0.5555555555555556,
              "#d8576b"
             ],
             [
              0.6666666666666666,
              "#ed7953"
             ],
             [
              0.7777777777777778,
              "#fb9f3a"
             ],
             [
              0.8888888888888888,
              "#fdca26"
             ],
             [
              1,
              "#f0f921"
             ]
            ],
            "type": "contour"
           }
          ],
          "contourcarpet": [
           {
            "colorbar": {
             "outlinewidth": 0,
             "ticks": ""
            },
            "type": "contourcarpet"
           }
          ],
          "heatmap": [
           {
            "colorbar": {
             "outlinewidth": 0,
             "ticks": ""
            },
            "colorscale": [
             [
              0,
              "#0d0887"
             ],
             [
              0.1111111111111111,
              "#46039f"
             ],
             [
              0.2222222222222222,
              "#7201a8"
             ],
             [
              0.3333333333333333,
              "#9c179e"
             ],
             [
              0.4444444444444444,
              "#bd3786"
             ],
             [
              0.5555555555555556,
              "#d8576b"
             ],
             [
              0.6666666666666666,
              "#ed7953"
             ],
             [
              0.7777777777777778,
              "#fb9f3a"
             ],
             [
              0.8888888888888888,
              "#fdca26"
             ],
             [
              1,
              "#f0f921"
             ]
            ],
            "type": "heatmap"
           }
          ],
          "heatmapgl": [
           {
            "colorbar": {
             "outlinewidth": 0,
             "ticks": ""
            },
            "colorscale": [
             [
              0,
              "#0d0887"
             ],
             [
              0.1111111111111111,
              "#46039f"
             ],
             [
              0.2222222222222222,
              "#7201a8"
             ],
             [
              0.3333333333333333,
              "#9c179e"
             ],
             [
              0.4444444444444444,
              "#bd3786"
             ],
             [
              0.5555555555555556,
              "#d8576b"
             ],
             [
              0.6666666666666666,
              "#ed7953"
             ],
             [
              0.7777777777777778,
              "#fb9f3a"
             ],
             [
              0.8888888888888888,
              "#fdca26"
             ],
             [
              1,
              "#f0f921"
             ]
            ],
            "type": "heatmapgl"
           }
          ],
          "histogram": [
           {
            "marker": {
             "pattern": {
              "fillmode": "overlay",
              "size": 10,
              "solidity": 0.2
             }
            },
            "type": "histogram"
           }
          ],
          "histogram2d": [
           {
            "colorbar": {
             "outlinewidth": 0,
             "ticks": ""
            },
            "colorscale": [
             [
              0,
              "#0d0887"
             ],
             [
              0.1111111111111111,
              "#46039f"
             ],
             [
              0.2222222222222222,
              "#7201a8"
             ],
             [
              0.3333333333333333,
              "#9c179e"
             ],
             [
              0.4444444444444444,
              "#bd3786"
             ],
             [
              0.5555555555555556,
              "#d8576b"
             ],
             [
              0.6666666666666666,
              "#ed7953"
             ],
             [
              0.7777777777777778,
              "#fb9f3a"
             ],
             [
              0.8888888888888888,
              "#fdca26"
             ],
             [
              1,
              "#f0f921"
             ]
            ],
            "type": "histogram2d"
           }
          ],
          "histogram2dcontour": [
           {
            "colorbar": {
             "outlinewidth": 0,
             "ticks": ""
            },
            "colorscale": [
             [
              0,
              "#0d0887"
             ],
             [
              0.1111111111111111,
              "#46039f"
             ],
             [
              0.2222222222222222,
              "#7201a8"
             ],
             [
              0.3333333333333333,
              "#9c179e"
             ],
             [
              0.4444444444444444,
              "#bd3786"
             ],
             [
              0.5555555555555556,
              "#d8576b"
             ],
             [
              0.6666666666666666,
              "#ed7953"
             ],
             [
              0.7777777777777778,
              "#fb9f3a"
             ],
             [
              0.8888888888888888,
              "#fdca26"
             ],
             [
              1,
              "#f0f921"
             ]
            ],
            "type": "histogram2dcontour"
           }
          ],
          "mesh3d": [
           {
            "colorbar": {
             "outlinewidth": 0,
             "ticks": ""
            },
            "type": "mesh3d"
           }
          ],
          "parcoords": [
           {
            "line": {
             "colorbar": {
              "outlinewidth": 0,
              "ticks": ""
             }
            },
            "type": "parcoords"
           }
          ],
          "pie": [
           {
            "automargin": true,
            "type": "pie"
           }
          ],
          "scatter": [
           {
            "marker": {
             "colorbar": {
              "outlinewidth": 0,
              "ticks": ""
             }
            },
            "type": "scatter"
           }
          ],
          "scatter3d": [
           {
            "line": {
             "colorbar": {
              "outlinewidth": 0,
              "ticks": ""
             }
            },
            "marker": {
             "colorbar": {
              "outlinewidth": 0,
              "ticks": ""
             }
            },
            "type": "scatter3d"
           }
          ],
          "scattercarpet": [
           {
            "marker": {
             "colorbar": {
              "outlinewidth": 0,
              "ticks": ""
             }
            },
            "type": "scattercarpet"
           }
          ],
          "scattergeo": [
           {
            "marker": {
             "colorbar": {
              "outlinewidth": 0,
              "ticks": ""
             }
            },
            "type": "scattergeo"
           }
          ],
          "scattergl": [
           {
            "marker": {
             "colorbar": {
              "outlinewidth": 0,
              "ticks": ""
             }
            },
            "type": "scattergl"
           }
          ],
          "scattermapbox": [
           {
            "marker": {
             "colorbar": {
              "outlinewidth": 0,
              "ticks": ""
             }
            },
            "type": "scattermapbox"
           }
          ],
          "scatterpolar": [
           {
            "marker": {
             "colorbar": {
              "outlinewidth": 0,
              "ticks": ""
             }
            },
            "type": "scatterpolar"
           }
          ],
          "scatterpolargl": [
           {
            "marker": {
             "colorbar": {
              "outlinewidth": 0,
              "ticks": ""
             }
            },
            "type": "scatterpolargl"
           }
          ],
          "scatterternary": [
           {
            "marker": {
             "colorbar": {
              "outlinewidth": 0,
              "ticks": ""
             }
            },
            "type": "scatterternary"
           }
          ],
          "surface": [
           {
            "colorbar": {
             "outlinewidth": 0,
             "ticks": ""
            },
            "colorscale": [
             [
              0,
              "#0d0887"
             ],
             [
              0.1111111111111111,
              "#46039f"
             ],
             [
              0.2222222222222222,
              "#7201a8"
             ],
             [
              0.3333333333333333,
              "#9c179e"
             ],
             [
              0.4444444444444444,
              "#bd3786"
             ],
             [
              0.5555555555555556,
              "#d8576b"
             ],
             [
              0.6666666666666666,
              "#ed7953"
             ],
             [
              0.7777777777777778,
              "#fb9f3a"
             ],
             [
              0.8888888888888888,
              "#fdca26"
             ],
             [
              1,
              "#f0f921"
             ]
            ],
            "type": "surface"
           }
          ],
          "table": [
           {
            "cells": {
             "fill": {
              "color": "#EBF0F8"
             },
             "line": {
              "color": "white"
             }
            },
            "header": {
             "fill": {
              "color": "#C8D4E3"
             },
             "line": {
              "color": "white"
             }
            },
            "type": "table"
           }
          ]
         },
         "layout": {
          "annotationdefaults": {
           "arrowcolor": "#2a3f5f",
           "arrowhead": 0,
           "arrowwidth": 1
          },
          "autotypenumbers": "strict",
          "coloraxis": {
           "colorbar": {
            "outlinewidth": 0,
            "ticks": ""
           }
          },
          "colorscale": {
           "diverging": [
            [
             0,
             "#8e0152"
            ],
            [
             0.1,
             "#c51b7d"
            ],
            [
             0.2,
             "#de77ae"
            ],
            [
             0.3,
             "#f1b6da"
            ],
            [
             0.4,
             "#fde0ef"
            ],
            [
             0.5,
             "#f7f7f7"
            ],
            [
             0.6,
             "#e6f5d0"
            ],
            [
             0.7,
             "#b8e186"
            ],
            [
             0.8,
             "#7fbc41"
            ],
            [
             0.9,
             "#4d9221"
            ],
            [
             1,
             "#276419"
            ]
           ],
           "sequential": [
            [
             0,
             "#0d0887"
            ],
            [
             0.1111111111111111,
             "#46039f"
            ],
            [
             0.2222222222222222,
             "#7201a8"
            ],
            [
             0.3333333333333333,
             "#9c179e"
            ],
            [
             0.4444444444444444,
             "#bd3786"
            ],
            [
             0.5555555555555556,
             "#d8576b"
            ],
            [
             0.6666666666666666,
             "#ed7953"
            ],
            [
             0.7777777777777778,
             "#fb9f3a"
            ],
            [
             0.8888888888888888,
             "#fdca26"
            ],
            [
             1,
             "#f0f921"
            ]
           ],
           "sequentialminus": [
            [
             0,
             "#0d0887"
            ],
            [
             0.1111111111111111,
             "#46039f"
            ],
            [
             0.2222222222222222,
             "#7201a8"
            ],
            [
             0.3333333333333333,
             "#9c179e"
            ],
            [
             0.4444444444444444,
             "#bd3786"
            ],
            [
             0.5555555555555556,
             "#d8576b"
            ],
            [
             0.6666666666666666,
             "#ed7953"
            ],
            [
             0.7777777777777778,
             "#fb9f3a"
            ],
            [
             0.8888888888888888,
             "#fdca26"
            ],
            [
             1,
             "#f0f921"
            ]
           ]
          },
          "colorway": [
           "#636efa",
           "#EF553B",
           "#00cc96",
           "#ab63fa",
           "#FFA15A",
           "#19d3f3",
           "#FF6692",
           "#B6E880",
           "#FF97FF",
           "#FECB52"
          ],
          "font": {
           "color": "#2a3f5f"
          },
          "geo": {
           "bgcolor": "white",
           "lakecolor": "white",
           "landcolor": "#E5ECF6",
           "showlakes": true,
           "showland": true,
           "subunitcolor": "white"
          },
          "hoverlabel": {
           "align": "left"
          },
          "hovermode": "closest",
          "mapbox": {
           "style": "light"
          },
          "paper_bgcolor": "white",
          "plot_bgcolor": "#E5ECF6",
          "polar": {
           "angularaxis": {
            "gridcolor": "white",
            "linecolor": "white",
            "ticks": ""
           },
           "bgcolor": "#E5ECF6",
           "radialaxis": {
            "gridcolor": "white",
            "linecolor": "white",
            "ticks": ""
           }
          },
          "scene": {
           "xaxis": {
            "backgroundcolor": "#E5ECF6",
            "gridcolor": "white",
            "gridwidth": 2,
            "linecolor": "white",
            "showbackground": true,
            "ticks": "",
            "zerolinecolor": "white"
           },
           "yaxis": {
            "backgroundcolor": "#E5ECF6",
            "gridcolor": "white",
            "gridwidth": 2,
            "linecolor": "white",
            "showbackground": true,
            "ticks": "",
            "zerolinecolor": "white"
           },
           "zaxis": {
            "backgroundcolor": "#E5ECF6",
            "gridcolor": "white",
            "gridwidth": 2,
            "linecolor": "white",
            "showbackground": true,
            "ticks": "",
            "zerolinecolor": "white"
           }
          },
          "shapedefaults": {
           "line": {
            "color": "#2a3f5f"
           }
          },
          "ternary": {
           "aaxis": {
            "gridcolor": "white",
            "linecolor": "white",
            "ticks": ""
           },
           "baxis": {
            "gridcolor": "white",
            "linecolor": "white",
            "ticks": ""
           },
           "bgcolor": "#E5ECF6",
           "caxis": {
            "gridcolor": "white",
            "linecolor": "white",
            "ticks": ""
           }
          },
          "title": {
           "x": 0.05
          },
          "xaxis": {
           "automargin": true,
           "gridcolor": "white",
           "linecolor": "white",
           "ticks": "",
           "title": {
            "standoff": 15
           },
           "zerolinecolor": "white",
           "zerolinewidth": 2
          },
          "yaxis": {
           "automargin": true,
           "gridcolor": "white",
           "linecolor": "white",
           "ticks": "",
           "title": {
            "standoff": 15
           },
           "zerolinecolor": "white",
           "zerolinewidth": 2
          }
         }
        }
       }
      },
      "text/html": [
       "<div>                            <div id=\"84efd7b5-fe38-467c-888f-9657f7d74f37\" class=\"plotly-graph-div\" style=\"height:200px; width:100%;\"></div>            <script type=\"text/javascript\">                require([\"plotly\"], function(Plotly) {                    window.PLOTLYENV=window.PLOTLYENV || {};                                    if (document.getElementById(\"84efd7b5-fe38-467c-888f-9657f7d74f37\")) {                    Plotly.newPlot(                        \"84efd7b5-fe38-467c-888f-9657f7d74f37\",                        [{\"colorscale\":[[0.0,\"rgb(179,226,205)\"],[1.0,\"rgb(179,226,205)\"]],\"geo\":\"geo\",\"geojson\":{\"type\":\"FeatureCollection\",\"features\":[{\"id\":\"PORTOVIEJO\",\"type\":\"Feature\",\"properties\":{},\"geometry\":{\"type\":\"MultiPolygon\",\"coordinates\":[[[[-80.49284921,-0.86897658],[-80.50286113,-0.87056679],[-80.505941,-0.87752398],[-80.50375592,-0.88462438],[-80.50821766,-0.88884331],[-80.50608497,-0.89498645],[-80.50988868,-0.89681737],[-80.51333605,-0.9064958],[-80.52241689,-0.91103095],[-80.53242719,-0.92100483],[-80.5378615,-0.92071097],[-80.54182124,-0.92867485],[-80.5379011,-0.92850074],[-80.52749286,-0.93199155],[-80.52509491,-0.9372101],[-80.52160482,-0.93844222],[-80.51612404,-0.94601177],[-80.50644953,-0.96236413],[-80.49948138,-0.9580578],[-80.48731905,-0.95608192],[-80.48766069,-0.96013367],[-80.48519115,-0.96016809],[-80.4841642,-0.96178327],[-80.45036032,-0.96335144],[-80.45142342,-0.96506203],[-80.44775799,-0.97158149],[-80.44582647,-0.97084947],[-80.44478058,-0.9727344],[-80.44334355,-0.97196232],[-80.44143896,-0.97362868],[-80.43742014,-0.9734904],[-80.43637288,-0.9716508],[-80.43112512,-0.97381925],[-80.42509858,-0.96323813],[-80.42437931,-0.95579881],[-80.41625248,-0.95394013],[-80.4102755,-0.95467143],[-80.40554779,-0.95042164],[-80.40184709,-0.95176109],[-80.39974925,-0.95461973],[-80.39258004,-0.95486818],[-80.38974623,-0.95264371],[-80.38482934,-0.95525907],[-80.37101331,-0.9446348],[-80.36032656,-0.95426026],[-80.34816487,-0.95119013],[-80.34592184,-0.95181735],[-80.34367657,-0.9552784],[-80.33827262,-0.94780456],[-80.33279201,-0.95248253],[-80.32687871,-0.95098203],[-80.32169899,-0.95473347],[-80.30665341,-0.9468982],[-80.30452322,-0.9427943],[-80.29597566,-0.9477619],[-80.28367568,-0.96116865],[-80.27778218,-0.96283319],[-80.27182887,-0.97229731],[-80.26452074,-0.97540369],[-80.2641641,-0.97969729],[-80.26028263,-0.97951734],[-80.25830564,-0.98287575],[-80.25895273,-0.98524562],[-80.25377725,-0.98851508],[-80.25478104,-0.99607233],[-80.25106908,-1.00213965],[-80.22992962,-1.00469514],[-80.22628362,-1.00219607],[-80.21895241,-1.00192604],[-80.21491641,-1.00537808],[-80.21324248,-1.0026194],[-80.20509378,-1.00272116],[-80.20379225,-0.99949001],[-80.20033838,-0.99869994],[-80.20094522,-0.99370638],[-80.19875771,-0.98917097],[-80.19096732,-0.9863726],[-80.18559477,-0.98149779],[-80.17216649,-0.98205316],[-80.16779261,-0.97423609],[-80.15926358,-0.97371177],[-80.15391812,-0.97766961],[-80.13765498,-0.9848233],[-80.13484458,-0.987765],[-80.13530936,-0.99269076],[-80.13742836,-0.99239132],[-80.13957263,-0.99721346],[-80.13940705,-1.00667993],[-80.13077319,-1.00590752],[-80.12671363,-1.00799984],[-80.12137519,-1.0168777],[-80.11084192,-1.01993657],[-80.11329508,-1.02935276],[-80.11633981,-1.03287535],[-80.11092339,-1.03308416],[-80.10983265,-1.03630748],[-80.1066927,-1.03795722],[-80.10221275,-1.0372333],[-80.09990963,-1.03423308],[-80.09469163,-1.03372341],[-80.09175821,-1.03504049],[-80.09038929,-1.03861875],[-80.08699962,-1.03800941],[-80.08555711,-1.04030012],[-80.08255273,-1.03304924],[-80.07969757,-1.0328618],[-80.07314508,-1.02670797],[-80.07251764,-1.0241227],[-80.07395787,-1.02159725],[-80.07121938,-1.02079535],[-80.06308371,-1.02089415],[-80.05679273,-1.02421125],[-80.05289057,-1.02181101],[-80.05283131,-1.01948202],[-80.04909994,-1.01883213],[-80.03063171,-1.02456903],[-80.02799591,-1.02037115],[-80.02233289,-1.0235762],[-80.02086718,-1.02615686],[-80.01472184,-1.02347515],[-80.0138539,-1.03023806],[-80.01084366,-1.03449862],[-80.01452235,-1.03802142],[-80.01419432,-1.04785693],[-80.01615693,-1.04991873],[-80.0197632,-1.05043206],[-80.01822373,-1.05997031],[-80.02399373,-1.06797365],[-80.02648093,-1.06709553],[-80.02470961,-1.06970365],[-80.0264687,-1.07419163],[-80.03014415,-1.07277769],[-80.03515036,-1.07534645],[-80.04256234,-1.06677185],[-80.05257516,-1.06349275],[-80.05589455,-1.064655],[-80.06630765,-1.06289009],[-80.07219314,-1.06449435],[-80.07771701,-1.06219551],[-80.08025409,-1.06557755],[-80.08513526,-1.06618958],[-80.08742074,-1.06919641],[-80.09199493,-1.07009328],[-80.09300011,-1.07290548],[-80.09859285,-1.07029788],[-80.10421974,-1.07136253],[-80.10826241,-1.07463878],[-80.10972118,-1.07868466],[-80.12243709,-1.08697905],[-80.12257297,-1.09169727],[-80.12470808,-1.09183833],[-80.12661943,-1.09735032],[-80.13068411,-1.09804696],[-80.13508386,-1.09731351],[-80.13832612,-1.07997275],[-80.14498161,-1.08349506],[-80.14624818,-1.08836539],[-80.1499188,-1.08278821],[-80.15679244,-1.08080219],[-80.16493041,-1.08634614],[-80.1707541,-1.08347245],[-80.17520627,-1.0876753],[-80.1814946,-1.08271184],[-80.18954077,-1.08500868],[-80.19957301,-1.0820182],[-80.20580771,-1.08530767],[-80.20830649,-1.08292706],[-80.21097445,-1.08287982],[-80.21497563,-1.08546733],[-80.22055427,-1.08069225],[-80.22427121,-1.08038233],[-80.2310888,-1.08460008],[-80.23128711,-1.0890246],[-80.23363079,-1.09053847],[-80.23596158,-1.08906115],[-80.24616609,-1.09000673],[-80.25420148,-1.08678979],[-80.26264416,-1.08915509],[-80.26543471,-1.09374593],[-80.26759405,-1.09210534],[-80.27190938,-1.09421337],[-80.27751051,-1.09271595],[-80.2816806,-1.09639448],[-80.28672269,-1.09728388],[-80.29281126,-1.10592908],[-80.29564675,-1.10693275],[-80.2941396,-1.11018598],[-80.29878786,-1.11007346],[-80.3010526,-1.10783437],[-80.30479704,-1.10907883],[-80.30825523,-1.10644318],[-80.32359171,-1.11650404],[-80.3283882,-1.13396582],[-80.33104167,-1.13489625],[-80.3323272,-1.14062911],[-80.34146196,-1.15170126],[-80.35020622,-1.15166345],[-80.353763,-1.15524508],[-80.36641372,-1.1577785],[-80.37872047,-1.15800379],[-80.37895402,-1.15582103],[-80.38172441,-1.15478855],[-80.3818334,-1.15645929],[-80.38537209,-1.15697723],[-80.3842542,-1.15940093],[-80.38680293,-1.16267718],[-80.38969264,-1.16392691],[-80.39110183,-1.16111335],[-80.39698281,-1.16188919],[-80.41308513,-1.17228764],[-80.42498055,-1.17427137],[-80.42859227,-1.17344517],[-80.43364732,-1.16782229],[-80.44077214,-1.16778542],[-80.44560909,-1.16300892],[-80.45035181,-1.16437878],[-80.45321241,-1.16234338],[-80.45612601,-1.16367137],[-80.46707482,-1.16369264],[-80.46843458,-1.16650781],[-80.47536889,-1.16807935],[-80.47713227,-1.17011903],[-80.48260757,-1.16986158],[-80.48603243,-1.16781324],[-80.49640627,-1.17528526],[-80.51054159,-1.18183057],[-80.51863676,-1.18922959],[-80.53006996,-1.19502537],[-80.52909179,-1.19820031],[-80.53030444,-1.20080628],[-80.53618367,-1.2007233],[-80.53798589,-1.19514707],[-80.54113819,-1.19236143],[-80.53940923,-1.18811666],[-80.53850186,-1.17444566],[-80.53298142,-1.16903268],[-80.53262335,-1.16622322],[-80.5371579,-1.16494696],[-80.54326357,-1.15943623],[-80.54352658,-1.14810216],[-80.54493055,-1.14699551],[-80.54950042,-1.14767038],[-80.55138904,-1.14403569],[-80.5473764,-1.14013319],[-80.547287,-1.13467333],[-80.55397063,-1.12347638],[-80.55436252,-1.11635699],[-80.55194064,-1.10843817],[-80.54769458,-1.10598671],[-80.53910813,-1.1068388],[-80.53033088,-1.10532451],[-80.525697,-1.10170863],[-80.51864936,-1.09911773],[-80.51751727,-1.09707034],[-80.51944002,-1.09245435],[-80.5193063,-1.08777515],[-80.51594162,-1.08349133],[-80.5157286,-1.08044431],[-80.51720931,-1.07898947],[-80.53083829,-1.08218708],[-80.53885645,-1.06721688],[-80.54273081,-1.06691541],[-80.54633088,-1.06276997],[-80.5439837,-1.06065735],[-80.54656812,-1.05923172],[-80.54741128,-1.05647107],[-80.5475534,-1.05505808],[-80.54524794,-1.05410282],[-80.54495849,-1.05066904],[-80.54832396,-1.03813073],[-80.54461551,-1.03304424],[-80.54175158,-1.03206002],[-80.53832887,-1.02106856],[-80.53954357,-1.01982087],[-80.53454266,-1.01675989],[-80.53270125,-1.00837008],[-80.54224629,-1.00520469],[-80.542854,-0.99109743],[-80.55253928,-0.98051276],[-80.5573787,-0.9668354],[-80.5535908,-0.9618612],[-80.55266543,-0.95632178],[-80.55876901,-0.95318772],[-80.564402,-0.95260987],[-80.56299517,-0.94983751],[-80.5647323,-0.94647538],[-80.56937211,-0.9442629],[-80.57528713,-0.93592412],[-80.58091908,-0.93562584],[-80.58314255,-0.93403109],[-80.58453648,-0.93101158],[-80.58367564,-0.9289302],[-80.58521689,-0.92789202],[-80.55902452,-0.90029595],[-80.54226826,-0.87420351],[-80.52790628,-0.82951274],[-80.52224493,-0.80102594],[-80.51688321,-0.79752912],[-80.51817365,-0.79978478],[-80.51494,-0.80199572],[-80.51785669,-0.80310198],[-80.51438278,-0.80564396],[-80.51839301,-0.80464589],[-80.5160824,-0.80688157],[-80.51809672,-0.80935314],[-80.51626035,-0.80948808],[-80.51531716,-0.81369653],[-80.51295347,-0.81383143],[-80.5156323,-0.8155383],[-80.51445327,-0.81774133],[-80.51193848,-0.81574884],[-80.51076664,-0.81777547],[-80.51442575,-0.82281739],[-80.51171534,-0.82330001],[-80.5131376,-0.82438294],[-80.51036954,-0.82678022],[-80.51213027,-0.82753346],[-80.50979617,-0.82907827],[-80.5107456,-0.83219967],[-80.50876542,-0.83102239],[-80.50936792,-0.83445697],[-80.50615314,-0.83469699],[-80.50579242,-0.83299705],[-80.50424461,-0.8344507],[-80.5035495,-0.83980265],[-80.50091543,-0.84422185],[-80.50228558,-0.84518171],[-80.49885118,-0.84604419],[-80.50081667,-0.84737305],[-80.4985072,-0.84892544],[-80.49907659,-0.85076514],[-80.49698744,-0.85313417],[-80.49432014,-0.85258578],[-80.49220849,-0.85514319],[-80.49392079,-0.85856164],[-80.49307733,-0.86277192],[-80.49165694,-0.86341496],[-80.49284921,-0.86897658]]]]},\"bbox\":[-80.58521689,-1.20080628,-80.01084366,-0.79752912]}],\"bbox\":[-80.58521689,-1.20080628,-80.01084366,-0.79752912]},\"hovertemplate\":\"locations=%{location}<extra></extra>\",\"locations\":[\"PORTOVIEJO\"],\"name\":\"\",\"showlegend\":true,\"showscale\":false,\"z\":[1],\"type\":\"choropleth\",\"visible\":true}],                        {\"template\":{\"data\":{\"bar\":[{\"error_x\":{\"color\":\"#2a3f5f\"},\"error_y\":{\"color\":\"#2a3f5f\"},\"marker\":{\"line\":{\"color\":\"#E5ECF6\",\"width\":0.5},\"pattern\":{\"fillmode\":\"overlay\",\"size\":10,\"solidity\":0.2}},\"type\":\"bar\"}],\"barpolar\":[{\"marker\":{\"line\":{\"color\":\"#E5ECF6\",\"width\":0.5},\"pattern\":{\"fillmode\":\"overlay\",\"size\":10,\"solidity\":0.2}},\"type\":\"barpolar\"}],\"carpet\":[{\"aaxis\":{\"endlinecolor\":\"#2a3f5f\",\"gridcolor\":\"white\",\"linecolor\":\"white\",\"minorgridcolor\":\"white\",\"startlinecolor\":\"#2a3f5f\"},\"baxis\":{\"endlinecolor\":\"#2a3f5f\",\"gridcolor\":\"white\",\"linecolor\":\"white\",\"minorgridcolor\":\"white\",\"startlinecolor\":\"#2a3f5f\"},\"type\":\"carpet\"}],\"choropleth\":[{\"colorbar\":{\"outlinewidth\":0,\"ticks\":\"\"},\"type\":\"choropleth\"}],\"contour\":[{\"colorbar\":{\"outlinewidth\":0,\"ticks\":\"\"},\"colorscale\":[[0.0,\"#0d0887\"],[0.1111111111111111,\"#46039f\"],[0.2222222222222222,\"#7201a8\"],[0.3333333333333333,\"#9c179e\"],[0.4444444444444444,\"#bd3786\"],[0.5555555555555556,\"#d8576b\"],[0.6666666666666666,\"#ed7953\"],[0.7777777777777778,\"#fb9f3a\"],[0.8888888888888888,\"#fdca26\"],[1.0,\"#f0f921\"]],\"type\":\"contour\"}],\"contourcarpet\":[{\"colorbar\":{\"outlinewidth\":0,\"ticks\":\"\"},\"type\":\"contourcarpet\"}],\"heatmap\":[{\"colorbar\":{\"outlinewidth\":0,\"ticks\":\"\"},\"colorscale\":[[0.0,\"#0d0887\"],[0.1111111111111111,\"#46039f\"],[0.2222222222222222,\"#7201a8\"],[0.3333333333333333,\"#9c179e\"],[0.4444444444444444,\"#bd3786\"],[0.5555555555555556,\"#d8576b\"],[0.6666666666666666,\"#ed7953\"],[0.7777777777777778,\"#fb9f3a\"],[0.8888888888888888,\"#fdca26\"],[1.0,\"#f0f921\"]],\"type\":\"heatmap\"}],\"heatmapgl\":[{\"colorbar\":{\"outlinewidth\":0,\"ticks\":\"\"},\"colorscale\":[[0.0,\"#0d0887\"],[0.1111111111111111,\"#46039f\"],[0.2222222222222222,\"#7201a8\"],[0.3333333333333333,\"#9c179e\"],[0.4444444444444444,\"#bd3786\"],[0.5555555555555556,\"#d8576b\"],[0.6666666666666666,\"#ed7953\"],[0.7777777777777778,\"#fb9f3a\"],[0.8888888888888888,\"#fdca26\"],[1.0,\"#f0f921\"]],\"type\":\"heatmapgl\"}],\"histogram\":[{\"marker\":{\"pattern\":{\"fillmode\":\"overlay\",\"size\":10,\"solidity\":0.2}},\"type\":\"histogram\"}],\"histogram2d\":[{\"colorbar\":{\"outlinewidth\":0,\"ticks\":\"\"},\"colorscale\":[[0.0,\"#0d0887\"],[0.1111111111111111,\"#46039f\"],[0.2222222222222222,\"#7201a8\"],[0.3333333333333333,\"#9c179e\"],[0.4444444444444444,\"#bd3786\"],[0.5555555555555556,\"#d8576b\"],[0.6666666666666666,\"#ed7953\"],[0.7777777777777778,\"#fb9f3a\"],[0.8888888888888888,\"#fdca26\"],[1.0,\"#f0f921\"]],\"type\":\"histogram2d\"}],\"histogram2dcontour\":[{\"colorbar\":{\"outlinewidth\":0,\"ticks\":\"\"},\"colorscale\":[[0.0,\"#0d0887\"],[0.1111111111111111,\"#46039f\"],[0.2222222222222222,\"#7201a8\"],[0.3333333333333333,\"#9c179e\"],[0.4444444444444444,\"#bd3786\"],[0.5555555555555556,\"#d8576b\"],[0.6666666666666666,\"#ed7953\"],[0.7777777777777778,\"#fb9f3a\"],[0.8888888888888888,\"#fdca26\"],[1.0,\"#f0f921\"]],\"type\":\"histogram2dcontour\"}],\"mesh3d\":[{\"colorbar\":{\"outlinewidth\":0,\"ticks\":\"\"},\"type\":\"mesh3d\"}],\"parcoords\":[{\"line\":{\"colorbar\":{\"outlinewidth\":0,\"ticks\":\"\"}},\"type\":\"parcoords\"}],\"pie\":[{\"automargin\":true,\"type\":\"pie\"}],\"scatter\":[{\"marker\":{\"colorbar\":{\"outlinewidth\":0,\"ticks\":\"\"}},\"type\":\"scatter\"}],\"scatter3d\":[{\"line\":{\"colorbar\":{\"outlinewidth\":0,\"ticks\":\"\"}},\"marker\":{\"colorbar\":{\"outlinewidth\":0,\"ticks\":\"\"}},\"type\":\"scatter3d\"}],\"scattercarpet\":[{\"marker\":{\"colorbar\":{\"outlinewidth\":0,\"ticks\":\"\"}},\"type\":\"scattercarpet\"}],\"scattergeo\":[{\"marker\":{\"colorbar\":{\"outlinewidth\":0,\"ticks\":\"\"}},\"type\":\"scattergeo\"}],\"scattergl\":[{\"marker\":{\"colorbar\":{\"outlinewidth\":0,\"ticks\":\"\"}},\"type\":\"scattergl\"}],\"scattermapbox\":[{\"marker\":{\"colorbar\":{\"outlinewidth\":0,\"ticks\":\"\"}},\"type\":\"scattermapbox\"}],\"scatterpolar\":[{\"marker\":{\"colorbar\":{\"outlinewidth\":0,\"ticks\":\"\"}},\"type\":\"scatterpolar\"}],\"scatterpolargl\":[{\"marker\":{\"colorbar\":{\"outlinewidth\":0,\"ticks\":\"\"}},\"type\":\"scatterpolargl\"}],\"scatterternary\":[{\"marker\":{\"colorbar\":{\"outlinewidth\":0,\"ticks\":\"\"}},\"type\":\"scatterternary\"}],\"surface\":[{\"colorbar\":{\"outlinewidth\":0,\"ticks\":\"\"},\"colorscale\":[[0.0,\"#0d0887\"],[0.1111111111111111,\"#46039f\"],[0.2222222222222222,\"#7201a8\"],[0.3333333333333333,\"#9c179e\"],[0.4444444444444444,\"#bd3786\"],[0.5555555555555556,\"#d8576b\"],[0.6666666666666666,\"#ed7953\"],[0.7777777777777778,\"#fb9f3a\"],[0.8888888888888888,\"#fdca26\"],[1.0,\"#f0f921\"]],\"type\":\"surface\"}],\"table\":[{\"cells\":{\"fill\":{\"color\":\"#EBF0F8\"},\"line\":{\"color\":\"white\"}},\"header\":{\"fill\":{\"color\":\"#C8D4E3\"},\"line\":{\"color\":\"white\"}},\"type\":\"table\"}]},\"layout\":{\"annotationdefaults\":{\"arrowcolor\":\"#2a3f5f\",\"arrowhead\":0,\"arrowwidth\":1},\"autotypenumbers\":\"strict\",\"coloraxis\":{\"colorbar\":{\"outlinewidth\":0,\"ticks\":\"\"}},\"colorscale\":{\"diverging\":[[0,\"#8e0152\"],[0.1,\"#c51b7d\"],[0.2,\"#de77ae\"],[0.3,\"#f1b6da\"],[0.4,\"#fde0ef\"],[0.5,\"#f7f7f7\"],[0.6,\"#e6f5d0\"],[0.7,\"#b8e186\"],[0.8,\"#7fbc41\"],[0.9,\"#4d9221\"],[1,\"#276419\"]],\"sequential\":[[0.0,\"#0d0887\"],[0.1111111111111111,\"#46039f\"],[0.2222222222222222,\"#7201a8\"],[0.3333333333333333,\"#9c179e\"],[0.4444444444444444,\"#bd3786\"],[0.5555555555555556,\"#d8576b\"],[0.6666666666666666,\"#ed7953\"],[0.7777777777777778,\"#fb9f3a\"],[0.8888888888888888,\"#fdca26\"],[1.0,\"#f0f921\"]],\"sequentialminus\":[[0.0,\"#0d0887\"],[0.1111111111111111,\"#46039f\"],[0.2222222222222222,\"#7201a8\"],[0.3333333333333333,\"#9c179e\"],[0.4444444444444444,\"#bd3786\"],[0.5555555555555556,\"#d8576b\"],[0.6666666666666666,\"#ed7953\"],[0.7777777777777778,\"#fb9f3a\"],[0.8888888888888888,\"#fdca26\"],[1.0,\"#f0f921\"]]},\"colorway\":[\"#636efa\",\"#EF553B\",\"#00cc96\",\"#ab63fa\",\"#FFA15A\",\"#19d3f3\",\"#FF6692\",\"#B6E880\",\"#FF97FF\",\"#FECB52\"],\"font\":{\"color\":\"#2a3f5f\"},\"geo\":{\"bgcolor\":\"white\",\"lakecolor\":\"white\",\"landcolor\":\"#E5ECF6\",\"showlakes\":true,\"showland\":true,\"subunitcolor\":\"white\"},\"hoverlabel\":{\"align\":\"left\"},\"hovermode\":\"closest\",\"mapbox\":{\"style\":\"light\"},\"paper_bgcolor\":\"white\",\"plot_bgcolor\":\"#E5ECF6\",\"polar\":{\"angularaxis\":{\"gridcolor\":\"white\",\"linecolor\":\"white\",\"ticks\":\"\"},\"bgcolor\":\"#E5ECF6\",\"radialaxis\":{\"gridcolor\":\"white\",\"linecolor\":\"white\",\"ticks\":\"\"}},\"scene\":{\"xaxis\":{\"backgroundcolor\":\"#E5ECF6\",\"gridcolor\":\"white\",\"gridwidth\":2,\"linecolor\":\"white\",\"showbackground\":true,\"ticks\":\"\",\"zerolinecolor\":\"white\"},\"yaxis\":{\"backgroundcolor\":\"#E5ECF6\",\"gridcolor\":\"white\",\"gridwidth\":2,\"linecolor\":\"white\",\"showbackground\":true,\"ticks\":\"\",\"zerolinecolor\":\"white\"},\"zaxis\":{\"backgroundcolor\":\"#E5ECF6\",\"gridcolor\":\"white\",\"gridwidth\":2,\"linecolor\":\"white\",\"showbackground\":true,\"ticks\":\"\",\"zerolinecolor\":\"white\"}},\"shapedefaults\":{\"line\":{\"color\":\"#2a3f5f\"}},\"ternary\":{\"aaxis\":{\"gridcolor\":\"white\",\"linecolor\":\"white\",\"ticks\":\"\"},\"baxis\":{\"gridcolor\":\"white\",\"linecolor\":\"white\",\"ticks\":\"\"},\"bgcolor\":\"#E5ECF6\",\"caxis\":{\"gridcolor\":\"white\",\"linecolor\":\"white\",\"ticks\":\"\"}},\"title\":{\"x\":0.05},\"xaxis\":{\"automargin\":true,\"gridcolor\":\"white\",\"linecolor\":\"white\",\"ticks\":\"\",\"title\":{\"standoff\":15},\"zerolinecolor\":\"white\",\"zerolinewidth\":2},\"yaxis\":{\"automargin\":true,\"gridcolor\":\"white\",\"linecolor\":\"white\",\"ticks\":\"\",\"title\":{\"standoff\":15},\"zerolinecolor\":\"white\",\"zerolinewidth\":2}}},\"geo\":{\"domain\":{\"x\":[0.0,1.0],\"y\":[0.0,1.0]},\"center\":{},\"fitbounds\":\"locations\",\"visible\":false},\"legend\":{\"tracegroupgap\":0},\"margin\":{\"t\":0,\"l\":0,\"r\":0,\"b\":0},\"autosize\":false,\"height\":200,\"showlegend\":false},                        {\"responsive\": true}                    ).then(function(){\n",
       "                            \n",
       "var gd = document.getElementById('84efd7b5-fe38-467c-888f-9657f7d74f37');\n",
       "var x = new MutationObserver(function (mutations, observer) {{\n",
       "        var display = window.getComputedStyle(gd).display;\n",
       "        if (!display || display === 'none') {{\n",
       "            console.log([gd, 'removed!']);\n",
       "            Plotly.purge(gd);\n",
       "            observer.disconnect();\n",
       "        }}\n",
       "}});\n",
       "\n",
       "// Listen for the removal of the full notebook cells\n",
       "var notebookContainer = gd.closest('#notebook-container');\n",
       "if (notebookContainer) {{\n",
       "    x.observe(notebookContainer, {childList: true});\n",
       "}}\n",
       "\n",
       "// Listen for the clearing of the current output cell\n",
       "var outputEl = gd.closest('.output');\n",
       "if (outputEl) {{\n",
       "    x.observe(outputEl, {childList: true});\n",
       "}}\n",
       "\n",
       "                        })                };                });            </script>        </div>"
      ]
     },
     "metadata": {},
     "output_type": "display_data"
    }
   ],
   "source": [
    "import plotly.express as px\n",
    "\n",
    "selection_map = selection_map.rename({selection_map.index[0]: str(selection_map['DPA_DESCAN'].values[0])}, axis='index')\n",
    "\n",
    "fig = px.choropleth(geojson=selection_map.geometry, locations=selection_map.index, \n",
    "                    color_discrete_sequence=px.colors.qualitative.Pastel2)\n",
    "fig.update_geos(fitbounds=\"locations\", visible=False)\n",
    "fig.update_traces(visible=True)\n",
    "\n",
    "fig.update_layout(\n",
    "    margin=dict(l=0, r=0, t=0, b=0),\n",
    "    autosize=False,\n",
    "    height=200,\n",
    "    showlegend=False\n",
    ")\n",
    "fig.show()"
   ]
  },
  {
   "cell_type": "markdown",
   "id": "7009b5e7",
   "metadata": {},
   "source": [
    "#### Características de la Población"
   ]
  },
  {
   "cell_type": "code",
   "execution_count": 55,
   "id": "8e18de50",
   "metadata": {},
   "outputs": [],
   "source": [
    "def get_stats_people(selection):\n",
    "    base_stats = []\n",
    "    rows_name = [\"% Hombres\",\"% Mujeres\",\"% Población Rural\",\"% Población Urbana\",\"% Población Provincial\", \"PEA\"]\n",
    "    total = selection['Poblacion Hombres 2022'].values[0] + selection['Poblacion Mujeres 2022'].values[0]\n",
    "    base_stats.append(str(round(((selection['Poblacion Hombres 2022'].values[0]/total)*100), 2))+\"%\")\n",
    "    base_stats.append(str(round(((selection['Poblacion Mujeres 2022'].values[0]/total)*100), 2))+\"%\")\n",
    "    base_stats.append(str(round(selection['% Poblacion Rural'].values[0], 2))+\"%\")\n",
    "    base_stats.append(str(round(100-selection['% Poblacion Rural'].values[0], 2))+\"%\")\n",
    "    base_stats.append(\"Pendiente\")\n",
    "    base_stats.append(str(round(selection['PEA'].values[0], 2))+\"%\")\n",
    "    df_stats_people = pd.DataFrame({'Indicador': rows_name,'%': base_stats})\n",
    "    return df_stats_people"
   ]
  },
  {
   "cell_type": "code",
   "execution_count": null,
   "id": "a57c8776",
   "metadata": {},
   "outputs": [],
   "source": []
  },
  {
   "cell_type": "code",
   "execution_count": 56,
   "id": "0e0dbe1e",
   "metadata": {
    "scrolled": true
   },
   "outputs": [
    {
     "data": {
      "text/html": [
       "<div>\n",
       "<style scoped>\n",
       "    .dataframe tbody tr th:only-of-type {\n",
       "        vertical-align: middle;\n",
       "    }\n",
       "\n",
       "    .dataframe tbody tr th {\n",
       "        vertical-align: top;\n",
       "    }\n",
       "\n",
       "    .dataframe thead th {\n",
       "        text-align: right;\n",
       "    }\n",
       "</style>\n",
       "<table border=\"1\" class=\"dataframe\">\n",
       "  <thead>\n",
       "    <tr style=\"text-align: right;\">\n",
       "      <th></th>\n",
       "      <th>indicador</th>\n",
       "      <th>valor</th>\n",
       "    </tr>\n",
       "  </thead>\n",
       "  <tbody>\n",
       "    <tr>\n",
       "      <th>0</th>\n",
       "      <td>% Hombres</td>\n",
       "      <td>49.27%</td>\n",
       "    </tr>\n",
       "    <tr>\n",
       "      <th>1</th>\n",
       "      <td>% Mujeres</td>\n",
       "      <td>50.73%</td>\n",
       "    </tr>\n",
       "    <tr>\n",
       "      <th>2</th>\n",
       "      <td>% Población Rural</td>\n",
       "      <td>25.2%</td>\n",
       "    </tr>\n",
       "    <tr>\n",
       "      <th>3</th>\n",
       "      <td>% Población Urbana</td>\n",
       "      <td>74.8%</td>\n",
       "    </tr>\n",
       "    <tr>\n",
       "      <th>4</th>\n",
       "      <td>% Población Provincial</td>\n",
       "      <td>Pendiente</td>\n",
       "    </tr>\n",
       "    <tr>\n",
       "      <th>5</th>\n",
       "      <td>PEA</td>\n",
       "      <td>59.28%</td>\n",
       "    </tr>\n",
       "  </tbody>\n",
       "</table>\n",
       "</div>"
      ],
      "text/plain": [
       "                indicador      valor\n",
       "0               % Hombres     49.27%\n",
       "1               % Mujeres     50.73%\n",
       "2       % Población Rural      25.2%\n",
       "3      % Población Urbana      74.8%\n",
       "4  % Población Provincial  Pendiente\n",
       "5                     PEA     59.28%"
      ]
     },
     "execution_count": 56,
     "metadata": {},
     "output_type": "execute_result"
    }
   ],
   "source": [
    "get_stats_people(selection)"
   ]
  },
  {
   "cell_type": "markdown",
   "id": "71d93a9d",
   "metadata": {},
   "source": [
    "#### Índice de Prosperidad Territorial 2021"
   ]
  },
  {
   "cell_type": "code",
   "execution_count": 14,
   "id": "3dd9c425",
   "metadata": {},
   "outputs": [],
   "source": [
    "def get_index_prosperity(selection):\n",
    "    base_stats = []\n",
    "    rows_name = [\"Tasa de Alfabetismo\",\"Ingreso Medio de Hogares USD (Mensual)\",\n",
    "                 \"Población en asentamientos Precarios\",\"Población Afectada por eventos naturales (cada mil personas)\"]\n",
    "    base_stats.append(str(round(selection['Tasa de Alfabetismo'].values[0], 2))+\"%\")\n",
    "    base_stats.append(str(round(selection['Ingreso Medio Hogares  USD (Mensual)'].values[0], 2)))\n",
    "    base_stats.append(str(round(selection['Poblacion en asentamientos precarios'].values[0], 2))+\"%\")\n",
    "    base_stats.append(str(round(selection['Poblacion afectada por eventos naturales'].values[0], 2))+\"%\")\n",
    "    df_stats_people = pd.DataFrame(base_stats,index=rows_name)\n",
    "    return df_stats_people"
   ]
  },
  {
   "cell_type": "code",
   "execution_count": 15,
   "id": "33571f6c",
   "metadata": {},
   "outputs": [
    {
     "data": {
      "text/html": [
       "<div>\n",
       "<style scoped>\n",
       "    .dataframe tbody tr th:only-of-type {\n",
       "        vertical-align: middle;\n",
       "    }\n",
       "\n",
       "    .dataframe tbody tr th {\n",
       "        vertical-align: top;\n",
       "    }\n",
       "\n",
       "    .dataframe thead th {\n",
       "        text-align: right;\n",
       "    }\n",
       "</style>\n",
       "<table border=\"1\" class=\"dataframe\">\n",
       "  <thead>\n",
       "    <tr style=\"text-align: right;\">\n",
       "      <th></th>\n",
       "      <th>0</th>\n",
       "    </tr>\n",
       "  </thead>\n",
       "  <tbody>\n",
       "    <tr>\n",
       "      <th>Tasa de Alfabetismo</th>\n",
       "      <td>82.87%</td>\n",
       "    </tr>\n",
       "    <tr>\n",
       "      <th>Ingreso Medio de Hogares USD (Mensual)</th>\n",
       "      <td>31.95</td>\n",
       "    </tr>\n",
       "    <tr>\n",
       "      <th>Población en asentamientos Precarios</th>\n",
       "      <td>34.4%</td>\n",
       "    </tr>\n",
       "    <tr>\n",
       "      <th>Población Afectada por eventos naturales (cada mil personas)</th>\n",
       "      <td>5.27%</td>\n",
       "    </tr>\n",
       "  </tbody>\n",
       "</table>\n",
       "</div>"
      ],
      "text/plain": [
       "                                                         0\n",
       "Tasa de Alfabetismo                                 82.87%\n",
       "Ingreso Medio de Hogares USD (Mensual)               31.95\n",
       "Población en asentamientos Precarios                 34.4%\n",
       "Población Afectada por eventos naturales (cada ...   5.27%"
      ]
     },
     "execution_count": 15,
     "metadata": {},
     "output_type": "execute_result"
    }
   ],
   "source": [
    "get_index_prosperity(selection)"
   ]
  },
  {
   "cell_type": "code",
   "execution_count": 16,
   "id": "bc87338b",
   "metadata": {},
   "outputs": [],
   "source": [
    "def get_service_access(selection):\n",
    "    base_stats = []\n",
    "    rows_name = [\"Acceso a Agua Mejorada (% Población)\",\"Acceso a Saneamiento Adecuado (%Población)\",\"Acceso a Electricidad (% Población)\",\n",
    "                 \"Acceso a Internet (Usuarios de internet por cada 100 habitantes)\", \"Acceso Computadores (% Hogares)\"]\n",
    "    #column_name = ['Indicador','%']\n",
    "    base_stats.append(str(round(selection['Acceso a Agua Mejorada'].values[0], 2))+\"%\")\n",
    "    base_stats.append(str(round(selection['Acceso a Saneamiento Adecuado'].values[0], 2))+\"%\")\n",
    "    base_stats.append(str(round(selection['Acceso a Electricidad'].values[0], 2))+\"%\")\n",
    "    base_stats.append(str(round(selection['Acceso a Internet'].values[0], 2))+\"%\")\n",
    "    base_stats.append(str(round(selection['Acceso Computadores (% Hogares)'].values[0], 2))+\"%\")\n",
    "    df_stats_people = pd.DataFrame(base_stats,index=rows_name)\n",
    "    return df_stats_people"
   ]
  },
  {
   "cell_type": "code",
   "execution_count": 17,
   "id": "6527ed3f",
   "metadata": {},
   "outputs": [
    {
     "data": {
      "text/html": [
       "<div>\n",
       "<style scoped>\n",
       "    .dataframe tbody tr th:only-of-type {\n",
       "        vertical-align: middle;\n",
       "    }\n",
       "\n",
       "    .dataframe tbody tr th {\n",
       "        vertical-align: top;\n",
       "    }\n",
       "\n",
       "    .dataframe thead th {\n",
       "        text-align: right;\n",
       "    }\n",
       "</style>\n",
       "<table border=\"1\" class=\"dataframe\">\n",
       "  <thead>\n",
       "    <tr style=\"text-align: right;\">\n",
       "      <th></th>\n",
       "      <th>0</th>\n",
       "    </tr>\n",
       "  </thead>\n",
       "  <tbody>\n",
       "    <tr>\n",
       "      <th>Acceso a Agua Mejorada (% Población)</th>\n",
       "      <td>88.43%</td>\n",
       "    </tr>\n",
       "    <tr>\n",
       "      <th>Acceso a Saneamiento Adecuado (%Población)</th>\n",
       "      <td>77.0%</td>\n",
       "    </tr>\n",
       "    <tr>\n",
       "      <th>Acceso a Electricidad (% Población)</th>\n",
       "      <td>99.48%</td>\n",
       "    </tr>\n",
       "    <tr>\n",
       "      <th>Acceso a Internet (Usuarios de internet por cada 100 habitantes)</th>\n",
       "      <td>41.09%</td>\n",
       "    </tr>\n",
       "    <tr>\n",
       "      <th>Acceso Computadores (% Hogares)</th>\n",
       "      <td>27.38%</td>\n",
       "    </tr>\n",
       "  </tbody>\n",
       "</table>\n",
       "</div>"
      ],
      "text/plain": [
       "                                                         0\n",
       "Acceso a Agua Mejorada (% Población)                88.43%\n",
       "Acceso a Saneamiento Adecuado (%Población)           77.0%\n",
       "Acceso a Electricidad (% Población)                 99.48%\n",
       "Acceso a Internet (Usuarios de internet por cad...  41.09%\n",
       "Acceso Computadores (% Hogares)                     27.38%"
      ]
     },
     "execution_count": 17,
     "metadata": {},
     "output_type": "execute_result"
    }
   ],
   "source": [
    "get_service_access(selection)"
   ]
  },
  {
   "cell_type": "code",
   "execution_count": 18,
   "id": "9b936e26",
   "metadata": {},
   "outputs": [],
   "source": [
    "def get_health_infrastructure(selection):\n",
    "    base_stats = []\n",
    "    rows_name = [\"Centro de Salud Tipo A\",\"Centro de Salud Tipo B\",\"Centro de Salud Tipo C - Maternidad e Infantil\",\n",
    "                 \"Centros Especializados\",\"Hospital Básico\",\"Hospital de Especialidades\",\"Hospital General\",\"Puesto de Salud\"]\n",
    "    base_stats.append(str(round(selection['Centro de Salud Tipo A'].values[0])))\n",
    "    base_stats.append(str(round(selection['Centro de Salud Tipo B'].values[0])))\n",
    "    base_stats.append(str(round(selection['Centro de Salud Tipo C'].values[0])))\n",
    "    base_stats.append(str(round(selection['Centros especializados'].values[0])))\n",
    "    base_stats.append(str(round(selection['Hospital Basico'].values[0])))\n",
    "    base_stats.append(str(round(selection['Hospital de especialidades'].values[0])))\n",
    "    base_stats.append(str(round(selection['Hospital General'].values[0])))\n",
    "    base_stats.append(str(round(selection['Puesto de Salud'].values[0])))\n",
    "    df_stats_people = pd.DataFrame(base_stats,index=rows_name)\n",
    "    return df_stats_people"
   ]
  },
  {
   "cell_type": "code",
   "execution_count": 19,
   "id": "e15dc818",
   "metadata": {},
   "outputs": [
    {
     "data": {
      "text/html": [
       "<div>\n",
       "<style scoped>\n",
       "    .dataframe tbody tr th:only-of-type {\n",
       "        vertical-align: middle;\n",
       "    }\n",
       "\n",
       "    .dataframe tbody tr th {\n",
       "        vertical-align: top;\n",
       "    }\n",
       "\n",
       "    .dataframe thead th {\n",
       "        text-align: right;\n",
       "    }\n",
       "</style>\n",
       "<table border=\"1\" class=\"dataframe\">\n",
       "  <thead>\n",
       "    <tr style=\"text-align: right;\">\n",
       "      <th></th>\n",
       "      <th>0</th>\n",
       "    </tr>\n",
       "  </thead>\n",
       "  <tbody>\n",
       "    <tr>\n",
       "      <th>Centro de Salud Tipo A</th>\n",
       "      <td>31</td>\n",
       "    </tr>\n",
       "    <tr>\n",
       "      <th>Centro de Salud Tipo B</th>\n",
       "      <td>3</td>\n",
       "    </tr>\n",
       "    <tr>\n",
       "      <th>Centro de Salud Tipo C - Maternidad e Infantil</th>\n",
       "      <td>1</td>\n",
       "    </tr>\n",
       "    <tr>\n",
       "      <th>Centros Especializados</th>\n",
       "      <td>2</td>\n",
       "    </tr>\n",
       "    <tr>\n",
       "      <th>Hospital Básico</th>\n",
       "      <td>0</td>\n",
       "    </tr>\n",
       "    <tr>\n",
       "      <th>Hospital de Especialidades</th>\n",
       "      <td>1</td>\n",
       "    </tr>\n",
       "    <tr>\n",
       "      <th>Hospital General</th>\n",
       "      <td>1</td>\n",
       "    </tr>\n",
       "    <tr>\n",
       "      <th>Puesto de Salud</th>\n",
       "      <td>3</td>\n",
       "    </tr>\n",
       "  </tbody>\n",
       "</table>\n",
       "</div>"
      ],
      "text/plain": [
       "                                                 0\n",
       "Centro de Salud Tipo A                          31\n",
       "Centro de Salud Tipo B                           3\n",
       "Centro de Salud Tipo C - Maternidad e Infantil   1\n",
       "Centros Especializados                           2\n",
       "Hospital Básico                                  0\n",
       "Hospital de Especialidades                       1\n",
       "Hospital General                                 1\n",
       "Puesto de Salud                                  3"
      ]
     },
     "execution_count": 19,
     "metadata": {},
     "output_type": "execute_result"
    }
   ],
   "source": [
    "get_health_infrastructure(selection)"
   ]
  },
  {
   "cell_type": "markdown",
   "id": "6ade6279",
   "metadata": {},
   "source": [
    "### USO SUELO"
   ]
  },
  {
   "cell_type": "code",
   "execution_count": 20,
   "id": "9782e257",
   "metadata": {},
   "outputs": [],
   "source": [
    "df_suelo = get_selected_dataframe('Uso_S_Manabi','1LgCKDvc1JFc_F0pAzmHUNE0QeNHPc9VoU_NOton1tw0')"
   ]
  },
  {
   "cell_type": "code",
   "execution_count": 21,
   "id": "67a4c21f",
   "metadata": {
    "scrolled": true
   },
   "outputs": [
    {
     "data": {
      "text/html": [
       "<div>\n",
       "<style scoped>\n",
       "    .dataframe tbody tr th:only-of-type {\n",
       "        vertical-align: middle;\n",
       "    }\n",
       "\n",
       "    .dataframe tbody tr th {\n",
       "        vertical-align: top;\n",
       "    }\n",
       "\n",
       "    .dataframe thead th {\n",
       "        text-align: right;\n",
       "    }\n",
       "</style>\n",
       "<table border=\"1\" class=\"dataframe\">\n",
       "  <thead>\n",
       "    <tr style=\"text-align: right;\">\n",
       "      <th></th>\n",
       "      <th>DPA_CANTON</th>\n",
       "      <th>DPA_DESCAN</th>\n",
       "      <th>CANTON</th>\n",
       "      <th>DPA_PARROQ</th>\n",
       "      <th>DPA_DESPAR</th>\n",
       "      <th>simbolo</th>\n",
       "      <th>cobertura</th>\n",
       "      <th>tempora</th>\n",
       "      <th>Uso_1</th>\n",
       "      <th>tamparcel</th>\n",
       "      <th>Riego_1</th>\n",
       "      <th>sistproduc</th>\n",
       "      <th>actminera</th>\n",
       "      <th>Nvl_alt__2</th>\n",
       "      <th>Categor</th>\n",
       "      <th>km2_1</th>\n",
       "      <th>Provincia</th>\n",
       "    </tr>\n",
       "  </thead>\n",
       "  <tbody>\n",
       "    <tr>\n",
       "      <th>0</th>\n",
       "      <td>0</td>\n",
       "      <td></td>\n",
       "      <td></td>\n",
       "      <td>0</td>\n",
       "      <td></td>\n",
       "      <td>MT</td>\n",
       "      <td>VEGETACION ARBUSTIVA</td>\n",
       "      <td>No aplica</td>\n",
       "      <td>Conservación y protección</td>\n",
       "      <td>No aplica</td>\n",
       "      <td>No aplica</td>\n",
       "      <td>No aplica</td>\n",
       "      <td>No aplica</td>\n",
       "      <td>S/Datos</td>\n",
       "      <td>Vegetaci¾n arbustiva</td>\n",
       "      <td>5565535904</td>\n",
       "      <td>Manabi</td>\n",
       "    </tr>\n",
       "    <tr>\n",
       "      <th>1</th>\n",
       "      <td>1306</td>\n",
       "      <td>Jipijapa</td>\n",
       "      <td>JIPIJAPA</td>\n",
       "      <td>13065200000000000</td>\n",
       "      <td>El Anegado</td>\n",
       "      <td>CAcm</td>\n",
       "      <td>MAIZ</td>\n",
       "      <td>Cultivo anual</td>\n",
       "      <td>Agrícola</td>\n",
       "      <td>Pequeña</td>\n",
       "      <td>Sin riego</td>\n",
       "      <td>Mercantil</td>\n",
       "      <td>No aplica</td>\n",
       "      <td>No aplica</td>\n",
       "      <td>Cultivo</td>\n",
       "      <td>739562030</td>\n",
       "      <td>Manabi</td>\n",
       "    </tr>\n",
       "    <tr>\n",
       "      <th>2</th>\n",
       "      <td>1306</td>\n",
       "      <td>Jipijapa</td>\n",
       "      <td>JIPIJAPA</td>\n",
       "      <td>13065200000000000</td>\n",
       "      <td>El Anegado</td>\n",
       "      <td>CAcm</td>\n",
       "      <td>MAIZ</td>\n",
       "      <td>Cultivo anual</td>\n",
       "      <td>Agrícola</td>\n",
       "      <td>Pequeña</td>\n",
       "      <td>Sin riego</td>\n",
       "      <td>Mercantil</td>\n",
       "      <td>No aplica</td>\n",
       "      <td>No aplica</td>\n",
       "      <td>Cultivo</td>\n",
       "      <td>106642286729</td>\n",
       "      <td>Manabi</td>\n",
       "    </tr>\n",
       "    <tr>\n",
       "      <th>3</th>\n",
       "      <td>1306</td>\n",
       "      <td>Jipijapa</td>\n",
       "      <td>JIPIJAPA</td>\n",
       "      <td>13065200000000000</td>\n",
       "      <td>El Anegado</td>\n",
       "      <td>CAcm</td>\n",
       "      <td>MAIZ</td>\n",
       "      <td>Cultivo anual</td>\n",
       "      <td>Agrícola</td>\n",
       "      <td>Pequeña</td>\n",
       "      <td>Sin riego</td>\n",
       "      <td>Mercantil</td>\n",
       "      <td>No aplica</td>\n",
       "      <td>No aplica</td>\n",
       "      <td>Cultivo</td>\n",
       "      <td>105192429997</td>\n",
       "      <td>Manabi</td>\n",
       "    </tr>\n",
       "    <tr>\n",
       "      <th>4</th>\n",
       "      <td>1306</td>\n",
       "      <td>Jipijapa</td>\n",
       "      <td>JIPIJAPA</td>\n",
       "      <td>13065200000000000</td>\n",
       "      <td>El Anegado</td>\n",
       "      <td>CAcm</td>\n",
       "      <td>MAIZ</td>\n",
       "      <td>Cultivo anual</td>\n",
       "      <td>Agrícola</td>\n",
       "      <td>Pequeña</td>\n",
       "      <td>Sin riego</td>\n",
       "      <td>Mercantil</td>\n",
       "      <td>No aplica</td>\n",
       "      <td>No aplica</td>\n",
       "      <td>Cultivo</td>\n",
       "      <td>186834227473</td>\n",
       "      <td>Manabi</td>\n",
       "    </tr>\n",
       "    <tr>\n",
       "      <th>...</th>\n",
       "      <td>...</td>\n",
       "      <td>...</td>\n",
       "      <td>...</td>\n",
       "      <td>...</td>\n",
       "      <td>...</td>\n",
       "      <td>...</td>\n",
       "      <td>...</td>\n",
       "      <td>...</td>\n",
       "      <td>...</td>\n",
       "      <td>...</td>\n",
       "      <td>...</td>\n",
       "      <td>...</td>\n",
       "      <td>...</td>\n",
       "      <td>...</td>\n",
       "      <td>...</td>\n",
       "      <td>...</td>\n",
       "      <td>...</td>\n",
       "    </tr>\n",
       "    <tr>\n",
       "      <th>93402</th>\n",
       "      <td>1317</td>\n",
       "      <td>Pedernales</td>\n",
       "      <td>PEDERNALES</td>\n",
       "      <td>13175100000000000</td>\n",
       "      <td>Cojimies</td>\n",
       "      <td>BN</td>\n",
       "      <td>BOSQUE NATIVO</td>\n",
       "      <td>No aplica</td>\n",
       "      <td>Conservación y protección</td>\n",
       "      <td>No aplica</td>\n",
       "      <td>No aplica</td>\n",
       "      <td>No aplica</td>\n",
       "      <td>No aplica</td>\n",
       "      <td>S/Datos</td>\n",
       "      <td>Bosque nativo</td>\n",
       "      <td>3529818634050</td>\n",
       "      <td>Manabi</td>\n",
       "    </tr>\n",
       "    <tr>\n",
       "      <th>93403</th>\n",
       "      <td>1317</td>\n",
       "      <td>Pedernales</td>\n",
       "      <td>PEDERNALES</td>\n",
       "      <td>13175100000000000</td>\n",
       "      <td>Cojimies</td>\n",
       "      <td>BN</td>\n",
       "      <td>BOSQUE NATIVO</td>\n",
       "      <td>No aplica</td>\n",
       "      <td>Conservación y protección</td>\n",
       "      <td>No aplica</td>\n",
       "      <td>No aplica</td>\n",
       "      <td>No aplica</td>\n",
       "      <td>No aplica</td>\n",
       "      <td>S/Datos</td>\n",
       "      <td>Bosque nativo</td>\n",
       "      <td>2813887994250</td>\n",
       "      <td>Manabi</td>\n",
       "    </tr>\n",
       "    <tr>\n",
       "      <th>93404</th>\n",
       "      <td>1317</td>\n",
       "      <td>Pedernales</td>\n",
       "      <td>PEDERNALES</td>\n",
       "      <td>13175100000000000</td>\n",
       "      <td>Cojimies</td>\n",
       "      <td>BN</td>\n",
       "      <td>BOSQUE NATIVO</td>\n",
       "      <td>No aplica</td>\n",
       "      <td>Conservación y protección</td>\n",
       "      <td>No aplica</td>\n",
       "      <td>No aplica</td>\n",
       "      <td>No aplica</td>\n",
       "      <td>No aplica</td>\n",
       "      <td>S/Datos</td>\n",
       "      <td>Bosque nativo</td>\n",
       "      <td>8480387854250</td>\n",
       "      <td>Manabi</td>\n",
       "    </tr>\n",
       "    <tr>\n",
       "      <th>93405</th>\n",
       "      <td>1317</td>\n",
       "      <td>Pedernales</td>\n",
       "      <td>PEDERNALES</td>\n",
       "      <td>13175100000000000</td>\n",
       "      <td>Cojimies</td>\n",
       "      <td>PC</td>\n",
       "      <td>PASTO CULTIVADO</td>\n",
       "      <td>Cultivo permanente</td>\n",
       "      <td>Pecuario</td>\n",
       "      <td>Grande</td>\n",
       "      <td>Sin riego</td>\n",
       "      <td>Mercantil</td>\n",
       "      <td>No aplica</td>\n",
       "      <td>No aplica</td>\n",
       "      <td>Pastizal</td>\n",
       "      <td>25193239083600</td>\n",
       "      <td>Manabi</td>\n",
       "    </tr>\n",
       "    <tr>\n",
       "      <th>93406</th>\n",
       "      <td>1317</td>\n",
       "      <td>Pedernales</td>\n",
       "      <td>PEDERNALES</td>\n",
       "      <td>13175100000000000</td>\n",
       "      <td>Cojimies</td>\n",
       "      <td>ANr</td>\n",
       "      <td>RIO DOBLE</td>\n",
       "      <td>No aplica</td>\n",
       "      <td>Agua</td>\n",
       "      <td>No aplica</td>\n",
       "      <td>No aplica</td>\n",
       "      <td>No aplica</td>\n",
       "      <td>No aplica</td>\n",
       "      <td>No aplica</td>\n",
       "      <td>Cuerpo de agua</td>\n",
       "      <td>9135262706940</td>\n",
       "      <td>Manabi</td>\n",
       "    </tr>\n",
       "  </tbody>\n",
       "</table>\n",
       "<p>93407 rows × 17 columns</p>\n",
       "</div>"
      ],
      "text/plain": [
       "      DPA_CANTON  DPA_DESCAN      CANTON         DPA_PARROQ  DPA_DESPAR  \\\n",
       "0              0                                          0               \n",
       "1           1306    Jipijapa    JIPIJAPA  13065200000000000  El Anegado   \n",
       "2           1306    Jipijapa    JIPIJAPA  13065200000000000  El Anegado   \n",
       "3           1306    Jipijapa    JIPIJAPA  13065200000000000  El Anegado   \n",
       "4           1306    Jipijapa    JIPIJAPA  13065200000000000  El Anegado   \n",
       "...          ...         ...         ...                ...         ...   \n",
       "93402       1317  Pedernales  PEDERNALES  13175100000000000    Cojimies   \n",
       "93403       1317  Pedernales  PEDERNALES  13175100000000000    Cojimies   \n",
       "93404       1317  Pedernales  PEDERNALES  13175100000000000    Cojimies   \n",
       "93405       1317  Pedernales  PEDERNALES  13175100000000000    Cojimies   \n",
       "93406       1317  Pedernales  PEDERNALES  13175100000000000    Cojimies   \n",
       "\n",
       "      simbolo             cobertura             tempora  \\\n",
       "0          MT  VEGETACION ARBUSTIVA           No aplica   \n",
       "1        CAcm                  MAIZ       Cultivo anual   \n",
       "2        CAcm                  MAIZ       Cultivo anual   \n",
       "3        CAcm                  MAIZ       Cultivo anual   \n",
       "4        CAcm                  MAIZ       Cultivo anual   \n",
       "...       ...                   ...                 ...   \n",
       "93402      BN         BOSQUE NATIVO           No aplica   \n",
       "93403      BN         BOSQUE NATIVO           No aplica   \n",
       "93404      BN         BOSQUE NATIVO           No aplica   \n",
       "93405      PC       PASTO CULTIVADO  Cultivo permanente   \n",
       "93406     ANr             RIO DOBLE           No aplica   \n",
       "\n",
       "                           Uso_1  tamparcel    Riego_1 sistproduc  actminera  \\\n",
       "0      Conservación y protección  No aplica  No aplica  No aplica  No aplica   \n",
       "1                       Agrícola    Pequeña  Sin riego  Mercantil  No aplica   \n",
       "2                       Agrícola    Pequeña  Sin riego  Mercantil  No aplica   \n",
       "3                       Agrícola    Pequeña  Sin riego  Mercantil  No aplica   \n",
       "4                       Agrícola    Pequeña  Sin riego  Mercantil  No aplica   \n",
       "...                          ...        ...        ...        ...        ...   \n",
       "93402  Conservación y protección  No aplica  No aplica  No aplica  No aplica   \n",
       "93403  Conservación y protección  No aplica  No aplica  No aplica  No aplica   \n",
       "93404  Conservación y protección  No aplica  No aplica  No aplica  No aplica   \n",
       "93405                   Pecuario     Grande  Sin riego  Mercantil  No aplica   \n",
       "93406                       Agua  No aplica  No aplica  No aplica  No aplica   \n",
       "\n",
       "      Nvl_alt__2               Categor           km2_1 Provincia  \n",
       "0        S/Datos  Vegetaci¾n arbustiva      5565535904    Manabi  \n",
       "1      No aplica               Cultivo       739562030    Manabi  \n",
       "2      No aplica               Cultivo    106642286729    Manabi  \n",
       "3      No aplica               Cultivo    105192429997    Manabi  \n",
       "4      No aplica               Cultivo    186834227473    Manabi  \n",
       "...          ...                   ...             ...       ...  \n",
       "93402    S/Datos         Bosque nativo   3529818634050    Manabi  \n",
       "93403    S/Datos         Bosque nativo   2813887994250    Manabi  \n",
       "93404    S/Datos         Bosque nativo   8480387854250    Manabi  \n",
       "93405  No aplica              Pastizal  25193239083600    Manabi  \n",
       "93406  No aplica        Cuerpo de agua   9135262706940    Manabi  \n",
       "\n",
       "[93407 rows x 17 columns]"
      ]
     },
     "execution_count": 21,
     "metadata": {},
     "output_type": "execute_result"
    }
   ],
   "source": [
    "df_suelo"
   ]
  },
  {
   "cell_type": "code",
   "execution_count": 22,
   "id": "23dca444",
   "metadata": {},
   "outputs": [],
   "source": [
    "df_selected = df_suelo.loc[df_suelo['DPA_CANTON'] == selection['DPA_CANTON'].values[0]]"
   ]
  },
  {
   "cell_type": "code",
   "execution_count": 23,
   "id": "69d262b1",
   "metadata": {
    "scrolled": true
   },
   "outputs": [
    {
     "data": {
      "text/html": [
       "<div>\n",
       "<style scoped>\n",
       "    .dataframe tbody tr th:only-of-type {\n",
       "        vertical-align: middle;\n",
       "    }\n",
       "\n",
       "    .dataframe tbody tr th {\n",
       "        vertical-align: top;\n",
       "    }\n",
       "\n",
       "    .dataframe thead th {\n",
       "        text-align: right;\n",
       "    }\n",
       "</style>\n",
       "<table border=\"1\" class=\"dataframe\">\n",
       "  <thead>\n",
       "    <tr style=\"text-align: right;\">\n",
       "      <th></th>\n",
       "      <th>DPA_CANTON</th>\n",
       "      <th>DPA_DESCAN</th>\n",
       "      <th>CANTON</th>\n",
       "      <th>DPA_PARROQ</th>\n",
       "      <th>DPA_DESPAR</th>\n",
       "      <th>simbolo</th>\n",
       "      <th>cobertura</th>\n",
       "      <th>tempora</th>\n",
       "      <th>Uso_1</th>\n",
       "      <th>tamparcel</th>\n",
       "      <th>Riego_1</th>\n",
       "      <th>sistproduc</th>\n",
       "      <th>actminera</th>\n",
       "      <th>Nvl_alt__2</th>\n",
       "      <th>Categor</th>\n",
       "      <th>km2_1</th>\n",
       "      <th>Provincia</th>\n",
       "    </tr>\n",
       "  </thead>\n",
       "  <tbody>\n",
       "    <tr>\n",
       "      <th>3521</th>\n",
       "      <td>1301</td>\n",
       "      <td>Portoviejo</td>\n",
       "      <td>PORTOVIEJO</td>\n",
       "      <td>13015300000000000</td>\n",
       "      <td>Crucita</td>\n",
       "      <td>CAcm</td>\n",
       "      <td>MAIZ</td>\n",
       "      <td>Cultivo anual</td>\n",
       "      <td>Agrícola</td>\n",
       "      <td>Pequeña</td>\n",
       "      <td>Con riego</td>\n",
       "      <td>Mercantil</td>\n",
       "      <td>No aplica</td>\n",
       "      <td>No aplica</td>\n",
       "      <td>Cultivo</td>\n",
       "      <td>7039344300400</td>\n",
       "      <td>Manabi</td>\n",
       "    </tr>\n",
       "    <tr>\n",
       "      <th>3522</th>\n",
       "      <td>1301</td>\n",
       "      <td>Portoviejo</td>\n",
       "      <td>PORTOVIEJO</td>\n",
       "      <td>13015300000000000</td>\n",
       "      <td>Crucita</td>\n",
       "      <td>CAcm</td>\n",
       "      <td>MAIZ</td>\n",
       "      <td>Cultivo anual</td>\n",
       "      <td>Agrícola</td>\n",
       "      <td>Pequeña</td>\n",
       "      <td>Con riego</td>\n",
       "      <td>Mercantil</td>\n",
       "      <td>No aplica</td>\n",
       "      <td>No aplica</td>\n",
       "      <td>Cultivo</td>\n",
       "      <td>134985716159</td>\n",
       "      <td>Manabi</td>\n",
       "    </tr>\n",
       "    <tr>\n",
       "      <th>3523</th>\n",
       "      <td>1301</td>\n",
       "      <td>Portoviejo</td>\n",
       "      <td>PORTOVIEJO</td>\n",
       "      <td>13015300000000000</td>\n",
       "      <td>Crucita</td>\n",
       "      <td>CAcm</td>\n",
       "      <td>MAIZ</td>\n",
       "      <td>Cultivo anual</td>\n",
       "      <td>Agrícola</td>\n",
       "      <td>Pequeña</td>\n",
       "      <td>Con riego</td>\n",
       "      <td>Mercantil</td>\n",
       "      <td>No aplica</td>\n",
       "      <td>No aplica</td>\n",
       "      <td>Cultivo</td>\n",
       "      <td>380791986473</td>\n",
       "      <td>Manabi</td>\n",
       "    </tr>\n",
       "    <tr>\n",
       "      <th>3524</th>\n",
       "      <td>1301</td>\n",
       "      <td>Portoviejo</td>\n",
       "      <td>PORTOVIEJO</td>\n",
       "      <td>13015300000000000</td>\n",
       "      <td>Crucita</td>\n",
       "      <td>CAcm</td>\n",
       "      <td>MAIZ</td>\n",
       "      <td>Cultivo anual</td>\n",
       "      <td>Agrícola</td>\n",
       "      <td>Pequeña</td>\n",
       "      <td>Con riego</td>\n",
       "      <td>Mercantil</td>\n",
       "      <td>No aplica</td>\n",
       "      <td>No aplica</td>\n",
       "      <td>Cultivo</td>\n",
       "      <td>289619383480</td>\n",
       "      <td>Manabi</td>\n",
       "    </tr>\n",
       "    <tr>\n",
       "      <th>3525</th>\n",
       "      <td>1301</td>\n",
       "      <td>Portoviejo</td>\n",
       "      <td>PORTOVIEJO</td>\n",
       "      <td>13015300000000000</td>\n",
       "      <td>Crucita</td>\n",
       "      <td>CAcm</td>\n",
       "      <td>MAIZ</td>\n",
       "      <td>Cultivo anual</td>\n",
       "      <td>Agrícola</td>\n",
       "      <td>Pequeña</td>\n",
       "      <td>Con riego</td>\n",
       "      <td>Mercantil</td>\n",
       "      <td>No aplica</td>\n",
       "      <td>No aplica</td>\n",
       "      <td>Cultivo</td>\n",
       "      <td>536677096924</td>\n",
       "      <td>Manabi</td>\n",
       "    </tr>\n",
       "    <tr>\n",
       "      <th>...</th>\n",
       "      <td>...</td>\n",
       "      <td>...</td>\n",
       "      <td>...</td>\n",
       "      <td>...</td>\n",
       "      <td>...</td>\n",
       "      <td>...</td>\n",
       "      <td>...</td>\n",
       "      <td>...</td>\n",
       "      <td>...</td>\n",
       "      <td>...</td>\n",
       "      <td>...</td>\n",
       "      <td>...</td>\n",
       "      <td>...</td>\n",
       "      <td>...</td>\n",
       "      <td>...</td>\n",
       "      <td>...</td>\n",
       "      <td>...</td>\n",
       "    </tr>\n",
       "    <tr>\n",
       "      <th>65980</th>\n",
       "      <td>1301</td>\n",
       "      <td>Portoviejo</td>\n",
       "      <td>PORTOVIEJO</td>\n",
       "      <td>13015600000000000</td>\n",
       "      <td>San Placido</td>\n",
       "      <td>TBP6</td>\n",
       "      <td>CAÐA GUADUA O BAMBU</td>\n",
       "      <td>Cultivo permanente</td>\n",
       "      <td>Protecci¾n o producci¾n</td>\n",
       "      <td>Pequeña</td>\n",
       "      <td>Sin riego</td>\n",
       "      <td>Mercantil</td>\n",
       "      <td>No aplica</td>\n",
       "      <td>No aplica</td>\n",
       "      <td>Plantaci¾n forestal</td>\n",
       "      <td>324669012796</td>\n",
       "      <td>Manabi</td>\n",
       "    </tr>\n",
       "    <tr>\n",
       "      <th>65981</th>\n",
       "      <td>1301</td>\n",
       "      <td>Portoviejo</td>\n",
       "      <td>PORTOVIEJO</td>\n",
       "      <td>13015600000000000</td>\n",
       "      <td>San Placido</td>\n",
       "      <td>TBP6</td>\n",
       "      <td>CAÐA GUADUA O BAMBU</td>\n",
       "      <td>Cultivo permanente</td>\n",
       "      <td>Protecci¾n o producci¾n</td>\n",
       "      <td>Pequeña</td>\n",
       "      <td>Sin riego</td>\n",
       "      <td>Mercantil</td>\n",
       "      <td>No aplica</td>\n",
       "      <td>No aplica</td>\n",
       "      <td>Plantaci¾n forestal</td>\n",
       "      <td>655304077</td>\n",
       "      <td>Manabi</td>\n",
       "    </tr>\n",
       "    <tr>\n",
       "      <th>65982</th>\n",
       "      <td>1301</td>\n",
       "      <td>Portoviejo</td>\n",
       "      <td>PORTOVIEJO</td>\n",
       "      <td>13015600000000000</td>\n",
       "      <td>San Placido</td>\n",
       "      <td>TBP6</td>\n",
       "      <td>CAÐA GUADUA O BAMBU</td>\n",
       "      <td>Cultivo permanente</td>\n",
       "      <td>Protecci¾n o producci¾n</td>\n",
       "      <td>Pequeña</td>\n",
       "      <td>Sin riego</td>\n",
       "      <td>Mercantil</td>\n",
       "      <td>No aplica</td>\n",
       "      <td>No aplica</td>\n",
       "      <td>Plantaci¾n forestal</td>\n",
       "      <td>203134902579</td>\n",
       "      <td>Manabi</td>\n",
       "    </tr>\n",
       "    <tr>\n",
       "      <th>65983</th>\n",
       "      <td>1301</td>\n",
       "      <td>Portoviejo</td>\n",
       "      <td>PORTOVIEJO</td>\n",
       "      <td>13015600000000000</td>\n",
       "      <td>San Placido</td>\n",
       "      <td>TBP6</td>\n",
       "      <td>CAÐA GUADUA O BAMBU</td>\n",
       "      <td>Cultivo permanente</td>\n",
       "      <td>Protecci¾n o producci¾n</td>\n",
       "      <td>Pequeña</td>\n",
       "      <td>Sin riego</td>\n",
       "      <td>Mercantil</td>\n",
       "      <td>No aplica</td>\n",
       "      <td>No aplica</td>\n",
       "      <td>Plantaci¾n forestal</td>\n",
       "      <td>154535805565</td>\n",
       "      <td>Manabi</td>\n",
       "    </tr>\n",
       "    <tr>\n",
       "      <th>65984</th>\n",
       "      <td>1301</td>\n",
       "      <td>Portoviejo</td>\n",
       "      <td>PORTOVIEJO</td>\n",
       "      <td>13015700000000000</td>\n",
       "      <td>Chirijos</td>\n",
       "      <td>CPuf</td>\n",
       "      <td>CAFE</td>\n",
       "      <td>Cultivo permanente</td>\n",
       "      <td>Agrícola</td>\n",
       "      <td>Pequeña</td>\n",
       "      <td>Sin riego</td>\n",
       "      <td>Mercantil</td>\n",
       "      <td>No aplica</td>\n",
       "      <td>No aplica</td>\n",
       "      <td>Cultivo</td>\n",
       "      <td>6213815169</td>\n",
       "      <td>Manabi</td>\n",
       "    </tr>\n",
       "  </tbody>\n",
       "</table>\n",
       "<p>4255 rows × 17 columns</p>\n",
       "</div>"
      ],
      "text/plain": [
       "      DPA_CANTON  DPA_DESCAN      CANTON         DPA_PARROQ   DPA_DESPAR  \\\n",
       "3521        1301  Portoviejo  PORTOVIEJO  13015300000000000      Crucita   \n",
       "3522        1301  Portoviejo  PORTOVIEJO  13015300000000000      Crucita   \n",
       "3523        1301  Portoviejo  PORTOVIEJO  13015300000000000      Crucita   \n",
       "3524        1301  Portoviejo  PORTOVIEJO  13015300000000000      Crucita   \n",
       "3525        1301  Portoviejo  PORTOVIEJO  13015300000000000      Crucita   \n",
       "...          ...         ...         ...                ...          ...   \n",
       "65980       1301  Portoviejo  PORTOVIEJO  13015600000000000  San Placido   \n",
       "65981       1301  Portoviejo  PORTOVIEJO  13015600000000000  San Placido   \n",
       "65982       1301  Portoviejo  PORTOVIEJO  13015600000000000  San Placido   \n",
       "65983       1301  Portoviejo  PORTOVIEJO  13015600000000000  San Placido   \n",
       "65984       1301  Portoviejo  PORTOVIEJO  13015700000000000     Chirijos   \n",
       "\n",
       "      simbolo            cobertura             tempora  \\\n",
       "3521     CAcm                 MAIZ       Cultivo anual   \n",
       "3522     CAcm                 MAIZ       Cultivo anual   \n",
       "3523     CAcm                 MAIZ       Cultivo anual   \n",
       "3524     CAcm                 MAIZ       Cultivo anual   \n",
       "3525     CAcm                 MAIZ       Cultivo anual   \n",
       "...       ...                  ...                 ...   \n",
       "65980    TBP6  CAÐA GUADUA O BAMBU  Cultivo permanente   \n",
       "65981    TBP6  CAÐA GUADUA O BAMBU  Cultivo permanente   \n",
       "65982    TBP6  CAÐA GUADUA O BAMBU  Cultivo permanente   \n",
       "65983    TBP6  CAÐA GUADUA O BAMBU  Cultivo permanente   \n",
       "65984    CPuf                 CAFE  Cultivo permanente   \n",
       "\n",
       "                         Uso_1 tamparcel    Riego_1 sistproduc  actminera  \\\n",
       "3521                  Agrícola   Pequeña  Con riego  Mercantil  No aplica   \n",
       "3522                  Agrícola   Pequeña  Con riego  Mercantil  No aplica   \n",
       "3523                  Agrícola   Pequeña  Con riego  Mercantil  No aplica   \n",
       "3524                  Agrícola   Pequeña  Con riego  Mercantil  No aplica   \n",
       "3525                  Agrícola   Pequeña  Con riego  Mercantil  No aplica   \n",
       "...                        ...       ...        ...        ...        ...   \n",
       "65980  Protecci¾n o producci¾n   Pequeña  Sin riego  Mercantil  No aplica   \n",
       "65981  Protecci¾n o producci¾n   Pequeña  Sin riego  Mercantil  No aplica   \n",
       "65982  Protecci¾n o producci¾n   Pequeña  Sin riego  Mercantil  No aplica   \n",
       "65983  Protecci¾n o producci¾n   Pequeña  Sin riego  Mercantil  No aplica   \n",
       "65984                 Agrícola   Pequeña  Sin riego  Mercantil  No aplica   \n",
       "\n",
       "      Nvl_alt__2              Categor          km2_1 Provincia  \n",
       "3521   No aplica              Cultivo  7039344300400    Manabi  \n",
       "3522   No aplica              Cultivo   134985716159    Manabi  \n",
       "3523   No aplica              Cultivo   380791986473    Manabi  \n",
       "3524   No aplica              Cultivo   289619383480    Manabi  \n",
       "3525   No aplica              Cultivo   536677096924    Manabi  \n",
       "...          ...                  ...            ...       ...  \n",
       "65980  No aplica  Plantaci¾n forestal   324669012796    Manabi  \n",
       "65981  No aplica  Plantaci¾n forestal      655304077    Manabi  \n",
       "65982  No aplica  Plantaci¾n forestal   203134902579    Manabi  \n",
       "65983  No aplica  Plantaci¾n forestal   154535805565    Manabi  \n",
       "65984  No aplica              Cultivo     6213815169    Manabi  \n",
       "\n",
       "[4255 rows x 17 columns]"
      ]
     },
     "execution_count": 23,
     "metadata": {},
     "output_type": "execute_result"
    }
   ],
   "source": [
    "df_selected"
   ]
  },
  {
   "cell_type": "code",
   "execution_count": 34,
   "id": "c27628f6",
   "metadata": {
    "scrolled": false
   },
   "outputs": [
    {
     "name": "stderr",
     "output_type": "stream",
     "text": [
      "/tmp/ipykernel_83969/3799217319.py:9: FutureWarning:\n",
      "\n",
      "The series.append method is deprecated and will be removed from pandas in a future version. Use pandas.concat instead.\n",
      "\n"
     ]
    },
    {
     "data": {
      "application/vnd.plotly.v1+json": {
       "config": {
        "plotlyServerURL": "https://plot.ly"
       },
       "data": [
        {
         "domain": {
          "x": [
           0,
           1
          ],
          "y": [
           0,
           1
          ]
         },
         "hovertemplate": "index=%{label}<br>value=%{value}<extra></extra>",
         "labels": [
          "PASTO CULTIVADO",
          "BOSQUE SECO MEDIANAMENTE ALTERADO",
          "BOSQUE HUMEDO MEDIANAMENTE ALTERADO",
          "MAIZ",
          "VEGETACION HERBACEA SECA MUY ALTERADA",
          "MATORRAL SECO MUY ALTERADO",
          "MATORRAL SECO MEDIANAMENTE ALTERADO",
          "BOSQUE HUMEDO POCO ALTERADO",
          "CACAO",
          "OTROS"
         ],
         "legendgroup": "",
         "name": "",
         "showlegend": true,
         "textinfo": "percent",
         "textposition": "inside",
         "type": "pie",
         "values": [
          1296617872584813,
          1266356999226058,
          1073169714389928,
          1000105646011031,
          781024992059409,
          715288803131228,
          611910662656170,
          346043368163674,
          306356046252849,
          2169415796696953
         ]
        }
       ],
       "layout": {
        "legend": {
         "orientation": "h",
         "tracegroupgap": 0,
         "x": 1,
         "xanchor": "right",
         "y": 1.02,
         "yanchor": "bottom"
        },
        "margin": {
         "t": 60
        },
        "piecolorway": [
         "rgb(102,194,165)",
         "rgb(252,141,98)",
         "rgb(141,160,203)",
         "rgb(231,138,195)",
         "rgb(166,216,84)",
         "rgb(255,217,47)",
         "rgb(229,196,148)",
         "rgb(179,179,179)"
        ],
        "template": {
         "data": {
          "bar": [
           {
            "error_x": {
             "color": "#2a3f5f"
            },
            "error_y": {
             "color": "#2a3f5f"
            },
            "marker": {
             "line": {
              "color": "#E5ECF6",
              "width": 0.5
             },
             "pattern": {
              "fillmode": "overlay",
              "size": 10,
              "solidity": 0.2
             }
            },
            "type": "bar"
           }
          ],
          "barpolar": [
           {
            "marker": {
             "line": {
              "color": "#E5ECF6",
              "width": 0.5
             },
             "pattern": {
              "fillmode": "overlay",
              "size": 10,
              "solidity": 0.2
             }
            },
            "type": "barpolar"
           }
          ],
          "carpet": [
           {
            "aaxis": {
             "endlinecolor": "#2a3f5f",
             "gridcolor": "white",
             "linecolor": "white",
             "minorgridcolor": "white",
             "startlinecolor": "#2a3f5f"
            },
            "baxis": {
             "endlinecolor": "#2a3f5f",
             "gridcolor": "white",
             "linecolor": "white",
             "minorgridcolor": "white",
             "startlinecolor": "#2a3f5f"
            },
            "type": "carpet"
           }
          ],
          "choropleth": [
           {
            "colorbar": {
             "outlinewidth": 0,
             "ticks": ""
            },
            "type": "choropleth"
           }
          ],
          "contour": [
           {
            "colorbar": {
             "outlinewidth": 0,
             "ticks": ""
            },
            "colorscale": [
             [
              0,
              "#0d0887"
             ],
             [
              0.1111111111111111,
              "#46039f"
             ],
             [
              0.2222222222222222,
              "#7201a8"
             ],
             [
              0.3333333333333333,
              "#9c179e"
             ],
             [
              0.4444444444444444,
              "#bd3786"
             ],
             [
              0.5555555555555556,
              "#d8576b"
             ],
             [
              0.6666666666666666,
              "#ed7953"
             ],
             [
              0.7777777777777778,
              "#fb9f3a"
             ],
             [
              0.8888888888888888,
              "#fdca26"
             ],
             [
              1,
              "#f0f921"
             ]
            ],
            "type": "contour"
           }
          ],
          "contourcarpet": [
           {
            "colorbar": {
             "outlinewidth": 0,
             "ticks": ""
            },
            "type": "contourcarpet"
           }
          ],
          "heatmap": [
           {
            "colorbar": {
             "outlinewidth": 0,
             "ticks": ""
            },
            "colorscale": [
             [
              0,
              "#0d0887"
             ],
             [
              0.1111111111111111,
              "#46039f"
             ],
             [
              0.2222222222222222,
              "#7201a8"
             ],
             [
              0.3333333333333333,
              "#9c179e"
             ],
             [
              0.4444444444444444,
              "#bd3786"
             ],
             [
              0.5555555555555556,
              "#d8576b"
             ],
             [
              0.6666666666666666,
              "#ed7953"
             ],
             [
              0.7777777777777778,
              "#fb9f3a"
             ],
             [
              0.8888888888888888,
              "#fdca26"
             ],
             [
              1,
              "#f0f921"
             ]
            ],
            "type": "heatmap"
           }
          ],
          "heatmapgl": [
           {
            "colorbar": {
             "outlinewidth": 0,
             "ticks": ""
            },
            "colorscale": [
             [
              0,
              "#0d0887"
             ],
             [
              0.1111111111111111,
              "#46039f"
             ],
             [
              0.2222222222222222,
              "#7201a8"
             ],
             [
              0.3333333333333333,
              "#9c179e"
             ],
             [
              0.4444444444444444,
              "#bd3786"
             ],
             [
              0.5555555555555556,
              "#d8576b"
             ],
             [
              0.6666666666666666,
              "#ed7953"
             ],
             [
              0.7777777777777778,
              "#fb9f3a"
             ],
             [
              0.8888888888888888,
              "#fdca26"
             ],
             [
              1,
              "#f0f921"
             ]
            ],
            "type": "heatmapgl"
           }
          ],
          "histogram": [
           {
            "marker": {
             "pattern": {
              "fillmode": "overlay",
              "size": 10,
              "solidity": 0.2
             }
            },
            "type": "histogram"
           }
          ],
          "histogram2d": [
           {
            "colorbar": {
             "outlinewidth": 0,
             "ticks": ""
            },
            "colorscale": [
             [
              0,
              "#0d0887"
             ],
             [
              0.1111111111111111,
              "#46039f"
             ],
             [
              0.2222222222222222,
              "#7201a8"
             ],
             [
              0.3333333333333333,
              "#9c179e"
             ],
             [
              0.4444444444444444,
              "#bd3786"
             ],
             [
              0.5555555555555556,
              "#d8576b"
             ],
             [
              0.6666666666666666,
              "#ed7953"
             ],
             [
              0.7777777777777778,
              "#fb9f3a"
             ],
             [
              0.8888888888888888,
              "#fdca26"
             ],
             [
              1,
              "#f0f921"
             ]
            ],
            "type": "histogram2d"
           }
          ],
          "histogram2dcontour": [
           {
            "colorbar": {
             "outlinewidth": 0,
             "ticks": ""
            },
            "colorscale": [
             [
              0,
              "#0d0887"
             ],
             [
              0.1111111111111111,
              "#46039f"
             ],
             [
              0.2222222222222222,
              "#7201a8"
             ],
             [
              0.3333333333333333,
              "#9c179e"
             ],
             [
              0.4444444444444444,
              "#bd3786"
             ],
             [
              0.5555555555555556,
              "#d8576b"
             ],
             [
              0.6666666666666666,
              "#ed7953"
             ],
             [
              0.7777777777777778,
              "#fb9f3a"
             ],
             [
              0.8888888888888888,
              "#fdca26"
             ],
             [
              1,
              "#f0f921"
             ]
            ],
            "type": "histogram2dcontour"
           }
          ],
          "mesh3d": [
           {
            "colorbar": {
             "outlinewidth": 0,
             "ticks": ""
            },
            "type": "mesh3d"
           }
          ],
          "parcoords": [
           {
            "line": {
             "colorbar": {
              "outlinewidth": 0,
              "ticks": ""
             }
            },
            "type": "parcoords"
           }
          ],
          "pie": [
           {
            "automargin": true,
            "type": "pie"
           }
          ],
          "scatter": [
           {
            "marker": {
             "colorbar": {
              "outlinewidth": 0,
              "ticks": ""
             }
            },
            "type": "scatter"
           }
          ],
          "scatter3d": [
           {
            "line": {
             "colorbar": {
              "outlinewidth": 0,
              "ticks": ""
             }
            },
            "marker": {
             "colorbar": {
              "outlinewidth": 0,
              "ticks": ""
             }
            },
            "type": "scatter3d"
           }
          ],
          "scattercarpet": [
           {
            "marker": {
             "colorbar": {
              "outlinewidth": 0,
              "ticks": ""
             }
            },
            "type": "scattercarpet"
           }
          ],
          "scattergeo": [
           {
            "marker": {
             "colorbar": {
              "outlinewidth": 0,
              "ticks": ""
             }
            },
            "type": "scattergeo"
           }
          ],
          "scattergl": [
           {
            "marker": {
             "colorbar": {
              "outlinewidth": 0,
              "ticks": ""
             }
            },
            "type": "scattergl"
           }
          ],
          "scattermapbox": [
           {
            "marker": {
             "colorbar": {
              "outlinewidth": 0,
              "ticks": ""
             }
            },
            "type": "scattermapbox"
           }
          ],
          "scatterpolar": [
           {
            "marker": {
             "colorbar": {
              "outlinewidth": 0,
              "ticks": ""
             }
            },
            "type": "scatterpolar"
           }
          ],
          "scatterpolargl": [
           {
            "marker": {
             "colorbar": {
              "outlinewidth": 0,
              "ticks": ""
             }
            },
            "type": "scatterpolargl"
           }
          ],
          "scatterternary": [
           {
            "marker": {
             "colorbar": {
              "outlinewidth": 0,
              "ticks": ""
             }
            },
            "type": "scatterternary"
           }
          ],
          "surface": [
           {
            "colorbar": {
             "outlinewidth": 0,
             "ticks": ""
            },
            "colorscale": [
             [
              0,
              "#0d0887"
             ],
             [
              0.1111111111111111,
              "#46039f"
             ],
             [
              0.2222222222222222,
              "#7201a8"
             ],
             [
              0.3333333333333333,
              "#9c179e"
             ],
             [
              0.4444444444444444,
              "#bd3786"
             ],
             [
              0.5555555555555556,
              "#d8576b"
             ],
             [
              0.6666666666666666,
              "#ed7953"
             ],
             [
              0.7777777777777778,
              "#fb9f3a"
             ],
             [
              0.8888888888888888,
              "#fdca26"
             ],
             [
              1,
              "#f0f921"
             ]
            ],
            "type": "surface"
           }
          ],
          "table": [
           {
            "cells": {
             "fill": {
              "color": "#EBF0F8"
             },
             "line": {
              "color": "white"
             }
            },
            "header": {
             "fill": {
              "color": "#C8D4E3"
             },
             "line": {
              "color": "white"
             }
            },
            "type": "table"
           }
          ]
         },
         "layout": {
          "annotationdefaults": {
           "arrowcolor": "#2a3f5f",
           "arrowhead": 0,
           "arrowwidth": 1
          },
          "autotypenumbers": "strict",
          "coloraxis": {
           "colorbar": {
            "outlinewidth": 0,
            "ticks": ""
           }
          },
          "colorscale": {
           "diverging": [
            [
             0,
             "#8e0152"
            ],
            [
             0.1,
             "#c51b7d"
            ],
            [
             0.2,
             "#de77ae"
            ],
            [
             0.3,
             "#f1b6da"
            ],
            [
             0.4,
             "#fde0ef"
            ],
            [
             0.5,
             "#f7f7f7"
            ],
            [
             0.6,
             "#e6f5d0"
            ],
            [
             0.7,
             "#b8e186"
            ],
            [
             0.8,
             "#7fbc41"
            ],
            [
             0.9,
             "#4d9221"
            ],
            [
             1,
             "#276419"
            ]
           ],
           "sequential": [
            [
             0,
             "#0d0887"
            ],
            [
             0.1111111111111111,
             "#46039f"
            ],
            [
             0.2222222222222222,
             "#7201a8"
            ],
            [
             0.3333333333333333,
             "#9c179e"
            ],
            [
             0.4444444444444444,
             "#bd3786"
            ],
            [
             0.5555555555555556,
             "#d8576b"
            ],
            [
             0.6666666666666666,
             "#ed7953"
            ],
            [
             0.7777777777777778,
             "#fb9f3a"
            ],
            [
             0.8888888888888888,
             "#fdca26"
            ],
            [
             1,
             "#f0f921"
            ]
           ],
           "sequentialminus": [
            [
             0,
             "#0d0887"
            ],
            [
             0.1111111111111111,
             "#46039f"
            ],
            [
             0.2222222222222222,
             "#7201a8"
            ],
            [
             0.3333333333333333,
             "#9c179e"
            ],
            [
             0.4444444444444444,
             "#bd3786"
            ],
            [
             0.5555555555555556,
             "#d8576b"
            ],
            [
             0.6666666666666666,
             "#ed7953"
            ],
            [
             0.7777777777777778,
             "#fb9f3a"
            ],
            [
             0.8888888888888888,
             "#fdca26"
            ],
            [
             1,
             "#f0f921"
            ]
           ]
          },
          "colorway": [
           "#636efa",
           "#EF553B",
           "#00cc96",
           "#ab63fa",
           "#FFA15A",
           "#19d3f3",
           "#FF6692",
           "#B6E880",
           "#FF97FF",
           "#FECB52"
          ],
          "font": {
           "color": "#2a3f5f"
          },
          "geo": {
           "bgcolor": "white",
           "lakecolor": "white",
           "landcolor": "#E5ECF6",
           "showlakes": true,
           "showland": true,
           "subunitcolor": "white"
          },
          "hoverlabel": {
           "align": "left"
          },
          "hovermode": "closest",
          "mapbox": {
           "style": "light"
          },
          "paper_bgcolor": "white",
          "plot_bgcolor": "#E5ECF6",
          "polar": {
           "angularaxis": {
            "gridcolor": "white",
            "linecolor": "white",
            "ticks": ""
           },
           "bgcolor": "#E5ECF6",
           "radialaxis": {
            "gridcolor": "white",
            "linecolor": "white",
            "ticks": ""
           }
          },
          "scene": {
           "xaxis": {
            "backgroundcolor": "#E5ECF6",
            "gridcolor": "white",
            "gridwidth": 2,
            "linecolor": "white",
            "showbackground": true,
            "ticks": "",
            "zerolinecolor": "white"
           },
           "yaxis": {
            "backgroundcolor": "#E5ECF6",
            "gridcolor": "white",
            "gridwidth": 2,
            "linecolor": "white",
            "showbackground": true,
            "ticks": "",
            "zerolinecolor": "white"
           },
           "zaxis": {
            "backgroundcolor": "#E5ECF6",
            "gridcolor": "white",
            "gridwidth": 2,
            "linecolor": "white",
            "showbackground": true,
            "ticks": "",
            "zerolinecolor": "white"
           }
          },
          "shapedefaults": {
           "line": {
            "color": "#2a3f5f"
           }
          },
          "ternary": {
           "aaxis": {
            "gridcolor": "white",
            "linecolor": "white",
            "ticks": ""
           },
           "baxis": {
            "gridcolor": "white",
            "linecolor": "white",
            "ticks": ""
           },
           "bgcolor": "#E5ECF6",
           "caxis": {
            "gridcolor": "white",
            "linecolor": "white",
            "ticks": ""
           }
          },
          "title": {
           "x": 0.05
          },
          "xaxis": {
           "automargin": true,
           "gridcolor": "white",
           "linecolor": "white",
           "ticks": "",
           "title": {
            "standoff": 15
           },
           "zerolinecolor": "white",
           "zerolinewidth": 2
          },
          "yaxis": {
           "automargin": true,
           "gridcolor": "white",
           "linecolor": "white",
           "ticks": "",
           "title": {
            "standoff": 15
           },
           "zerolinecolor": "white",
           "zerolinewidth": 2
          }
         }
        }
       }
      },
      "text/html": [
       "<div>                            <div id=\"eb2310ec-28ec-4758-8ef0-733f8de51ce7\" class=\"plotly-graph-div\" style=\"height:525px; width:100%;\"></div>            <script type=\"text/javascript\">                require([\"plotly\"], function(Plotly) {                    window.PLOTLYENV=window.PLOTLYENV || {};                                    if (document.getElementById(\"eb2310ec-28ec-4758-8ef0-733f8de51ce7\")) {                    Plotly.newPlot(                        \"eb2310ec-28ec-4758-8ef0-733f8de51ce7\",                        [{\"domain\":{\"x\":[0.0,1.0],\"y\":[0.0,1.0]},\"hovertemplate\":\"index=%{label}<br>value=%{value}<extra></extra>\",\"labels\":[\"PASTO CULTIVADO\",\"BOSQUE SECO MEDIANAMENTE ALTERADO\",\"BOSQUE HUMEDO MEDIANAMENTE ALTERADO\",\"MAIZ\",\"VEGETACION HERBACEA SECA MUY ALTERADA\",\"MATORRAL SECO MUY ALTERADO\",\"MATORRAL SECO MEDIANAMENTE ALTERADO\",\"BOSQUE HUMEDO POCO ALTERADO\",\"CACAO\",\"OTROS\"],\"legendgroup\":\"\",\"name\":\"\",\"showlegend\":true,\"values\":[1296617872584813,1266356999226058,1073169714389928,1000105646011031,781024992059409,715288803131228,611910662656170,346043368163674,306356046252849,2169415796696953],\"type\":\"pie\",\"textinfo\":\"percent\",\"textposition\":\"inside\"}],                        {\"template\":{\"data\":{\"bar\":[{\"error_x\":{\"color\":\"#2a3f5f\"},\"error_y\":{\"color\":\"#2a3f5f\"},\"marker\":{\"line\":{\"color\":\"#E5ECF6\",\"width\":0.5},\"pattern\":{\"fillmode\":\"overlay\",\"size\":10,\"solidity\":0.2}},\"type\":\"bar\"}],\"barpolar\":[{\"marker\":{\"line\":{\"color\":\"#E5ECF6\",\"width\":0.5},\"pattern\":{\"fillmode\":\"overlay\",\"size\":10,\"solidity\":0.2}},\"type\":\"barpolar\"}],\"carpet\":[{\"aaxis\":{\"endlinecolor\":\"#2a3f5f\",\"gridcolor\":\"white\",\"linecolor\":\"white\",\"minorgridcolor\":\"white\",\"startlinecolor\":\"#2a3f5f\"},\"baxis\":{\"endlinecolor\":\"#2a3f5f\",\"gridcolor\":\"white\",\"linecolor\":\"white\",\"minorgridcolor\":\"white\",\"startlinecolor\":\"#2a3f5f\"},\"type\":\"carpet\"}],\"choropleth\":[{\"colorbar\":{\"outlinewidth\":0,\"ticks\":\"\"},\"type\":\"choropleth\"}],\"contour\":[{\"colorbar\":{\"outlinewidth\":0,\"ticks\":\"\"},\"colorscale\":[[0.0,\"#0d0887\"],[0.1111111111111111,\"#46039f\"],[0.2222222222222222,\"#7201a8\"],[0.3333333333333333,\"#9c179e\"],[0.4444444444444444,\"#bd3786\"],[0.5555555555555556,\"#d8576b\"],[0.6666666666666666,\"#ed7953\"],[0.7777777777777778,\"#fb9f3a\"],[0.8888888888888888,\"#fdca26\"],[1.0,\"#f0f921\"]],\"type\":\"contour\"}],\"contourcarpet\":[{\"colorbar\":{\"outlinewidth\":0,\"ticks\":\"\"},\"type\":\"contourcarpet\"}],\"heatmap\":[{\"colorbar\":{\"outlinewidth\":0,\"ticks\":\"\"},\"colorscale\":[[0.0,\"#0d0887\"],[0.1111111111111111,\"#46039f\"],[0.2222222222222222,\"#7201a8\"],[0.3333333333333333,\"#9c179e\"],[0.4444444444444444,\"#bd3786\"],[0.5555555555555556,\"#d8576b\"],[0.6666666666666666,\"#ed7953\"],[0.7777777777777778,\"#fb9f3a\"],[0.8888888888888888,\"#fdca26\"],[1.0,\"#f0f921\"]],\"type\":\"heatmap\"}],\"heatmapgl\":[{\"colorbar\":{\"outlinewidth\":0,\"ticks\":\"\"},\"colorscale\":[[0.0,\"#0d0887\"],[0.1111111111111111,\"#46039f\"],[0.2222222222222222,\"#7201a8\"],[0.3333333333333333,\"#9c179e\"],[0.4444444444444444,\"#bd3786\"],[0.5555555555555556,\"#d8576b\"],[0.6666666666666666,\"#ed7953\"],[0.7777777777777778,\"#fb9f3a\"],[0.8888888888888888,\"#fdca26\"],[1.0,\"#f0f921\"]],\"type\":\"heatmapgl\"}],\"histogram\":[{\"marker\":{\"pattern\":{\"fillmode\":\"overlay\",\"size\":10,\"solidity\":0.2}},\"type\":\"histogram\"}],\"histogram2d\":[{\"colorbar\":{\"outlinewidth\":0,\"ticks\":\"\"},\"colorscale\":[[0.0,\"#0d0887\"],[0.1111111111111111,\"#46039f\"],[0.2222222222222222,\"#7201a8\"],[0.3333333333333333,\"#9c179e\"],[0.4444444444444444,\"#bd3786\"],[0.5555555555555556,\"#d8576b\"],[0.6666666666666666,\"#ed7953\"],[0.7777777777777778,\"#fb9f3a\"],[0.8888888888888888,\"#fdca26\"],[1.0,\"#f0f921\"]],\"type\":\"histogram2d\"}],\"histogram2dcontour\":[{\"colorbar\":{\"outlinewidth\":0,\"ticks\":\"\"},\"colorscale\":[[0.0,\"#0d0887\"],[0.1111111111111111,\"#46039f\"],[0.2222222222222222,\"#7201a8\"],[0.3333333333333333,\"#9c179e\"],[0.4444444444444444,\"#bd3786\"],[0.5555555555555556,\"#d8576b\"],[0.6666666666666666,\"#ed7953\"],[0.7777777777777778,\"#fb9f3a\"],[0.8888888888888888,\"#fdca26\"],[1.0,\"#f0f921\"]],\"type\":\"histogram2dcontour\"}],\"mesh3d\":[{\"colorbar\":{\"outlinewidth\":0,\"ticks\":\"\"},\"type\":\"mesh3d\"}],\"parcoords\":[{\"line\":{\"colorbar\":{\"outlinewidth\":0,\"ticks\":\"\"}},\"type\":\"parcoords\"}],\"pie\":[{\"automargin\":true,\"type\":\"pie\"}],\"scatter\":[{\"marker\":{\"colorbar\":{\"outlinewidth\":0,\"ticks\":\"\"}},\"type\":\"scatter\"}],\"scatter3d\":[{\"line\":{\"colorbar\":{\"outlinewidth\":0,\"ticks\":\"\"}},\"marker\":{\"colorbar\":{\"outlinewidth\":0,\"ticks\":\"\"}},\"type\":\"scatter3d\"}],\"scattercarpet\":[{\"marker\":{\"colorbar\":{\"outlinewidth\":0,\"ticks\":\"\"}},\"type\":\"scattercarpet\"}],\"scattergeo\":[{\"marker\":{\"colorbar\":{\"outlinewidth\":0,\"ticks\":\"\"}},\"type\":\"scattergeo\"}],\"scattergl\":[{\"marker\":{\"colorbar\":{\"outlinewidth\":0,\"ticks\":\"\"}},\"type\":\"scattergl\"}],\"scattermapbox\":[{\"marker\":{\"colorbar\":{\"outlinewidth\":0,\"ticks\":\"\"}},\"type\":\"scattermapbox\"}],\"scatterpolar\":[{\"marker\":{\"colorbar\":{\"outlinewidth\":0,\"ticks\":\"\"}},\"type\":\"scatterpolar\"}],\"scatterpolargl\":[{\"marker\":{\"colorbar\":{\"outlinewidth\":0,\"ticks\":\"\"}},\"type\":\"scatterpolargl\"}],\"scatterternary\":[{\"marker\":{\"colorbar\":{\"outlinewidth\":0,\"ticks\":\"\"}},\"type\":\"scatterternary\"}],\"surface\":[{\"colorbar\":{\"outlinewidth\":0,\"ticks\":\"\"},\"colorscale\":[[0.0,\"#0d0887\"],[0.1111111111111111,\"#46039f\"],[0.2222222222222222,\"#7201a8\"],[0.3333333333333333,\"#9c179e\"],[0.4444444444444444,\"#bd3786\"],[0.5555555555555556,\"#d8576b\"],[0.6666666666666666,\"#ed7953\"],[0.7777777777777778,\"#fb9f3a\"],[0.8888888888888888,\"#fdca26\"],[1.0,\"#f0f921\"]],\"type\":\"surface\"}],\"table\":[{\"cells\":{\"fill\":{\"color\":\"#EBF0F8\"},\"line\":{\"color\":\"white\"}},\"header\":{\"fill\":{\"color\":\"#C8D4E3\"},\"line\":{\"color\":\"white\"}},\"type\":\"table\"}]},\"layout\":{\"annotationdefaults\":{\"arrowcolor\":\"#2a3f5f\",\"arrowhead\":0,\"arrowwidth\":1},\"autotypenumbers\":\"strict\",\"coloraxis\":{\"colorbar\":{\"outlinewidth\":0,\"ticks\":\"\"}},\"colorscale\":{\"diverging\":[[0,\"#8e0152\"],[0.1,\"#c51b7d\"],[0.2,\"#de77ae\"],[0.3,\"#f1b6da\"],[0.4,\"#fde0ef\"],[0.5,\"#f7f7f7\"],[0.6,\"#e6f5d0\"],[0.7,\"#b8e186\"],[0.8,\"#7fbc41\"],[0.9,\"#4d9221\"],[1,\"#276419\"]],\"sequential\":[[0.0,\"#0d0887\"],[0.1111111111111111,\"#46039f\"],[0.2222222222222222,\"#7201a8\"],[0.3333333333333333,\"#9c179e\"],[0.4444444444444444,\"#bd3786\"],[0.5555555555555556,\"#d8576b\"],[0.6666666666666666,\"#ed7953\"],[0.7777777777777778,\"#fb9f3a\"],[0.8888888888888888,\"#fdca26\"],[1.0,\"#f0f921\"]],\"sequentialminus\":[[0.0,\"#0d0887\"],[0.1111111111111111,\"#46039f\"],[0.2222222222222222,\"#7201a8\"],[0.3333333333333333,\"#9c179e\"],[0.4444444444444444,\"#bd3786\"],[0.5555555555555556,\"#d8576b\"],[0.6666666666666666,\"#ed7953\"],[0.7777777777777778,\"#fb9f3a\"],[0.8888888888888888,\"#fdca26\"],[1.0,\"#f0f921\"]]},\"colorway\":[\"#636efa\",\"#EF553B\",\"#00cc96\",\"#ab63fa\",\"#FFA15A\",\"#19d3f3\",\"#FF6692\",\"#B6E880\",\"#FF97FF\",\"#FECB52\"],\"font\":{\"color\":\"#2a3f5f\"},\"geo\":{\"bgcolor\":\"white\",\"lakecolor\":\"white\",\"landcolor\":\"#E5ECF6\",\"showlakes\":true,\"showland\":true,\"subunitcolor\":\"white\"},\"hoverlabel\":{\"align\":\"left\"},\"hovermode\":\"closest\",\"mapbox\":{\"style\":\"light\"},\"paper_bgcolor\":\"white\",\"plot_bgcolor\":\"#E5ECF6\",\"polar\":{\"angularaxis\":{\"gridcolor\":\"white\",\"linecolor\":\"white\",\"ticks\":\"\"},\"bgcolor\":\"#E5ECF6\",\"radialaxis\":{\"gridcolor\":\"white\",\"linecolor\":\"white\",\"ticks\":\"\"}},\"scene\":{\"xaxis\":{\"backgroundcolor\":\"#E5ECF6\",\"gridcolor\":\"white\",\"gridwidth\":2,\"linecolor\":\"white\",\"showbackground\":true,\"ticks\":\"\",\"zerolinecolor\":\"white\"},\"yaxis\":{\"backgroundcolor\":\"#E5ECF6\",\"gridcolor\":\"white\",\"gridwidth\":2,\"linecolor\":\"white\",\"showbackground\":true,\"ticks\":\"\",\"zerolinecolor\":\"white\"},\"zaxis\":{\"backgroundcolor\":\"#E5ECF6\",\"gridcolor\":\"white\",\"gridwidth\":2,\"linecolor\":\"white\",\"showbackground\":true,\"ticks\":\"\",\"zerolinecolor\":\"white\"}},\"shapedefaults\":{\"line\":{\"color\":\"#2a3f5f\"}},\"ternary\":{\"aaxis\":{\"gridcolor\":\"white\",\"linecolor\":\"white\",\"ticks\":\"\"},\"baxis\":{\"gridcolor\":\"white\",\"linecolor\":\"white\",\"ticks\":\"\"},\"bgcolor\":\"#E5ECF6\",\"caxis\":{\"gridcolor\":\"white\",\"linecolor\":\"white\",\"ticks\":\"\"}},\"title\":{\"x\":0.05},\"xaxis\":{\"automargin\":true,\"gridcolor\":\"white\",\"linecolor\":\"white\",\"ticks\":\"\",\"title\":{\"standoff\":15},\"zerolinecolor\":\"white\",\"zerolinewidth\":2},\"yaxis\":{\"automargin\":true,\"gridcolor\":\"white\",\"linecolor\":\"white\",\"ticks\":\"\",\"title\":{\"standoff\":15},\"zerolinecolor\":\"white\",\"zerolinewidth\":2}}},\"legend\":{\"tracegroupgap\":0,\"orientation\":\"h\",\"yanchor\":\"bottom\",\"y\":1.02,\"xanchor\":\"right\",\"x\":1},\"margin\":{\"t\":60},\"piecolorway\":[\"rgb(102,194,165)\",\"rgb(252,141,98)\",\"rgb(141,160,203)\",\"rgb(231,138,195)\",\"rgb(166,216,84)\",\"rgb(255,217,47)\",\"rgb(229,196,148)\",\"rgb(179,179,179)\"]},                        {\"responsive\": true}                    ).then(function(){\n",
       "                            \n",
       "var gd = document.getElementById('eb2310ec-28ec-4758-8ef0-733f8de51ce7');\n",
       "var x = new MutationObserver(function (mutations, observer) {{\n",
       "        var display = window.getComputedStyle(gd).display;\n",
       "        if (!display || display === 'none') {{\n",
       "            console.log([gd, 'removed!']);\n",
       "            Plotly.purge(gd);\n",
       "            observer.disconnect();\n",
       "        }}\n",
       "}});\n",
       "\n",
       "// Listen for the removal of the full notebook cells\n",
       "var notebookContainer = gd.closest('#notebook-container');\n",
       "if (notebookContainer) {{\n",
       "    x.observe(notebookContainer, {childList: true});\n",
       "}}\n",
       "\n",
       "// Listen for the clearing of the current output cell\n",
       "var outputEl = gd.closest('.output');\n",
       "if (outputEl) {{\n",
       "    x.observe(outputEl, {childList: true});\n",
       "}}\n",
       "\n",
       "                        })                };                });            </script>        </div>"
      ]
     },
     "metadata": {},
     "output_type": "display_data"
    }
   ],
   "source": [
    "import plotly.express as px\n",
    "\n",
    "data_pie = pd.pivot_table(df_selected, index=['cobertura'],values=['km2_1'],aggfunc='sum')\n",
    "data_pie = data_pie['km2_1'].sort_values(ascending=False)\n",
    "\n",
    "suma = data_pie.iloc[9:].sum()\n",
    "out = data_pie.iloc[:9]\n",
    "row = pd.Series({'OTROS':suma})\n",
    "out = out.append(row)\n",
    "\n",
    "fig = px.pie(out, values= out.values, names=out.index, color_discrete_sequence=px.colors.qualitative.Set2)\n",
    "fig.update_traces(textposition='inside', textinfo='percent')\n",
    "fig.update_layout(legend=dict(\n",
    "    orientation=\"h\",\n",
    "    yanchor=\"bottom\",\n",
    "    y=1.02,\n",
    "    xanchor=\"right\",\n",
    "    x=1\n",
    "))\n",
    "fig.show()"
   ]
  },
  {
   "cell_type": "markdown",
   "id": "5fa03070",
   "metadata": {},
   "source": [
    "### VAB"
   ]
  },
  {
   "cell_type": "code",
   "execution_count": 25,
   "id": "cbf8d03c",
   "metadata": {},
   "outputs": [],
   "source": [
    "df_2017 = get_selected_dataframe('2017','1EOEmsm1R8ubMSXEcPBKbLF5dAOqVM5tTUIy702WSJmM')\n",
    "df_2018 = get_selected_dataframe('2018','1EOEmsm1R8ubMSXEcPBKbLF5dAOqVM5tTUIy702WSJmM')\n",
    "df_2019 = get_selected_dataframe('2019','1EOEmsm1R8ubMSXEcPBKbLF5dAOqVM5tTUIy702WSJmM')\n",
    "df_2020 = get_selected_dataframe('2020','1EOEmsm1R8ubMSXEcPBKbLF5dAOqVM5tTUIy702WSJmM')"
   ]
  },
  {
   "cell_type": "code",
   "execution_count": 26,
   "id": "300e9875",
   "metadata": {
    "scrolled": true
   },
   "outputs": [
    {
     "data": {
      "text/html": [
       "<div>\n",
       "<style scoped>\n",
       "    .dataframe tbody tr th:only-of-type {\n",
       "        vertical-align: middle;\n",
       "    }\n",
       "\n",
       "    .dataframe tbody tr th {\n",
       "        vertical-align: top;\n",
       "    }\n",
       "\n",
       "    .dataframe thead th {\n",
       "        text-align: right;\n",
       "    }\n",
       "</style>\n",
       "<table border=\"1\" class=\"dataframe\">\n",
       "  <thead>\n",
       "    <tr style=\"text-align: right;\">\n",
       "      <th></th>\n",
       "      <th>PROVINCIA</th>\n",
       "      <th>CÓDIGO PROVINCIA</th>\n",
       "      <th>CANTÓN</th>\n",
       "      <th>CÓDIGO CANTÓN</th>\n",
       "      <th>Agricultura, ganadería, silvicultura y pesca</th>\n",
       "      <th>Explotación de minas y canteras</th>\n",
       "      <th>Manufactura</th>\n",
       "      <th>Suministro de electricidad y de agua</th>\n",
       "      <th>Construcción</th>\n",
       "      <th>Comercio</th>\n",
       "      <th>Alojamiento y servicios de comida</th>\n",
       "      <th>Transporte, información y comunicaciones</th>\n",
       "      <th>Actividades financieras</th>\n",
       "      <th>Actividades profesionales e inmobiliarias</th>\n",
       "      <th>Administración pública</th>\n",
       "      <th>Enseñanza</th>\n",
       "      <th>Salud</th>\n",
       "      <th>Otros servicios</th>\n",
       "      <th>ECONOMÍA TOTAL</th>\n",
       "    </tr>\n",
       "  </thead>\n",
       "  <tbody>\n",
       "    <tr>\n",
       "      <th>0</th>\n",
       "      <td>AZUAY</td>\n",
       "      <td>1</td>\n",
       "      <td>Cuenca</td>\n",
       "      <td>101</td>\n",
       "      <td>92901.63</td>\n",
       "      <td>69016.81</td>\n",
       "      <td>902215.84</td>\n",
       "      <td>77681.60</td>\n",
       "      <td>835958.46</td>\n",
       "      <td>499822.17</td>\n",
       "      <td>142403.76</td>\n",
       "      <td>372734.95</td>\n",
       "      <td>305127.21</td>\n",
       "      <td>480667.17</td>\n",
       "      <td>499691.42</td>\n",
       "      <td>212807.30</td>\n",
       "      <td>220835.39</td>\n",
       "      <td>67250.20</td>\n",
       "      <td>4779113.91</td>\n",
       "    </tr>\n",
       "    <tr>\n",
       "      <th>1</th>\n",
       "      <td>AZUAY</td>\n",
       "      <td>1</td>\n",
       "      <td>Girón</td>\n",
       "      <td>102</td>\n",
       "      <td>1156.82</td>\n",
       "      <td>547.06</td>\n",
       "      <td>413.23</td>\n",
       "      <td>748.32</td>\n",
       "      <td>1928.10</td>\n",
       "      <td>1206.88</td>\n",
       "      <td>166.09</td>\n",
       "      <td>2846.72</td>\n",
       "      <td>320.39</td>\n",
       "      <td>2132.90</td>\n",
       "      <td>4131.21</td>\n",
       "      <td>4258.01</td>\n",
       "      <td>5158.62</td>\n",
       "      <td>187.51</td>\n",
       "      <td>25201.86</td>\n",
       "    </tr>\n",
       "    <tr>\n",
       "      <th>2</th>\n",
       "      <td>AZUAY</td>\n",
       "      <td>1</td>\n",
       "      <td>Gualaceo</td>\n",
       "      <td>103</td>\n",
       "      <td>3247.19</td>\n",
       "      <td>146.18</td>\n",
       "      <td>5826.52</td>\n",
       "      <td>2522.00</td>\n",
       "      <td>11509.91</td>\n",
       "      <td>7240.48</td>\n",
       "      <td>1724.35</td>\n",
       "      <td>6354.66</td>\n",
       "      <td>13135.76</td>\n",
       "      <td>10551.45</td>\n",
       "      <td>10211.58</td>\n",
       "      <td>16730.15</td>\n",
       "      <td>10032.58</td>\n",
       "      <td>1332.98</td>\n",
       "      <td>100565.77</td>\n",
       "    </tr>\n",
       "    <tr>\n",
       "      <th>3</th>\n",
       "      <td>AZUAY</td>\n",
       "      <td>1</td>\n",
       "      <td>Nabón</td>\n",
       "      <td>104</td>\n",
       "      <td>5462.39</td>\n",
       "      <td>0.00</td>\n",
       "      <td>445.79</td>\n",
       "      <td>511.21</td>\n",
       "      <td>1156.18</td>\n",
       "      <td>536.12</td>\n",
       "      <td>114.66</td>\n",
       "      <td>3235.28</td>\n",
       "      <td>1532.83</td>\n",
       "      <td>1182.08</td>\n",
       "      <td>3027.12</td>\n",
       "      <td>5231.15</td>\n",
       "      <td>0.00</td>\n",
       "      <td>309.73</td>\n",
       "      <td>22744.55</td>\n",
       "    </tr>\n",
       "    <tr>\n",
       "      <th>4</th>\n",
       "      <td>AZUAY</td>\n",
       "      <td>1</td>\n",
       "      <td>Paute</td>\n",
       "      <td>105</td>\n",
       "      <td>17059.86</td>\n",
       "      <td>1271.95</td>\n",
       "      <td>360.47</td>\n",
       "      <td>1273.07</td>\n",
       "      <td>1499.55</td>\n",
       "      <td>5335.44</td>\n",
       "      <td>1065.35</td>\n",
       "      <td>4733.29</td>\n",
       "      <td>7732.25</td>\n",
       "      <td>6931.88</td>\n",
       "      <td>4760.01</td>\n",
       "      <td>9891.65</td>\n",
       "      <td>7646.57</td>\n",
       "      <td>422.92</td>\n",
       "      <td>69984.25</td>\n",
       "    </tr>\n",
       "    <tr>\n",
       "      <th>...</th>\n",
       "      <td>...</td>\n",
       "      <td>...</td>\n",
       "      <td>...</td>\n",
       "      <td>...</td>\n",
       "      <td>...</td>\n",
       "      <td>...</td>\n",
       "      <td>...</td>\n",
       "      <td>...</td>\n",
       "      <td>...</td>\n",
       "      <td>...</td>\n",
       "      <td>...</td>\n",
       "      <td>...</td>\n",
       "      <td>...</td>\n",
       "      <td>...</td>\n",
       "      <td>...</td>\n",
       "      <td>...</td>\n",
       "      <td>...</td>\n",
       "      <td>...</td>\n",
       "      <td>...</td>\n",
       "    </tr>\n",
       "    <tr>\n",
       "      <th>216</th>\n",
       "      <td>ORELLANA</td>\n",
       "      <td>22</td>\n",
       "      <td>Loreto</td>\n",
       "      <td>2204</td>\n",
       "      <td>251339.16</td>\n",
       "      <td>760.13</td>\n",
       "      <td>158630.77</td>\n",
       "      <td>27315.97</td>\n",
       "      <td>458925.70</td>\n",
       "      <td>330402.03</td>\n",
       "      <td>26000.98</td>\n",
       "      <td>147245.83</td>\n",
       "      <td>37636.45</td>\n",
       "      <td>124336.10</td>\n",
       "      <td>86747.59</td>\n",
       "      <td>165451.91</td>\n",
       "      <td>146165.71</td>\n",
       "      <td>33082.05</td>\n",
       "      <td>1994040.38</td>\n",
       "    </tr>\n",
       "    <tr>\n",
       "      <th>217</th>\n",
       "      <td>SANTO DOMINGO</td>\n",
       "      <td>23</td>\n",
       "      <td>Santo Domingo</td>\n",
       "      <td>2301</td>\n",
       "      <td>29277.15</td>\n",
       "      <td>0.00</td>\n",
       "      <td>3340.53</td>\n",
       "      <td>2491.31</td>\n",
       "      <td>5409.74</td>\n",
       "      <td>12241.03</td>\n",
       "      <td>768.36</td>\n",
       "      <td>5812.28</td>\n",
       "      <td>3017.81</td>\n",
       "      <td>6241.37</td>\n",
       "      <td>11273.84</td>\n",
       "      <td>22008.85</td>\n",
       "      <td>1571.63</td>\n",
       "      <td>122.74</td>\n",
       "      <td>103576.64</td>\n",
       "    </tr>\n",
       "    <tr>\n",
       "      <th>218</th>\n",
       "      <td>SANTA ELENA</td>\n",
       "      <td>24</td>\n",
       "      <td>Santa Elena</td>\n",
       "      <td>2401</td>\n",
       "      <td>46350.28</td>\n",
       "      <td>55676.61</td>\n",
       "      <td>22443.36</td>\n",
       "      <td>17025.29</td>\n",
       "      <td>162350.05</td>\n",
       "      <td>56688.00</td>\n",
       "      <td>19605.93</td>\n",
       "      <td>11631.00</td>\n",
       "      <td>2323.15</td>\n",
       "      <td>33019.18</td>\n",
       "      <td>9536.34</td>\n",
       "      <td>60915.37</td>\n",
       "      <td>12612.13</td>\n",
       "      <td>4208.48</td>\n",
       "      <td>514385.17</td>\n",
       "    </tr>\n",
       "    <tr>\n",
       "      <th>219</th>\n",
       "      <td>SANTA ELENA</td>\n",
       "      <td>24</td>\n",
       "      <td>La Libertad</td>\n",
       "      <td>2402</td>\n",
       "      <td>395.41</td>\n",
       "      <td>19249.55</td>\n",
       "      <td>295357.51</td>\n",
       "      <td>5721.52</td>\n",
       "      <td>80446.00</td>\n",
       "      <td>106266.66</td>\n",
       "      <td>8638.12</td>\n",
       "      <td>44223.12</td>\n",
       "      <td>10892.00</td>\n",
       "      <td>21142.14</td>\n",
       "      <td>21241.94</td>\n",
       "      <td>41847.89</td>\n",
       "      <td>4058.59</td>\n",
       "      <td>2947.43</td>\n",
       "      <td>662427.88</td>\n",
       "    </tr>\n",
       "    <tr>\n",
       "      <th>220</th>\n",
       "      <td>SANTA ELENA</td>\n",
       "      <td>24</td>\n",
       "      <td>Salinas</td>\n",
       "      <td>2403</td>\n",
       "      <td>29713.88</td>\n",
       "      <td>655.38</td>\n",
       "      <td>2317.20</td>\n",
       "      <td>6704.38</td>\n",
       "      <td>129128.16</td>\n",
       "      <td>42177.42</td>\n",
       "      <td>32746.73</td>\n",
       "      <td>16238.86</td>\n",
       "      <td>1650.19</td>\n",
       "      <td>17879.92</td>\n",
       "      <td>14148.28</td>\n",
       "      <td>32349.36</td>\n",
       "      <td>5484.79</td>\n",
       "      <td>7154.59</td>\n",
       "      <td>338349.16</td>\n",
       "    </tr>\n",
       "  </tbody>\n",
       "</table>\n",
       "<p>221 rows × 19 columns</p>\n",
       "</div>"
      ],
      "text/plain": [
       "         PROVINCIA  CÓDIGO PROVINCIA         CANTÓN  CÓDIGO CANTÓN  \\\n",
       "0            AZUAY                 1         Cuenca            101   \n",
       "1            AZUAY                 1          Girón            102   \n",
       "2            AZUAY                 1       Gualaceo            103   \n",
       "3            AZUAY                 1          Nabón            104   \n",
       "4            AZUAY                 1          Paute            105   \n",
       "..             ...               ...            ...            ...   \n",
       "216       ORELLANA                22         Loreto           2204   \n",
       "217  SANTO DOMINGO                23  Santo Domingo           2301   \n",
       "218    SANTA ELENA                24    Santa Elena           2401   \n",
       "219    SANTA ELENA                24    La Libertad           2402   \n",
       "220    SANTA ELENA                24        Salinas           2403   \n",
       "\n",
       "     Agricultura, ganadería, silvicultura y pesca  \\\n",
       "0                                        92901.63   \n",
       "1                                         1156.82   \n",
       "2                                         3247.19   \n",
       "3                                         5462.39   \n",
       "4                                        17059.86   \n",
       "..                                            ...   \n",
       "216                                     251339.16   \n",
       "217                                      29277.15   \n",
       "218                                      46350.28   \n",
       "219                                        395.41   \n",
       "220                                      29713.88   \n",
       "\n",
       "     Explotación de minas y canteras  Manufactura  \\\n",
       "0                           69016.81    902215.84   \n",
       "1                             547.06       413.23   \n",
       "2                             146.18      5826.52   \n",
       "3                               0.00       445.79   \n",
       "4                            1271.95       360.47   \n",
       "..                               ...          ...   \n",
       "216                           760.13    158630.77   \n",
       "217                             0.00      3340.53   \n",
       "218                         55676.61     22443.36   \n",
       "219                         19249.55    295357.51   \n",
       "220                           655.38      2317.20   \n",
       "\n",
       "     Suministro de electricidad y de agua  Construcción   Comercio  \\\n",
       "0                                77681.60     835958.46  499822.17   \n",
       "1                                  748.32       1928.10    1206.88   \n",
       "2                                 2522.00      11509.91    7240.48   \n",
       "3                                  511.21       1156.18     536.12   \n",
       "4                                 1273.07       1499.55    5335.44   \n",
       "..                                    ...           ...        ...   \n",
       "216                              27315.97     458925.70  330402.03   \n",
       "217                               2491.31       5409.74   12241.03   \n",
       "218                              17025.29     162350.05   56688.00   \n",
       "219                               5721.52      80446.00  106266.66   \n",
       "220                               6704.38     129128.16   42177.42   \n",
       "\n",
       "     Alojamiento y servicios de comida  \\\n",
       "0                            142403.76   \n",
       "1                               166.09   \n",
       "2                              1724.35   \n",
       "3                               114.66   \n",
       "4                              1065.35   \n",
       "..                                 ...   \n",
       "216                           26000.98   \n",
       "217                             768.36   \n",
       "218                           19605.93   \n",
       "219                            8638.12   \n",
       "220                           32746.73   \n",
       "\n",
       "     Transporte, información y comunicaciones  Actividades financieras  \\\n",
       "0                                   372734.95                305127.21   \n",
       "1                                     2846.72                   320.39   \n",
       "2                                     6354.66                 13135.76   \n",
       "3                                     3235.28                  1532.83   \n",
       "4                                     4733.29                  7732.25   \n",
       "..                                        ...                      ...   \n",
       "216                                 147245.83                 37636.45   \n",
       "217                                   5812.28                  3017.81   \n",
       "218                                  11631.00                  2323.15   \n",
       "219                                  44223.12                 10892.00   \n",
       "220                                  16238.86                  1650.19   \n",
       "\n",
       "     Actividades profesionales e inmobiliarias  Administración pública   \\\n",
       "0                                    480667.17                499691.42   \n",
       "1                                      2132.90                  4131.21   \n",
       "2                                     10551.45                 10211.58   \n",
       "3                                      1182.08                  3027.12   \n",
       "4                                      6931.88                  4760.01   \n",
       "..                                         ...                      ...   \n",
       "216                                  124336.10                 86747.59   \n",
       "217                                    6241.37                 11273.84   \n",
       "218                                   33019.18                  9536.34   \n",
       "219                                   21142.14                 21241.94   \n",
       "220                                   17879.92                 14148.28   \n",
       "\n",
       "     Enseñanza      Salud  Otros servicios  ECONOMÍA TOTAL  \n",
       "0    212807.30  220835.39         67250.20      4779113.91  \n",
       "1      4258.01    5158.62           187.51        25201.86  \n",
       "2     16730.15   10032.58          1332.98       100565.77  \n",
       "3      5231.15       0.00           309.73        22744.55  \n",
       "4      9891.65    7646.57           422.92        69984.25  \n",
       "..         ...        ...              ...             ...  \n",
       "216  165451.91  146165.71         33082.05      1994040.38  \n",
       "217   22008.85    1571.63           122.74       103576.64  \n",
       "218   60915.37   12612.13          4208.48       514385.17  \n",
       "219   41847.89    4058.59          2947.43       662427.88  \n",
       "220   32349.36    5484.79          7154.59       338349.16  \n",
       "\n",
       "[221 rows x 19 columns]"
      ]
     },
     "execution_count": 26,
     "metadata": {},
     "output_type": "execute_result"
    }
   ],
   "source": [
    "df_2019"
   ]
  },
  {
   "cell_type": "code",
   "execution_count": 65,
   "id": "faa24681",
   "metadata": {},
   "outputs": [],
   "source": [
    "rows_name = ['2017','2018','2019','2020']\n",
    "vab_value = [\n",
    "    (df_2017.loc[df_2017['CÓDIGO CANTÓN'] == selection['DPA_CANTON'].values[0]])['ECONOMÍA TOTAL'].values[0],\n",
    "    (df_2018.loc[df_2018['CÓDIGO CANTÓN'] == selection['DPA_CANTON'].values[0]])['ECONOMÍA TOTAL'].values[0],\n",
    "    (df_2019.loc[df_2019['CÓDIGO CANTÓN'] == selection['DPA_CANTON'].values[0]])['ECONOMÍA TOTAL'].values[0],\n",
    "    (df_2020.loc[df_2020['CÓDIGO CANTÓN'] == selection['DPA_CANTON'].values[0]])['ECONOMÍA TOTAL'].values[0]\n",
    "]\n",
    "vab_selected = pd.DataFrame({'Anio': rows_name,'Valor': vab_value})"
   ]
  },
  {
   "cell_type": "code",
   "execution_count": 66,
   "id": "76e6b899",
   "metadata": {},
   "outputs": [
    {
     "data": {
      "text/html": [
       "<div>\n",
       "<style scoped>\n",
       "    .dataframe tbody tr th:only-of-type {\n",
       "        vertical-align: middle;\n",
       "    }\n",
       "\n",
       "    .dataframe tbody tr th {\n",
       "        vertical-align: top;\n",
       "    }\n",
       "\n",
       "    .dataframe thead th {\n",
       "        text-align: right;\n",
       "    }\n",
       "</style>\n",
       "<table border=\"1\" class=\"dataframe\">\n",
       "  <thead>\n",
       "    <tr style=\"text-align: right;\">\n",
       "      <th></th>\n",
       "      <th>Anio</th>\n",
       "      <th>Valor</th>\n",
       "    </tr>\n",
       "  </thead>\n",
       "  <tbody>\n",
       "    <tr>\n",
       "      <th>0</th>\n",
       "      <td>2017</td>\n",
       "      <td>93262.75</td>\n",
       "    </tr>\n",
       "    <tr>\n",
       "      <th>1</th>\n",
       "      <td>2018</td>\n",
       "      <td>88617.14</td>\n",
       "    </tr>\n",
       "    <tr>\n",
       "      <th>2</th>\n",
       "      <td>2019</td>\n",
       "      <td>83060.51</td>\n",
       "    </tr>\n",
       "    <tr>\n",
       "      <th>3</th>\n",
       "      <td>2020</td>\n",
       "      <td>75947.75</td>\n",
       "    </tr>\n",
       "  </tbody>\n",
       "</table>\n",
       "</div>"
      ],
      "text/plain": [
       "   Anio     Valor\n",
       "0  2017  93262.75\n",
       "1  2018  88617.14\n",
       "2  2019  83060.51\n",
       "3  2020  75947.75"
      ]
     },
     "execution_count": 66,
     "metadata": {},
     "output_type": "execute_result"
    }
   ],
   "source": [
    "vab_selected"
   ]
  },
  {
   "cell_type": "code",
   "execution_count": 68,
   "id": "9f907c7d",
   "metadata": {
    "scrolled": false
   },
   "outputs": [
    {
     "data": {
      "application/vnd.plotly.v1+json": {
       "config": {
        "plotlyServerURL": "https://plot.ly"
       },
       "data": [
        {
         "hovertemplate": "Anio=%{x}<br>Valor=%{text}<extra></extra>",
         "legendgroup": "",
         "line": {
          "color": "rgb(27,158,119)",
          "dash": "solid"
         },
         "marker": {
          "symbol": "circle"
         },
         "mode": "lines+text+markers",
         "name": "",
         "orientation": "v",
         "showlegend": false,
         "text": [
          93262.75,
          88617.14,
          83060.51,
          75947.75
         ],
         "textposition": "top right",
         "type": "scatter",
         "x": [
          "2017",
          "2018",
          "2019",
          "2020"
         ],
         "xaxis": "x",
         "y": [
          93262.75,
          88617.14,
          83060.51,
          75947.75
         ],
         "yaxis": "y"
        }
       ],
       "layout": {
        "legend": {
         "tracegroupgap": 0
        },
        "margin": {
         "t": 60
        },
        "paper_bgcolor": "rgba(0, 0, 0, 0)",
        "plot_bgcolor": "rgba(0, 0, 0, 0)",
        "template": {
         "data": {
          "bar": [
           {
            "error_x": {
             "color": "#2a3f5f"
            },
            "error_y": {
             "color": "#2a3f5f"
            },
            "marker": {
             "line": {
              "color": "#E5ECF6",
              "width": 0.5
             },
             "pattern": {
              "fillmode": "overlay",
              "size": 10,
              "solidity": 0.2
             }
            },
            "type": "bar"
           }
          ],
          "barpolar": [
           {
            "marker": {
             "line": {
              "color": "#E5ECF6",
              "width": 0.5
             },
             "pattern": {
              "fillmode": "overlay",
              "size": 10,
              "solidity": 0.2
             }
            },
            "type": "barpolar"
           }
          ],
          "carpet": [
           {
            "aaxis": {
             "endlinecolor": "#2a3f5f",
             "gridcolor": "white",
             "linecolor": "white",
             "minorgridcolor": "white",
             "startlinecolor": "#2a3f5f"
            },
            "baxis": {
             "endlinecolor": "#2a3f5f",
             "gridcolor": "white",
             "linecolor": "white",
             "minorgridcolor": "white",
             "startlinecolor": "#2a3f5f"
            },
            "type": "carpet"
           }
          ],
          "choropleth": [
           {
            "colorbar": {
             "outlinewidth": 0,
             "ticks": ""
            },
            "type": "choropleth"
           }
          ],
          "contour": [
           {
            "colorbar": {
             "outlinewidth": 0,
             "ticks": ""
            },
            "colorscale": [
             [
              0,
              "#0d0887"
             ],
             [
              0.1111111111111111,
              "#46039f"
             ],
             [
              0.2222222222222222,
              "#7201a8"
             ],
             [
              0.3333333333333333,
              "#9c179e"
             ],
             [
              0.4444444444444444,
              "#bd3786"
             ],
             [
              0.5555555555555556,
              "#d8576b"
             ],
             [
              0.6666666666666666,
              "#ed7953"
             ],
             [
              0.7777777777777778,
              "#fb9f3a"
             ],
             [
              0.8888888888888888,
              "#fdca26"
             ],
             [
              1,
              "#f0f921"
             ]
            ],
            "type": "contour"
           }
          ],
          "contourcarpet": [
           {
            "colorbar": {
             "outlinewidth": 0,
             "ticks": ""
            },
            "type": "contourcarpet"
           }
          ],
          "heatmap": [
           {
            "colorbar": {
             "outlinewidth": 0,
             "ticks": ""
            },
            "colorscale": [
             [
              0,
              "#0d0887"
             ],
             [
              0.1111111111111111,
              "#46039f"
             ],
             [
              0.2222222222222222,
              "#7201a8"
             ],
             [
              0.3333333333333333,
              "#9c179e"
             ],
             [
              0.4444444444444444,
              "#bd3786"
             ],
             [
              0.5555555555555556,
              "#d8576b"
             ],
             [
              0.6666666666666666,
              "#ed7953"
             ],
             [
              0.7777777777777778,
              "#fb9f3a"
             ],
             [
              0.8888888888888888,
              "#fdca26"
             ],
             [
              1,
              "#f0f921"
             ]
            ],
            "type": "heatmap"
           }
          ],
          "heatmapgl": [
           {
            "colorbar": {
             "outlinewidth": 0,
             "ticks": ""
            },
            "colorscale": [
             [
              0,
              "#0d0887"
             ],
             [
              0.1111111111111111,
              "#46039f"
             ],
             [
              0.2222222222222222,
              "#7201a8"
             ],
             [
              0.3333333333333333,
              "#9c179e"
             ],
             [
              0.4444444444444444,
              "#bd3786"
             ],
             [
              0.5555555555555556,
              "#d8576b"
             ],
             [
              0.6666666666666666,
              "#ed7953"
             ],
             [
              0.7777777777777778,
              "#fb9f3a"
             ],
             [
              0.8888888888888888,
              "#fdca26"
             ],
             [
              1,
              "#f0f921"
             ]
            ],
            "type": "heatmapgl"
           }
          ],
          "histogram": [
           {
            "marker": {
             "pattern": {
              "fillmode": "overlay",
              "size": 10,
              "solidity": 0.2
             }
            },
            "type": "histogram"
           }
          ],
          "histogram2d": [
           {
            "colorbar": {
             "outlinewidth": 0,
             "ticks": ""
            },
            "colorscale": [
             [
              0,
              "#0d0887"
             ],
             [
              0.1111111111111111,
              "#46039f"
             ],
             [
              0.2222222222222222,
              "#7201a8"
             ],
             [
              0.3333333333333333,
              "#9c179e"
             ],
             [
              0.4444444444444444,
              "#bd3786"
             ],
             [
              0.5555555555555556,
              "#d8576b"
             ],
             [
              0.6666666666666666,
              "#ed7953"
             ],
             [
              0.7777777777777778,
              "#fb9f3a"
             ],
             [
              0.8888888888888888,
              "#fdca26"
             ],
             [
              1,
              "#f0f921"
             ]
            ],
            "type": "histogram2d"
           }
          ],
          "histogram2dcontour": [
           {
            "colorbar": {
             "outlinewidth": 0,
             "ticks": ""
            },
            "colorscale": [
             [
              0,
              "#0d0887"
             ],
             [
              0.1111111111111111,
              "#46039f"
             ],
             [
              0.2222222222222222,
              "#7201a8"
             ],
             [
              0.3333333333333333,
              "#9c179e"
             ],
             [
              0.4444444444444444,
              "#bd3786"
             ],
             [
              0.5555555555555556,
              "#d8576b"
             ],
             [
              0.6666666666666666,
              "#ed7953"
             ],
             [
              0.7777777777777778,
              "#fb9f3a"
             ],
             [
              0.8888888888888888,
              "#fdca26"
             ],
             [
              1,
              "#f0f921"
             ]
            ],
            "type": "histogram2dcontour"
           }
          ],
          "mesh3d": [
           {
            "colorbar": {
             "outlinewidth": 0,
             "ticks": ""
            },
            "type": "mesh3d"
           }
          ],
          "parcoords": [
           {
            "line": {
             "colorbar": {
              "outlinewidth": 0,
              "ticks": ""
             }
            },
            "type": "parcoords"
           }
          ],
          "pie": [
           {
            "automargin": true,
            "type": "pie"
           }
          ],
          "scatter": [
           {
            "marker": {
             "colorbar": {
              "outlinewidth": 0,
              "ticks": ""
             }
            },
            "type": "scatter"
           }
          ],
          "scatter3d": [
           {
            "line": {
             "colorbar": {
              "outlinewidth": 0,
              "ticks": ""
             }
            },
            "marker": {
             "colorbar": {
              "outlinewidth": 0,
              "ticks": ""
             }
            },
            "type": "scatter3d"
           }
          ],
          "scattercarpet": [
           {
            "marker": {
             "colorbar": {
              "outlinewidth": 0,
              "ticks": ""
             }
            },
            "type": "scattercarpet"
           }
          ],
          "scattergeo": [
           {
            "marker": {
             "colorbar": {
              "outlinewidth": 0,
              "ticks": ""
             }
            },
            "type": "scattergeo"
           }
          ],
          "scattergl": [
           {
            "marker": {
             "colorbar": {
              "outlinewidth": 0,
              "ticks": ""
             }
            },
            "type": "scattergl"
           }
          ],
          "scattermapbox": [
           {
            "marker": {
             "colorbar": {
              "outlinewidth": 0,
              "ticks": ""
             }
            },
            "type": "scattermapbox"
           }
          ],
          "scatterpolar": [
           {
            "marker": {
             "colorbar": {
              "outlinewidth": 0,
              "ticks": ""
             }
            },
            "type": "scatterpolar"
           }
          ],
          "scatterpolargl": [
           {
            "marker": {
             "colorbar": {
              "outlinewidth": 0,
              "ticks": ""
             }
            },
            "type": "scatterpolargl"
           }
          ],
          "scatterternary": [
           {
            "marker": {
             "colorbar": {
              "outlinewidth": 0,
              "ticks": ""
             }
            },
            "type": "scatterternary"
           }
          ],
          "surface": [
           {
            "colorbar": {
             "outlinewidth": 0,
             "ticks": ""
            },
            "colorscale": [
             [
              0,
              "#0d0887"
             ],
             [
              0.1111111111111111,
              "#46039f"
             ],
             [
              0.2222222222222222,
              "#7201a8"
             ],
             [
              0.3333333333333333,
              "#9c179e"
             ],
             [
              0.4444444444444444,
              "#bd3786"
             ],
             [
              0.5555555555555556,
              "#d8576b"
             ],
             [
              0.6666666666666666,
              "#ed7953"
             ],
             [
              0.7777777777777778,
              "#fb9f3a"
             ],
             [
              0.8888888888888888,
              "#fdca26"
             ],
             [
              1,
              "#f0f921"
             ]
            ],
            "type": "surface"
           }
          ],
          "table": [
           {
            "cells": {
             "fill": {
              "color": "#EBF0F8"
             },
             "line": {
              "color": "white"
             }
            },
            "header": {
             "fill": {
              "color": "#C8D4E3"
             },
             "line": {
              "color": "white"
             }
            },
            "type": "table"
           }
          ]
         },
         "layout": {
          "annotationdefaults": {
           "arrowcolor": "#2a3f5f",
           "arrowhead": 0,
           "arrowwidth": 1
          },
          "autotypenumbers": "strict",
          "coloraxis": {
           "colorbar": {
            "outlinewidth": 0,
            "ticks": ""
           }
          },
          "colorscale": {
           "diverging": [
            [
             0,
             "#8e0152"
            ],
            [
             0.1,
             "#c51b7d"
            ],
            [
             0.2,
             "#de77ae"
            ],
            [
             0.3,
             "#f1b6da"
            ],
            [
             0.4,
             "#fde0ef"
            ],
            [
             0.5,
             "#f7f7f7"
            ],
            [
             0.6,
             "#e6f5d0"
            ],
            [
             0.7,
             "#b8e186"
            ],
            [
             0.8,
             "#7fbc41"
            ],
            [
             0.9,
             "#4d9221"
            ],
            [
             1,
             "#276419"
            ]
           ],
           "sequential": [
            [
             0,
             "#0d0887"
            ],
            [
             0.1111111111111111,
             "#46039f"
            ],
            [
             0.2222222222222222,
             "#7201a8"
            ],
            [
             0.3333333333333333,
             "#9c179e"
            ],
            [
             0.4444444444444444,
             "#bd3786"
            ],
            [
             0.5555555555555556,
             "#d8576b"
            ],
            [
             0.6666666666666666,
             "#ed7953"
            ],
            [
             0.7777777777777778,
             "#fb9f3a"
            ],
            [
             0.8888888888888888,
             "#fdca26"
            ],
            [
             1,
             "#f0f921"
            ]
           ],
           "sequentialminus": [
            [
             0,
             "#0d0887"
            ],
            [
             0.1111111111111111,
             "#46039f"
            ],
            [
             0.2222222222222222,
             "#7201a8"
            ],
            [
             0.3333333333333333,
             "#9c179e"
            ],
            [
             0.4444444444444444,
             "#bd3786"
            ],
            [
             0.5555555555555556,
             "#d8576b"
            ],
            [
             0.6666666666666666,
             "#ed7953"
            ],
            [
             0.7777777777777778,
             "#fb9f3a"
            ],
            [
             0.8888888888888888,
             "#fdca26"
            ],
            [
             1,
             "#f0f921"
            ]
           ]
          },
          "colorway": [
           "#636efa",
           "#EF553B",
           "#00cc96",
           "#ab63fa",
           "#FFA15A",
           "#19d3f3",
           "#FF6692",
           "#B6E880",
           "#FF97FF",
           "#FECB52"
          ],
          "font": {
           "color": "#2a3f5f"
          },
          "geo": {
           "bgcolor": "white",
           "lakecolor": "white",
           "landcolor": "#E5ECF6",
           "showlakes": true,
           "showland": true,
           "subunitcolor": "white"
          },
          "hoverlabel": {
           "align": "left"
          },
          "hovermode": "closest",
          "mapbox": {
           "style": "light"
          },
          "paper_bgcolor": "white",
          "plot_bgcolor": "#E5ECF6",
          "polar": {
           "angularaxis": {
            "gridcolor": "white",
            "linecolor": "white",
            "ticks": ""
           },
           "bgcolor": "#E5ECF6",
           "radialaxis": {
            "gridcolor": "white",
            "linecolor": "white",
            "ticks": ""
           }
          },
          "scene": {
           "xaxis": {
            "backgroundcolor": "#E5ECF6",
            "gridcolor": "white",
            "gridwidth": 2,
            "linecolor": "white",
            "showbackground": true,
            "ticks": "",
            "zerolinecolor": "white"
           },
           "yaxis": {
            "backgroundcolor": "#E5ECF6",
            "gridcolor": "white",
            "gridwidth": 2,
            "linecolor": "white",
            "showbackground": true,
            "ticks": "",
            "zerolinecolor": "white"
           },
           "zaxis": {
            "backgroundcolor": "#E5ECF6",
            "gridcolor": "white",
            "gridwidth": 2,
            "linecolor": "white",
            "showbackground": true,
            "ticks": "",
            "zerolinecolor": "white"
           }
          },
          "shapedefaults": {
           "line": {
            "color": "#2a3f5f"
           }
          },
          "ternary": {
           "aaxis": {
            "gridcolor": "white",
            "linecolor": "white",
            "ticks": ""
           },
           "baxis": {
            "gridcolor": "white",
            "linecolor": "white",
            "ticks": ""
           },
           "bgcolor": "#E5ECF6",
           "caxis": {
            "gridcolor": "white",
            "linecolor": "white",
            "ticks": ""
           }
          },
          "title": {
           "x": 0.05
          },
          "xaxis": {
           "automargin": true,
           "gridcolor": "white",
           "linecolor": "white",
           "ticks": "",
           "title": {
            "standoff": 15
           },
           "zerolinecolor": "white",
           "zerolinewidth": 2
          },
          "yaxis": {
           "automargin": true,
           "gridcolor": "white",
           "linecolor": "white",
           "ticks": "",
           "title": {
            "standoff": 15
           },
           "zerolinecolor": "white",
           "zerolinewidth": 2
          }
         }
        },
        "xaxis": {
         "anchor": "y",
         "domain": [
          0,
          1
         ],
         "gridcolor": "rgba(230, 230, 230, 0.8)",
         "gridwidth": 0.05,
         "showgrid": true,
         "title": {
          "text": "Año"
         }
        },
        "yaxis": {
         "anchor": "x",
         "domain": [
          0,
          1
         ],
         "gridcolor": "rgba(230, 230, 230, 0.8)",
         "gridwidth": 0.01,
         "showgrid": true,
         "title": {}
        }
       }
      },
      "text/html": [
       "<div>                            <div id=\"aa47ef4f-22e6-47e2-9f8c-93d2bd09dc71\" class=\"plotly-graph-div\" style=\"height:525px; width:100%;\"></div>            <script type=\"text/javascript\">                require([\"plotly\"], function(Plotly) {                    window.PLOTLYENV=window.PLOTLYENV || {};                                    if (document.getElementById(\"aa47ef4f-22e6-47e2-9f8c-93d2bd09dc71\")) {                    Plotly.newPlot(                        \"aa47ef4f-22e6-47e2-9f8c-93d2bd09dc71\",                        [{\"hovertemplate\":\"Anio=%{x}<br>Valor=%{text}<extra></extra>\",\"legendgroup\":\"\",\"line\":{\"color\":\"rgb(27,158,119)\",\"dash\":\"solid\"},\"marker\":{\"symbol\":\"circle\"},\"mode\":\"lines+text+markers\",\"name\":\"\",\"orientation\":\"v\",\"showlegend\":false,\"text\":[93262.75,88617.14,83060.51,75947.75],\"x\":[\"2017\",\"2018\",\"2019\",\"2020\"],\"xaxis\":\"x\",\"y\":[93262.75,88617.14,83060.51,75947.75],\"yaxis\":\"y\",\"type\":\"scatter\",\"textposition\":\"top right\"}],                        {\"template\":{\"data\":{\"bar\":[{\"error_x\":{\"color\":\"#2a3f5f\"},\"error_y\":{\"color\":\"#2a3f5f\"},\"marker\":{\"line\":{\"color\":\"#E5ECF6\",\"width\":0.5},\"pattern\":{\"fillmode\":\"overlay\",\"size\":10,\"solidity\":0.2}},\"type\":\"bar\"}],\"barpolar\":[{\"marker\":{\"line\":{\"color\":\"#E5ECF6\",\"width\":0.5},\"pattern\":{\"fillmode\":\"overlay\",\"size\":10,\"solidity\":0.2}},\"type\":\"barpolar\"}],\"carpet\":[{\"aaxis\":{\"endlinecolor\":\"#2a3f5f\",\"gridcolor\":\"white\",\"linecolor\":\"white\",\"minorgridcolor\":\"white\",\"startlinecolor\":\"#2a3f5f\"},\"baxis\":{\"endlinecolor\":\"#2a3f5f\",\"gridcolor\":\"white\",\"linecolor\":\"white\",\"minorgridcolor\":\"white\",\"startlinecolor\":\"#2a3f5f\"},\"type\":\"carpet\"}],\"choropleth\":[{\"colorbar\":{\"outlinewidth\":0,\"ticks\":\"\"},\"type\":\"choropleth\"}],\"contour\":[{\"colorbar\":{\"outlinewidth\":0,\"ticks\":\"\"},\"colorscale\":[[0.0,\"#0d0887\"],[0.1111111111111111,\"#46039f\"],[0.2222222222222222,\"#7201a8\"],[0.3333333333333333,\"#9c179e\"],[0.4444444444444444,\"#bd3786\"],[0.5555555555555556,\"#d8576b\"],[0.6666666666666666,\"#ed7953\"],[0.7777777777777778,\"#fb9f3a\"],[0.8888888888888888,\"#fdca26\"],[1.0,\"#f0f921\"]],\"type\":\"contour\"}],\"contourcarpet\":[{\"colorbar\":{\"outlinewidth\":0,\"ticks\":\"\"},\"type\":\"contourcarpet\"}],\"heatmap\":[{\"colorbar\":{\"outlinewidth\":0,\"ticks\":\"\"},\"colorscale\":[[0.0,\"#0d0887\"],[0.1111111111111111,\"#46039f\"],[0.2222222222222222,\"#7201a8\"],[0.3333333333333333,\"#9c179e\"],[0.4444444444444444,\"#bd3786\"],[0.5555555555555556,\"#d8576b\"],[0.6666666666666666,\"#ed7953\"],[0.7777777777777778,\"#fb9f3a\"],[0.8888888888888888,\"#fdca26\"],[1.0,\"#f0f921\"]],\"type\":\"heatmap\"}],\"heatmapgl\":[{\"colorbar\":{\"outlinewidth\":0,\"ticks\":\"\"},\"colorscale\":[[0.0,\"#0d0887\"],[0.1111111111111111,\"#46039f\"],[0.2222222222222222,\"#7201a8\"],[0.3333333333333333,\"#9c179e\"],[0.4444444444444444,\"#bd3786\"],[0.5555555555555556,\"#d8576b\"],[0.6666666666666666,\"#ed7953\"],[0.7777777777777778,\"#fb9f3a\"],[0.8888888888888888,\"#fdca26\"],[1.0,\"#f0f921\"]],\"type\":\"heatmapgl\"}],\"histogram\":[{\"marker\":{\"pattern\":{\"fillmode\":\"overlay\",\"size\":10,\"solidity\":0.2}},\"type\":\"histogram\"}],\"histogram2d\":[{\"colorbar\":{\"outlinewidth\":0,\"ticks\":\"\"},\"colorscale\":[[0.0,\"#0d0887\"],[0.1111111111111111,\"#46039f\"],[0.2222222222222222,\"#7201a8\"],[0.3333333333333333,\"#9c179e\"],[0.4444444444444444,\"#bd3786\"],[0.5555555555555556,\"#d8576b\"],[0.6666666666666666,\"#ed7953\"],[0.7777777777777778,\"#fb9f3a\"],[0.8888888888888888,\"#fdca26\"],[1.0,\"#f0f921\"]],\"type\":\"histogram2d\"}],\"histogram2dcontour\":[{\"colorbar\":{\"outlinewidth\":0,\"ticks\":\"\"},\"colorscale\":[[0.0,\"#0d0887\"],[0.1111111111111111,\"#46039f\"],[0.2222222222222222,\"#7201a8\"],[0.3333333333333333,\"#9c179e\"],[0.4444444444444444,\"#bd3786\"],[0.5555555555555556,\"#d8576b\"],[0.6666666666666666,\"#ed7953\"],[0.7777777777777778,\"#fb9f3a\"],[0.8888888888888888,\"#fdca26\"],[1.0,\"#f0f921\"]],\"type\":\"histogram2dcontour\"}],\"mesh3d\":[{\"colorbar\":{\"outlinewidth\":0,\"ticks\":\"\"},\"type\":\"mesh3d\"}],\"parcoords\":[{\"line\":{\"colorbar\":{\"outlinewidth\":0,\"ticks\":\"\"}},\"type\":\"parcoords\"}],\"pie\":[{\"automargin\":true,\"type\":\"pie\"}],\"scatter\":[{\"marker\":{\"colorbar\":{\"outlinewidth\":0,\"ticks\":\"\"}},\"type\":\"scatter\"}],\"scatter3d\":[{\"line\":{\"colorbar\":{\"outlinewidth\":0,\"ticks\":\"\"}},\"marker\":{\"colorbar\":{\"outlinewidth\":0,\"ticks\":\"\"}},\"type\":\"scatter3d\"}],\"scattercarpet\":[{\"marker\":{\"colorbar\":{\"outlinewidth\":0,\"ticks\":\"\"}},\"type\":\"scattercarpet\"}],\"scattergeo\":[{\"marker\":{\"colorbar\":{\"outlinewidth\":0,\"ticks\":\"\"}},\"type\":\"scattergeo\"}],\"scattergl\":[{\"marker\":{\"colorbar\":{\"outlinewidth\":0,\"ticks\":\"\"}},\"type\":\"scattergl\"}],\"scattermapbox\":[{\"marker\":{\"colorbar\":{\"outlinewidth\":0,\"ticks\":\"\"}},\"type\":\"scattermapbox\"}],\"scatterpolar\":[{\"marker\":{\"colorbar\":{\"outlinewidth\":0,\"ticks\":\"\"}},\"type\":\"scatterpolar\"}],\"scatterpolargl\":[{\"marker\":{\"colorbar\":{\"outlinewidth\":0,\"ticks\":\"\"}},\"type\":\"scatterpolargl\"}],\"scatterternary\":[{\"marker\":{\"colorbar\":{\"outlinewidth\":0,\"ticks\":\"\"}},\"type\":\"scatterternary\"}],\"surface\":[{\"colorbar\":{\"outlinewidth\":0,\"ticks\":\"\"},\"colorscale\":[[0.0,\"#0d0887\"],[0.1111111111111111,\"#46039f\"],[0.2222222222222222,\"#7201a8\"],[0.3333333333333333,\"#9c179e\"],[0.4444444444444444,\"#bd3786\"],[0.5555555555555556,\"#d8576b\"],[0.6666666666666666,\"#ed7953\"],[0.7777777777777778,\"#fb9f3a\"],[0.8888888888888888,\"#fdca26\"],[1.0,\"#f0f921\"]],\"type\":\"surface\"}],\"table\":[{\"cells\":{\"fill\":{\"color\":\"#EBF0F8\"},\"line\":{\"color\":\"white\"}},\"header\":{\"fill\":{\"color\":\"#C8D4E3\"},\"line\":{\"color\":\"white\"}},\"type\":\"table\"}]},\"layout\":{\"annotationdefaults\":{\"arrowcolor\":\"#2a3f5f\",\"arrowhead\":0,\"arrowwidth\":1},\"autotypenumbers\":\"strict\",\"coloraxis\":{\"colorbar\":{\"outlinewidth\":0,\"ticks\":\"\"}},\"colorscale\":{\"diverging\":[[0,\"#8e0152\"],[0.1,\"#c51b7d\"],[0.2,\"#de77ae\"],[0.3,\"#f1b6da\"],[0.4,\"#fde0ef\"],[0.5,\"#f7f7f7\"],[0.6,\"#e6f5d0\"],[0.7,\"#b8e186\"],[0.8,\"#7fbc41\"],[0.9,\"#4d9221\"],[1,\"#276419\"]],\"sequential\":[[0.0,\"#0d0887\"],[0.1111111111111111,\"#46039f\"],[0.2222222222222222,\"#7201a8\"],[0.3333333333333333,\"#9c179e\"],[0.4444444444444444,\"#bd3786\"],[0.5555555555555556,\"#d8576b\"],[0.6666666666666666,\"#ed7953\"],[0.7777777777777778,\"#fb9f3a\"],[0.8888888888888888,\"#fdca26\"],[1.0,\"#f0f921\"]],\"sequentialminus\":[[0.0,\"#0d0887\"],[0.1111111111111111,\"#46039f\"],[0.2222222222222222,\"#7201a8\"],[0.3333333333333333,\"#9c179e\"],[0.4444444444444444,\"#bd3786\"],[0.5555555555555556,\"#d8576b\"],[0.6666666666666666,\"#ed7953\"],[0.7777777777777778,\"#fb9f3a\"],[0.8888888888888888,\"#fdca26\"],[1.0,\"#f0f921\"]]},\"colorway\":[\"#636efa\",\"#EF553B\",\"#00cc96\",\"#ab63fa\",\"#FFA15A\",\"#19d3f3\",\"#FF6692\",\"#B6E880\",\"#FF97FF\",\"#FECB52\"],\"font\":{\"color\":\"#2a3f5f\"},\"geo\":{\"bgcolor\":\"white\",\"lakecolor\":\"white\",\"landcolor\":\"#E5ECF6\",\"showlakes\":true,\"showland\":true,\"subunitcolor\":\"white\"},\"hoverlabel\":{\"align\":\"left\"},\"hovermode\":\"closest\",\"mapbox\":{\"style\":\"light\"},\"paper_bgcolor\":\"white\",\"plot_bgcolor\":\"#E5ECF6\",\"polar\":{\"angularaxis\":{\"gridcolor\":\"white\",\"linecolor\":\"white\",\"ticks\":\"\"},\"bgcolor\":\"#E5ECF6\",\"radialaxis\":{\"gridcolor\":\"white\",\"linecolor\":\"white\",\"ticks\":\"\"}},\"scene\":{\"xaxis\":{\"backgroundcolor\":\"#E5ECF6\",\"gridcolor\":\"white\",\"gridwidth\":2,\"linecolor\":\"white\",\"showbackground\":true,\"ticks\":\"\",\"zerolinecolor\":\"white\"},\"yaxis\":{\"backgroundcolor\":\"#E5ECF6\",\"gridcolor\":\"white\",\"gridwidth\":2,\"linecolor\":\"white\",\"showbackground\":true,\"ticks\":\"\",\"zerolinecolor\":\"white\"},\"zaxis\":{\"backgroundcolor\":\"#E5ECF6\",\"gridcolor\":\"white\",\"gridwidth\":2,\"linecolor\":\"white\",\"showbackground\":true,\"ticks\":\"\",\"zerolinecolor\":\"white\"}},\"shapedefaults\":{\"line\":{\"color\":\"#2a3f5f\"}},\"ternary\":{\"aaxis\":{\"gridcolor\":\"white\",\"linecolor\":\"white\",\"ticks\":\"\"},\"baxis\":{\"gridcolor\":\"white\",\"linecolor\":\"white\",\"ticks\":\"\"},\"bgcolor\":\"#E5ECF6\",\"caxis\":{\"gridcolor\":\"white\",\"linecolor\":\"white\",\"ticks\":\"\"}},\"title\":{\"x\":0.05},\"xaxis\":{\"automargin\":true,\"gridcolor\":\"white\",\"linecolor\":\"white\",\"ticks\":\"\",\"title\":{\"standoff\":15},\"zerolinecolor\":\"white\",\"zerolinewidth\":2},\"yaxis\":{\"automargin\":true,\"gridcolor\":\"white\",\"linecolor\":\"white\",\"ticks\":\"\",\"title\":{\"standoff\":15},\"zerolinecolor\":\"white\",\"zerolinewidth\":2}}},\"xaxis\":{\"anchor\":\"y\",\"domain\":[0.0,1.0],\"title\":{\"text\":\"A\\u00f1o\"},\"showgrid\":true,\"gridwidth\":0.05,\"gridcolor\":\"rgba(230, 230, 230, 0.8)\"},\"yaxis\":{\"anchor\":\"x\",\"domain\":[0.0,1.0],\"title\":{},\"showgrid\":true,\"gridwidth\":0.01,\"gridcolor\":\"rgba(230, 230, 230, 0.8)\"},\"legend\":{\"tracegroupgap\":0},\"margin\":{\"t\":60},\"paper_bgcolor\":\"rgba(0, 0, 0, 0)\",\"plot_bgcolor\":\"rgba(0, 0, 0, 0)\"},                        {\"responsive\": true}                    ).then(function(){\n",
       "                            \n",
       "var gd = document.getElementById('aa47ef4f-22e6-47e2-9f8c-93d2bd09dc71');\n",
       "var x = new MutationObserver(function (mutations, observer) {{\n",
       "        var display = window.getComputedStyle(gd).display;\n",
       "        if (!display || display === 'none') {{\n",
       "            console.log([gd, 'removed!']);\n",
       "            Plotly.purge(gd);\n",
       "            observer.disconnect();\n",
       "        }}\n",
       "}});\n",
       "\n",
       "// Listen for the removal of the full notebook cells\n",
       "var notebookContainer = gd.closest('#notebook-container');\n",
       "if (notebookContainer) {{\n",
       "    x.observe(notebookContainer, {childList: true});\n",
       "}}\n",
       "\n",
       "// Listen for the clearing of the current output cell\n",
       "var outputEl = gd.closest('.output');\n",
       "if (outputEl) {{\n",
       "    x.observe(outputEl, {childList: true});\n",
       "}}\n",
       "\n",
       "                        })                };                });            </script>        </div>"
      ]
     },
     "metadata": {},
     "output_type": "display_data"
    }
   ],
   "source": [
    "import plotly.express as px\n",
    "fig = px.line(vab_selected, x=vab_selected['Anio'], y=vab_selected['Valor'], \n",
    "              markers=True, labels=None,color_discrete_sequence=px.colors.qualitative.Dark2,\n",
    "              text=vab_selected['Valor'])\n",
    "fig.update_traces(textposition=\"top right\")\n",
    "fig.update_xaxes(showgrid=True, gridwidth=0.05, gridcolor='rgba(230, 230, 230, 0.8)')\n",
    "fig.update_yaxes(showgrid=True, gridwidth=0.01, gridcolor='rgba(230, 230, 230, 0.8)')\n",
    "fig.update_layout(yaxis_title=None, xaxis_title='Año',paper_bgcolor= 'rgba(0, 0, 0, 0)',\n",
    "                  plot_bgcolor= 'rgba(0, 0, 0, 0)')\n",
    "fig.show()"
   ]
  },
  {
   "cell_type": "markdown",
   "id": "958d1ebf",
   "metadata": {},
   "source": [
    "### VAB_SECTOR"
   ]
  },
  {
   "cell_type": "code",
   "execution_count": 30,
   "id": "925041bc",
   "metadata": {},
   "outputs": [],
   "source": [
    "f_20 = (df_2020.loc[df_2020['CÓDIGO CANTÓN'] == selection['DPA_CANTON'].values[0]])\n",
    "f_20 = f_20.drop(columns=['PROVINCIA', 'CÓDIGO PROVINCIA','CANTÓN','CÓDIGO CANTÓN','ECONOMÍA TOTAL'])\n",
    "df_vab_2020 = f_20.rename({f_20.index[0]: 'Valor'}, axis='index').T\n",
    "df_vab_2020 = df_vab_2020.sort_values(by=\"Valor\", ascending=False).iloc[:3]\n",
    "df_vab_2020.index.name = 'Actividad'"
   ]
  },
  {
   "cell_type": "code",
   "execution_count": 76,
   "id": "da50ccf0",
   "metadata": {},
   "outputs": [
    {
     "data": {
      "application/vnd.plotly.v1+json": {
       "config": {
        "plotlyServerURL": "https://plot.ly"
       },
       "data": [
        {
         "alignmentgroup": "True",
         "hovertemplate": "Actividad=%{x}<br>Valor=%{y}<extra></extra>",
         "legendgroup": "Agricultura, ganadería, silvicultura y pesca",
         "marker": {
          "color": "rgb(27,158,119)",
          "pattern": {
           "shape": ""
          }
         },
         "name": "Agricultura, ganadería, silvicultura y pesca",
         "offsetgroup": "Agricultura, ganadería, silvicultura y pesca",
         "orientation": "v",
         "showlegend": true,
         "textposition": "auto",
         "type": "bar",
         "x": [
          "Agricultura, ganadería, silvicultura y pesca"
         ],
         "xaxis": "x",
         "y": [
          18186.87
         ],
         "yaxis": "y"
        },
        {
         "alignmentgroup": "True",
         "hovertemplate": "Actividad=%{x}<br>Valor=%{y}<extra></extra>",
         "legendgroup": "Enseñanza",
         "marker": {
          "color": "rgb(217,95,2)",
          "pattern": {
           "shape": ""
          }
         },
         "name": "Enseñanza",
         "offsetgroup": "Enseñanza",
         "orientation": "v",
         "showlegend": true,
         "textposition": "auto",
         "type": "bar",
         "x": [
          "Enseñanza"
         ],
         "xaxis": "x",
         "y": [
          15729.73
         ],
         "yaxis": "y"
        },
        {
         "alignmentgroup": "True",
         "hovertemplate": "Actividad=%{x}<br>Valor=%{y}<extra></extra>",
         "legendgroup": "Salud",
         "marker": {
          "color": "rgb(117,112,179)",
          "pattern": {
           "shape": ""
          }
         },
         "name": "Salud",
         "offsetgroup": "Salud",
         "orientation": "v",
         "showlegend": true,
         "textposition": "auto",
         "type": "bar",
         "x": [
          "Salud"
         ],
         "xaxis": "x",
         "y": [
          11963.57
         ],
         "yaxis": "y"
        }
       ],
       "layout": {
        "barmode": "relative",
        "legend": {
         "title": {
          "text": "Actividad"
         },
         "tracegroupgap": 0
        },
        "margin": {
         "t": 60
        },
        "paper_bgcolor": "rgba(0, 0, 0, 0)",
        "plot_bgcolor": "rgba(0, 0, 0, 0)",
        "template": {
         "data": {
          "bar": [
           {
            "error_x": {
             "color": "#2a3f5f"
            },
            "error_y": {
             "color": "#2a3f5f"
            },
            "marker": {
             "line": {
              "color": "#E5ECF6",
              "width": 0.5
             },
             "pattern": {
              "fillmode": "overlay",
              "size": 10,
              "solidity": 0.2
             }
            },
            "type": "bar"
           }
          ],
          "barpolar": [
           {
            "marker": {
             "line": {
              "color": "#E5ECF6",
              "width": 0.5
             },
             "pattern": {
              "fillmode": "overlay",
              "size": 10,
              "solidity": 0.2
             }
            },
            "type": "barpolar"
           }
          ],
          "carpet": [
           {
            "aaxis": {
             "endlinecolor": "#2a3f5f",
             "gridcolor": "white",
             "linecolor": "white",
             "minorgridcolor": "white",
             "startlinecolor": "#2a3f5f"
            },
            "baxis": {
             "endlinecolor": "#2a3f5f",
             "gridcolor": "white",
             "linecolor": "white",
             "minorgridcolor": "white",
             "startlinecolor": "#2a3f5f"
            },
            "type": "carpet"
           }
          ],
          "choropleth": [
           {
            "colorbar": {
             "outlinewidth": 0,
             "ticks": ""
            },
            "type": "choropleth"
           }
          ],
          "contour": [
           {
            "colorbar": {
             "outlinewidth": 0,
             "ticks": ""
            },
            "colorscale": [
             [
              0,
              "#0d0887"
             ],
             [
              0.1111111111111111,
              "#46039f"
             ],
             [
              0.2222222222222222,
              "#7201a8"
             ],
             [
              0.3333333333333333,
              "#9c179e"
             ],
             [
              0.4444444444444444,
              "#bd3786"
             ],
             [
              0.5555555555555556,
              "#d8576b"
             ],
             [
              0.6666666666666666,
              "#ed7953"
             ],
             [
              0.7777777777777778,
              "#fb9f3a"
             ],
             [
              0.8888888888888888,
              "#fdca26"
             ],
             [
              1,
              "#f0f921"
             ]
            ],
            "type": "contour"
           }
          ],
          "contourcarpet": [
           {
            "colorbar": {
             "outlinewidth": 0,
             "ticks": ""
            },
            "type": "contourcarpet"
           }
          ],
          "heatmap": [
           {
            "colorbar": {
             "outlinewidth": 0,
             "ticks": ""
            },
            "colorscale": [
             [
              0,
              "#0d0887"
             ],
             [
              0.1111111111111111,
              "#46039f"
             ],
             [
              0.2222222222222222,
              "#7201a8"
             ],
             [
              0.3333333333333333,
              "#9c179e"
             ],
             [
              0.4444444444444444,
              "#bd3786"
             ],
             [
              0.5555555555555556,
              "#d8576b"
             ],
             [
              0.6666666666666666,
              "#ed7953"
             ],
             [
              0.7777777777777778,
              "#fb9f3a"
             ],
             [
              0.8888888888888888,
              "#fdca26"
             ],
             [
              1,
              "#f0f921"
             ]
            ],
            "type": "heatmap"
           }
          ],
          "heatmapgl": [
           {
            "colorbar": {
             "outlinewidth": 0,
             "ticks": ""
            },
            "colorscale": [
             [
              0,
              "#0d0887"
             ],
             [
              0.1111111111111111,
              "#46039f"
             ],
             [
              0.2222222222222222,
              "#7201a8"
             ],
             [
              0.3333333333333333,
              "#9c179e"
             ],
             [
              0.4444444444444444,
              "#bd3786"
             ],
             [
              0.5555555555555556,
              "#d8576b"
             ],
             [
              0.6666666666666666,
              "#ed7953"
             ],
             [
              0.7777777777777778,
              "#fb9f3a"
             ],
             [
              0.8888888888888888,
              "#fdca26"
             ],
             [
              1,
              "#f0f921"
             ]
            ],
            "type": "heatmapgl"
           }
          ],
          "histogram": [
           {
            "marker": {
             "pattern": {
              "fillmode": "overlay",
              "size": 10,
              "solidity": 0.2
             }
            },
            "type": "histogram"
           }
          ],
          "histogram2d": [
           {
            "colorbar": {
             "outlinewidth": 0,
             "ticks": ""
            },
            "colorscale": [
             [
              0,
              "#0d0887"
             ],
             [
              0.1111111111111111,
              "#46039f"
             ],
             [
              0.2222222222222222,
              "#7201a8"
             ],
             [
              0.3333333333333333,
              "#9c179e"
             ],
             [
              0.4444444444444444,
              "#bd3786"
             ],
             [
              0.5555555555555556,
              "#d8576b"
             ],
             [
              0.6666666666666666,
              "#ed7953"
             ],
             [
              0.7777777777777778,
              "#fb9f3a"
             ],
             [
              0.8888888888888888,
              "#fdca26"
             ],
             [
              1,
              "#f0f921"
             ]
            ],
            "type": "histogram2d"
           }
          ],
          "histogram2dcontour": [
           {
            "colorbar": {
             "outlinewidth": 0,
             "ticks": ""
            },
            "colorscale": [
             [
              0,
              "#0d0887"
             ],
             [
              0.1111111111111111,
              "#46039f"
             ],
             [
              0.2222222222222222,
              "#7201a8"
             ],
             [
              0.3333333333333333,
              "#9c179e"
             ],
             [
              0.4444444444444444,
              "#bd3786"
             ],
             [
              0.5555555555555556,
              "#d8576b"
             ],
             [
              0.6666666666666666,
              "#ed7953"
             ],
             [
              0.7777777777777778,
              "#fb9f3a"
             ],
             [
              0.8888888888888888,
              "#fdca26"
             ],
             [
              1,
              "#f0f921"
             ]
            ],
            "type": "histogram2dcontour"
           }
          ],
          "mesh3d": [
           {
            "colorbar": {
             "outlinewidth": 0,
             "ticks": ""
            },
            "type": "mesh3d"
           }
          ],
          "parcoords": [
           {
            "line": {
             "colorbar": {
              "outlinewidth": 0,
              "ticks": ""
             }
            },
            "type": "parcoords"
           }
          ],
          "pie": [
           {
            "automargin": true,
            "type": "pie"
           }
          ],
          "scatter": [
           {
            "marker": {
             "colorbar": {
              "outlinewidth": 0,
              "ticks": ""
             }
            },
            "type": "scatter"
           }
          ],
          "scatter3d": [
           {
            "line": {
             "colorbar": {
              "outlinewidth": 0,
              "ticks": ""
             }
            },
            "marker": {
             "colorbar": {
              "outlinewidth": 0,
              "ticks": ""
             }
            },
            "type": "scatter3d"
           }
          ],
          "scattercarpet": [
           {
            "marker": {
             "colorbar": {
              "outlinewidth": 0,
              "ticks": ""
             }
            },
            "type": "scattercarpet"
           }
          ],
          "scattergeo": [
           {
            "marker": {
             "colorbar": {
              "outlinewidth": 0,
              "ticks": ""
             }
            },
            "type": "scattergeo"
           }
          ],
          "scattergl": [
           {
            "marker": {
             "colorbar": {
              "outlinewidth": 0,
              "ticks": ""
             }
            },
            "type": "scattergl"
           }
          ],
          "scattermapbox": [
           {
            "marker": {
             "colorbar": {
              "outlinewidth": 0,
              "ticks": ""
             }
            },
            "type": "scattermapbox"
           }
          ],
          "scatterpolar": [
           {
            "marker": {
             "colorbar": {
              "outlinewidth": 0,
              "ticks": ""
             }
            },
            "type": "scatterpolar"
           }
          ],
          "scatterpolargl": [
           {
            "marker": {
             "colorbar": {
              "outlinewidth": 0,
              "ticks": ""
             }
            },
            "type": "scatterpolargl"
           }
          ],
          "scatterternary": [
           {
            "marker": {
             "colorbar": {
              "outlinewidth": 0,
              "ticks": ""
             }
            },
            "type": "scatterternary"
           }
          ],
          "surface": [
           {
            "colorbar": {
             "outlinewidth": 0,
             "ticks": ""
            },
            "colorscale": [
             [
              0,
              "#0d0887"
             ],
             [
              0.1111111111111111,
              "#46039f"
             ],
             [
              0.2222222222222222,
              "#7201a8"
             ],
             [
              0.3333333333333333,
              "#9c179e"
             ],
             [
              0.4444444444444444,
              "#bd3786"
             ],
             [
              0.5555555555555556,
              "#d8576b"
             ],
             [
              0.6666666666666666,
              "#ed7953"
             ],
             [
              0.7777777777777778,
              "#fb9f3a"
             ],
             [
              0.8888888888888888,
              "#fdca26"
             ],
             [
              1,
              "#f0f921"
             ]
            ],
            "type": "surface"
           }
          ],
          "table": [
           {
            "cells": {
             "fill": {
              "color": "#EBF0F8"
             },
             "line": {
              "color": "white"
             }
            },
            "header": {
             "fill": {
              "color": "#C8D4E3"
             },
             "line": {
              "color": "white"
             }
            },
            "type": "table"
           }
          ]
         },
         "layout": {
          "annotationdefaults": {
           "arrowcolor": "#2a3f5f",
           "arrowhead": 0,
           "arrowwidth": 1
          },
          "autotypenumbers": "strict",
          "coloraxis": {
           "colorbar": {
            "outlinewidth": 0,
            "ticks": ""
           }
          },
          "colorscale": {
           "diverging": [
            [
             0,
             "#8e0152"
            ],
            [
             0.1,
             "#c51b7d"
            ],
            [
             0.2,
             "#de77ae"
            ],
            [
             0.3,
             "#f1b6da"
            ],
            [
             0.4,
             "#fde0ef"
            ],
            [
             0.5,
             "#f7f7f7"
            ],
            [
             0.6,
             "#e6f5d0"
            ],
            [
             0.7,
             "#b8e186"
            ],
            [
             0.8,
             "#7fbc41"
            ],
            [
             0.9,
             "#4d9221"
            ],
            [
             1,
             "#276419"
            ]
           ],
           "sequential": [
            [
             0,
             "#0d0887"
            ],
            [
             0.1111111111111111,
             "#46039f"
            ],
            [
             0.2222222222222222,
             "#7201a8"
            ],
            [
             0.3333333333333333,
             "#9c179e"
            ],
            [
             0.4444444444444444,
             "#bd3786"
            ],
            [
             0.5555555555555556,
             "#d8576b"
            ],
            [
             0.6666666666666666,
             "#ed7953"
            ],
            [
             0.7777777777777778,
             "#fb9f3a"
            ],
            [
             0.8888888888888888,
             "#fdca26"
            ],
            [
             1,
             "#f0f921"
            ]
           ],
           "sequentialminus": [
            [
             0,
             "#0d0887"
            ],
            [
             0.1111111111111111,
             "#46039f"
            ],
            [
             0.2222222222222222,
             "#7201a8"
            ],
            [
             0.3333333333333333,
             "#9c179e"
            ],
            [
             0.4444444444444444,
             "#bd3786"
            ],
            [
             0.5555555555555556,
             "#d8576b"
            ],
            [
             0.6666666666666666,
             "#ed7953"
            ],
            [
             0.7777777777777778,
             "#fb9f3a"
            ],
            [
             0.8888888888888888,
             "#fdca26"
            ],
            [
             1,
             "#f0f921"
            ]
           ]
          },
          "colorway": [
           "#636efa",
           "#EF553B",
           "#00cc96",
           "#ab63fa",
           "#FFA15A",
           "#19d3f3",
           "#FF6692",
           "#B6E880",
           "#FF97FF",
           "#FECB52"
          ],
          "font": {
           "color": "#2a3f5f"
          },
          "geo": {
           "bgcolor": "white",
           "lakecolor": "white",
           "landcolor": "#E5ECF6",
           "showlakes": true,
           "showland": true,
           "subunitcolor": "white"
          },
          "hoverlabel": {
           "align": "left"
          },
          "hovermode": "closest",
          "mapbox": {
           "style": "light"
          },
          "paper_bgcolor": "white",
          "plot_bgcolor": "#E5ECF6",
          "polar": {
           "angularaxis": {
            "gridcolor": "white",
            "linecolor": "white",
            "ticks": ""
           },
           "bgcolor": "#E5ECF6",
           "radialaxis": {
            "gridcolor": "white",
            "linecolor": "white",
            "ticks": ""
           }
          },
          "scene": {
           "xaxis": {
            "backgroundcolor": "#E5ECF6",
            "gridcolor": "white",
            "gridwidth": 2,
            "linecolor": "white",
            "showbackground": true,
            "ticks": "",
            "zerolinecolor": "white"
           },
           "yaxis": {
            "backgroundcolor": "#E5ECF6",
            "gridcolor": "white",
            "gridwidth": 2,
            "linecolor": "white",
            "showbackground": true,
            "ticks": "",
            "zerolinecolor": "white"
           },
           "zaxis": {
            "backgroundcolor": "#E5ECF6",
            "gridcolor": "white",
            "gridwidth": 2,
            "linecolor": "white",
            "showbackground": true,
            "ticks": "",
            "zerolinecolor": "white"
           }
          },
          "shapedefaults": {
           "line": {
            "color": "#2a3f5f"
           }
          },
          "ternary": {
           "aaxis": {
            "gridcolor": "white",
            "linecolor": "white",
            "ticks": ""
           },
           "baxis": {
            "gridcolor": "white",
            "linecolor": "white",
            "ticks": ""
           },
           "bgcolor": "#E5ECF6",
           "caxis": {
            "gridcolor": "white",
            "linecolor": "white",
            "ticks": ""
           }
          },
          "title": {
           "x": 0.05
          },
          "xaxis": {
           "automargin": true,
           "gridcolor": "white",
           "linecolor": "white",
           "ticks": "",
           "title": {
            "standoff": 15
           },
           "zerolinecolor": "white",
           "zerolinewidth": 2
          },
          "yaxis": {
           "automargin": true,
           "gridcolor": "white",
           "linecolor": "white",
           "ticks": "",
           "title": {
            "standoff": 15
           },
           "zerolinecolor": "white",
           "zerolinewidth": 2
          }
         }
        },
        "xaxis": {
         "anchor": "y",
         "categoryarray": [
          "Agricultura, ganadería, silvicultura y pesca",
          "Enseñanza",
          "Salud"
         ],
         "categoryorder": "array",
         "domain": [
          0,
          1
         ],
         "gridcolor": "rgba(230, 230, 230, 0.8)",
         "gridwidth": 0.05,
         "showgrid": true,
         "title": {},
         "visible": false
        },
        "yaxis": {
         "anchor": "x",
         "domain": [
          0,
          1
         ],
         "gridcolor": "rgba(230, 230, 230, 0.8)",
         "gridwidth": 0.01,
         "showgrid": true,
         "title": {}
        }
       }
      },
      "text/html": [
       "<div>                            <div id=\"3e9d1f04-fb02-444b-a10d-2e15408253af\" class=\"plotly-graph-div\" style=\"height:525px; width:100%;\"></div>            <script type=\"text/javascript\">                require([\"plotly\"], function(Plotly) {                    window.PLOTLYENV=window.PLOTLYENV || {};                                    if (document.getElementById(\"3e9d1f04-fb02-444b-a10d-2e15408253af\")) {                    Plotly.newPlot(                        \"3e9d1f04-fb02-444b-a10d-2e15408253af\",                        [{\"alignmentgroup\":\"True\",\"hovertemplate\":\"Actividad=%{x}<br>Valor=%{y}<extra></extra>\",\"legendgroup\":\"Agricultura, ganader\\u00eda, silvicultura y pesca\",\"marker\":{\"color\":\"rgb(27,158,119)\",\"pattern\":{\"shape\":\"\"}},\"name\":\"Agricultura, ganader\\u00eda, silvicultura y pesca\",\"offsetgroup\":\"Agricultura, ganader\\u00eda, silvicultura y pesca\",\"orientation\":\"v\",\"showlegend\":true,\"textposition\":\"auto\",\"x\":[\"Agricultura, ganader\\u00eda, silvicultura y pesca\"],\"xaxis\":\"x\",\"y\":[18186.87],\"yaxis\":\"y\",\"type\":\"bar\"},{\"alignmentgroup\":\"True\",\"hovertemplate\":\"Actividad=%{x}<br>Valor=%{y}<extra></extra>\",\"legendgroup\":\"Ense\\u00f1anza\",\"marker\":{\"color\":\"rgb(217,95,2)\",\"pattern\":{\"shape\":\"\"}},\"name\":\"Ense\\u00f1anza\",\"offsetgroup\":\"Ense\\u00f1anza\",\"orientation\":\"v\",\"showlegend\":true,\"textposition\":\"auto\",\"x\":[\"Ense\\u00f1anza\"],\"xaxis\":\"x\",\"y\":[15729.73],\"yaxis\":\"y\",\"type\":\"bar\"},{\"alignmentgroup\":\"True\",\"hovertemplate\":\"Actividad=%{x}<br>Valor=%{y}<extra></extra>\",\"legendgroup\":\"Salud\",\"marker\":{\"color\":\"rgb(117,112,179)\",\"pattern\":{\"shape\":\"\"}},\"name\":\"Salud\",\"offsetgroup\":\"Salud\",\"orientation\":\"v\",\"showlegend\":true,\"textposition\":\"auto\",\"x\":[\"Salud\"],\"xaxis\":\"x\",\"y\":[11963.57],\"yaxis\":\"y\",\"type\":\"bar\"}],                        {\"template\":{\"data\":{\"bar\":[{\"error_x\":{\"color\":\"#2a3f5f\"},\"error_y\":{\"color\":\"#2a3f5f\"},\"marker\":{\"line\":{\"color\":\"#E5ECF6\",\"width\":0.5},\"pattern\":{\"fillmode\":\"overlay\",\"size\":10,\"solidity\":0.2}},\"type\":\"bar\"}],\"barpolar\":[{\"marker\":{\"line\":{\"color\":\"#E5ECF6\",\"width\":0.5},\"pattern\":{\"fillmode\":\"overlay\",\"size\":10,\"solidity\":0.2}},\"type\":\"barpolar\"}],\"carpet\":[{\"aaxis\":{\"endlinecolor\":\"#2a3f5f\",\"gridcolor\":\"white\",\"linecolor\":\"white\",\"minorgridcolor\":\"white\",\"startlinecolor\":\"#2a3f5f\"},\"baxis\":{\"endlinecolor\":\"#2a3f5f\",\"gridcolor\":\"white\",\"linecolor\":\"white\",\"minorgridcolor\":\"white\",\"startlinecolor\":\"#2a3f5f\"},\"type\":\"carpet\"}],\"choropleth\":[{\"colorbar\":{\"outlinewidth\":0,\"ticks\":\"\"},\"type\":\"choropleth\"}],\"contour\":[{\"colorbar\":{\"outlinewidth\":0,\"ticks\":\"\"},\"colorscale\":[[0.0,\"#0d0887\"],[0.1111111111111111,\"#46039f\"],[0.2222222222222222,\"#7201a8\"],[0.3333333333333333,\"#9c179e\"],[0.4444444444444444,\"#bd3786\"],[0.5555555555555556,\"#d8576b\"],[0.6666666666666666,\"#ed7953\"],[0.7777777777777778,\"#fb9f3a\"],[0.8888888888888888,\"#fdca26\"],[1.0,\"#f0f921\"]],\"type\":\"contour\"}],\"contourcarpet\":[{\"colorbar\":{\"outlinewidth\":0,\"ticks\":\"\"},\"type\":\"contourcarpet\"}],\"heatmap\":[{\"colorbar\":{\"outlinewidth\":0,\"ticks\":\"\"},\"colorscale\":[[0.0,\"#0d0887\"],[0.1111111111111111,\"#46039f\"],[0.2222222222222222,\"#7201a8\"],[0.3333333333333333,\"#9c179e\"],[0.4444444444444444,\"#bd3786\"],[0.5555555555555556,\"#d8576b\"],[0.6666666666666666,\"#ed7953\"],[0.7777777777777778,\"#fb9f3a\"],[0.8888888888888888,\"#fdca26\"],[1.0,\"#f0f921\"]],\"type\":\"heatmap\"}],\"heatmapgl\":[{\"colorbar\":{\"outlinewidth\":0,\"ticks\":\"\"},\"colorscale\":[[0.0,\"#0d0887\"],[0.1111111111111111,\"#46039f\"],[0.2222222222222222,\"#7201a8\"],[0.3333333333333333,\"#9c179e\"],[0.4444444444444444,\"#bd3786\"],[0.5555555555555556,\"#d8576b\"],[0.6666666666666666,\"#ed7953\"],[0.7777777777777778,\"#fb9f3a\"],[0.8888888888888888,\"#fdca26\"],[1.0,\"#f0f921\"]],\"type\":\"heatmapgl\"}],\"histogram\":[{\"marker\":{\"pattern\":{\"fillmode\":\"overlay\",\"size\":10,\"solidity\":0.2}},\"type\":\"histogram\"}],\"histogram2d\":[{\"colorbar\":{\"outlinewidth\":0,\"ticks\":\"\"},\"colorscale\":[[0.0,\"#0d0887\"],[0.1111111111111111,\"#46039f\"],[0.2222222222222222,\"#7201a8\"],[0.3333333333333333,\"#9c179e\"],[0.4444444444444444,\"#bd3786\"],[0.5555555555555556,\"#d8576b\"],[0.6666666666666666,\"#ed7953\"],[0.7777777777777778,\"#fb9f3a\"],[0.8888888888888888,\"#fdca26\"],[1.0,\"#f0f921\"]],\"type\":\"histogram2d\"}],\"histogram2dcontour\":[{\"colorbar\":{\"outlinewidth\":0,\"ticks\":\"\"},\"colorscale\":[[0.0,\"#0d0887\"],[0.1111111111111111,\"#46039f\"],[0.2222222222222222,\"#7201a8\"],[0.3333333333333333,\"#9c179e\"],[0.4444444444444444,\"#bd3786\"],[0.5555555555555556,\"#d8576b\"],[0.6666666666666666,\"#ed7953\"],[0.7777777777777778,\"#fb9f3a\"],[0.8888888888888888,\"#fdca26\"],[1.0,\"#f0f921\"]],\"type\":\"histogram2dcontour\"}],\"mesh3d\":[{\"colorbar\":{\"outlinewidth\":0,\"ticks\":\"\"},\"type\":\"mesh3d\"}],\"parcoords\":[{\"line\":{\"colorbar\":{\"outlinewidth\":0,\"ticks\":\"\"}},\"type\":\"parcoords\"}],\"pie\":[{\"automargin\":true,\"type\":\"pie\"}],\"scatter\":[{\"marker\":{\"colorbar\":{\"outlinewidth\":0,\"ticks\":\"\"}},\"type\":\"scatter\"}],\"scatter3d\":[{\"line\":{\"colorbar\":{\"outlinewidth\":0,\"ticks\":\"\"}},\"marker\":{\"colorbar\":{\"outlinewidth\":0,\"ticks\":\"\"}},\"type\":\"scatter3d\"}],\"scattercarpet\":[{\"marker\":{\"colorbar\":{\"outlinewidth\":0,\"ticks\":\"\"}},\"type\":\"scattercarpet\"}],\"scattergeo\":[{\"marker\":{\"colorbar\":{\"outlinewidth\":0,\"ticks\":\"\"}},\"type\":\"scattergeo\"}],\"scattergl\":[{\"marker\":{\"colorbar\":{\"outlinewidth\":0,\"ticks\":\"\"}},\"type\":\"scattergl\"}],\"scattermapbox\":[{\"marker\":{\"colorbar\":{\"outlinewidth\":0,\"ticks\":\"\"}},\"type\":\"scattermapbox\"}],\"scatterpolar\":[{\"marker\":{\"colorbar\":{\"outlinewidth\":0,\"ticks\":\"\"}},\"type\":\"scatterpolar\"}],\"scatterpolargl\":[{\"marker\":{\"colorbar\":{\"outlinewidth\":0,\"ticks\":\"\"}},\"type\":\"scatterpolargl\"}],\"scatterternary\":[{\"marker\":{\"colorbar\":{\"outlinewidth\":0,\"ticks\":\"\"}},\"type\":\"scatterternary\"}],\"surface\":[{\"colorbar\":{\"outlinewidth\":0,\"ticks\":\"\"},\"colorscale\":[[0.0,\"#0d0887\"],[0.1111111111111111,\"#46039f\"],[0.2222222222222222,\"#7201a8\"],[0.3333333333333333,\"#9c179e\"],[0.4444444444444444,\"#bd3786\"],[0.5555555555555556,\"#d8576b\"],[0.6666666666666666,\"#ed7953\"],[0.7777777777777778,\"#fb9f3a\"],[0.8888888888888888,\"#fdca26\"],[1.0,\"#f0f921\"]],\"type\":\"surface\"}],\"table\":[{\"cells\":{\"fill\":{\"color\":\"#EBF0F8\"},\"line\":{\"color\":\"white\"}},\"header\":{\"fill\":{\"color\":\"#C8D4E3\"},\"line\":{\"color\":\"white\"}},\"type\":\"table\"}]},\"layout\":{\"annotationdefaults\":{\"arrowcolor\":\"#2a3f5f\",\"arrowhead\":0,\"arrowwidth\":1},\"autotypenumbers\":\"strict\",\"coloraxis\":{\"colorbar\":{\"outlinewidth\":0,\"ticks\":\"\"}},\"colorscale\":{\"diverging\":[[0,\"#8e0152\"],[0.1,\"#c51b7d\"],[0.2,\"#de77ae\"],[0.3,\"#f1b6da\"],[0.4,\"#fde0ef\"],[0.5,\"#f7f7f7\"],[0.6,\"#e6f5d0\"],[0.7,\"#b8e186\"],[0.8,\"#7fbc41\"],[0.9,\"#4d9221\"],[1,\"#276419\"]],\"sequential\":[[0.0,\"#0d0887\"],[0.1111111111111111,\"#46039f\"],[0.2222222222222222,\"#7201a8\"],[0.3333333333333333,\"#9c179e\"],[0.4444444444444444,\"#bd3786\"],[0.5555555555555556,\"#d8576b\"],[0.6666666666666666,\"#ed7953\"],[0.7777777777777778,\"#fb9f3a\"],[0.8888888888888888,\"#fdca26\"],[1.0,\"#f0f921\"]],\"sequentialminus\":[[0.0,\"#0d0887\"],[0.1111111111111111,\"#46039f\"],[0.2222222222222222,\"#7201a8\"],[0.3333333333333333,\"#9c179e\"],[0.4444444444444444,\"#bd3786\"],[0.5555555555555556,\"#d8576b\"],[0.6666666666666666,\"#ed7953\"],[0.7777777777777778,\"#fb9f3a\"],[0.8888888888888888,\"#fdca26\"],[1.0,\"#f0f921\"]]},\"colorway\":[\"#636efa\",\"#EF553B\",\"#00cc96\",\"#ab63fa\",\"#FFA15A\",\"#19d3f3\",\"#FF6692\",\"#B6E880\",\"#FF97FF\",\"#FECB52\"],\"font\":{\"color\":\"#2a3f5f\"},\"geo\":{\"bgcolor\":\"white\",\"lakecolor\":\"white\",\"landcolor\":\"#E5ECF6\",\"showlakes\":true,\"showland\":true,\"subunitcolor\":\"white\"},\"hoverlabel\":{\"align\":\"left\"},\"hovermode\":\"closest\",\"mapbox\":{\"style\":\"light\"},\"paper_bgcolor\":\"white\",\"plot_bgcolor\":\"#E5ECF6\",\"polar\":{\"angularaxis\":{\"gridcolor\":\"white\",\"linecolor\":\"white\",\"ticks\":\"\"},\"bgcolor\":\"#E5ECF6\",\"radialaxis\":{\"gridcolor\":\"white\",\"linecolor\":\"white\",\"ticks\":\"\"}},\"scene\":{\"xaxis\":{\"backgroundcolor\":\"#E5ECF6\",\"gridcolor\":\"white\",\"gridwidth\":2,\"linecolor\":\"white\",\"showbackground\":true,\"ticks\":\"\",\"zerolinecolor\":\"white\"},\"yaxis\":{\"backgroundcolor\":\"#E5ECF6\",\"gridcolor\":\"white\",\"gridwidth\":2,\"linecolor\":\"white\",\"showbackground\":true,\"ticks\":\"\",\"zerolinecolor\":\"white\"},\"zaxis\":{\"backgroundcolor\":\"#E5ECF6\",\"gridcolor\":\"white\",\"gridwidth\":2,\"linecolor\":\"white\",\"showbackground\":true,\"ticks\":\"\",\"zerolinecolor\":\"white\"}},\"shapedefaults\":{\"line\":{\"color\":\"#2a3f5f\"}},\"ternary\":{\"aaxis\":{\"gridcolor\":\"white\",\"linecolor\":\"white\",\"ticks\":\"\"},\"baxis\":{\"gridcolor\":\"white\",\"linecolor\":\"white\",\"ticks\":\"\"},\"bgcolor\":\"#E5ECF6\",\"caxis\":{\"gridcolor\":\"white\",\"linecolor\":\"white\",\"ticks\":\"\"}},\"title\":{\"x\":0.05},\"xaxis\":{\"automargin\":true,\"gridcolor\":\"white\",\"linecolor\":\"white\",\"ticks\":\"\",\"title\":{\"standoff\":15},\"zerolinecolor\":\"white\",\"zerolinewidth\":2},\"yaxis\":{\"automargin\":true,\"gridcolor\":\"white\",\"linecolor\":\"white\",\"ticks\":\"\",\"title\":{\"standoff\":15},\"zerolinecolor\":\"white\",\"zerolinewidth\":2}}},\"xaxis\":{\"anchor\":\"y\",\"domain\":[0.0,1.0],\"title\":{},\"categoryorder\":\"array\",\"categoryarray\":[\"Agricultura, ganader\\u00eda, silvicultura y pesca\",\"Ense\\u00f1anza\",\"Salud\"],\"showgrid\":true,\"gridwidth\":0.05,\"gridcolor\":\"rgba(230, 230, 230, 0.8)\",\"visible\":false},\"yaxis\":{\"anchor\":\"x\",\"domain\":[0.0,1.0],\"title\":{},\"showgrid\":true,\"gridwidth\":0.01,\"gridcolor\":\"rgba(230, 230, 230, 0.8)\"},\"legend\":{\"title\":{\"text\":\"Actividad\"},\"tracegroupgap\":0},\"margin\":{\"t\":60},\"barmode\":\"relative\",\"paper_bgcolor\":\"rgba(0, 0, 0, 0)\",\"plot_bgcolor\":\"rgba(0, 0, 0, 0)\"},                        {\"responsive\": true}                    ).then(function(){\n",
       "                            \n",
       "var gd = document.getElementById('3e9d1f04-fb02-444b-a10d-2e15408253af');\n",
       "var x = new MutationObserver(function (mutations, observer) {{\n",
       "        var display = window.getComputedStyle(gd).display;\n",
       "        if (!display || display === 'none') {{\n",
       "            console.log([gd, 'removed!']);\n",
       "            Plotly.purge(gd);\n",
       "            observer.disconnect();\n",
       "        }}\n",
       "}});\n",
       "\n",
       "// Listen for the removal of the full notebook cells\n",
       "var notebookContainer = gd.closest('#notebook-container');\n",
       "if (notebookContainer) {{\n",
       "    x.observe(notebookContainer, {childList: true});\n",
       "}}\n",
       "\n",
       "// Listen for the clearing of the current output cell\n",
       "var outputEl = gd.closest('.output');\n",
       "if (outputEl) {{\n",
       "    x.observe(outputEl, {childList: true});\n",
       "}}\n",
       "\n",
       "                        })                };                });            </script>        </div>"
      ]
     },
     "metadata": {},
     "output_type": "display_data"
    }
   ],
   "source": [
    "import plotly.express as px\n",
    "fig = px.bar(df_vab_2020, x=df_vab_2020.index, y='Valor',color=df_vab_2020.index,\n",
    "             color_discrete_sequence=px.colors.qualitative.Dark2)\n",
    "fig.update_xaxes(showgrid=True, gridwidth=0.05, gridcolor='rgba(230, 230, 230, 0.8)')\n",
    "fig.update_yaxes(showgrid=True, gridwidth=0.01, gridcolor='rgba(230, 230, 230, 0.8)')\n",
    "fig.update_layout(yaxis_title=None, xaxis_title=None,paper_bgcolor= 'rgba(0, 0, 0, 0)',\n",
    "                  plot_bgcolor= 'rgba(0, 0, 0, 0)')\n",
    "fig.update_xaxes(visible=False)\n",
    "fig.show()"
   ]
  },
  {
   "cell_type": "code",
   "execution_count": null,
   "id": "e6752f37",
   "metadata": {},
   "outputs": [],
   "source": []
  }
 ],
 "metadata": {
  "kernelspec": {
   "display_name": "Python 3 (ipykernel)",
   "language": "python",
   "name": "python3"
  },
  "language_info": {
   "codemirror_mode": {
    "name": "ipython",
    "version": 3
   },
   "file_extension": ".py",
   "mimetype": "text/x-python",
   "name": "python",
   "nbconvert_exporter": "python",
   "pygments_lexer": "ipython3",
   "version": "3.8.10"
  }
 },
 "nbformat": 4,
 "nbformat_minor": 5
}
