{
 "cells": [
  {
   "cell_type": "code",
   "execution_count": null,
   "id": "64bc127d",
   "metadata": {},
   "outputs": [],
   "source": [
    "import gspread\n",
    "from oauth2client.service_account import ServiceAccountCredentials\n",
    "import pandas as pd\n",
    "\n",
    "#Initial connection Google Sheets\n",
    "\n",
    "######   V1.0 Only get Cantones\n",
    "\n",
    "sheet_name = 'CANTON'\n",
    "KEY = '1FvE33JAUWO8mgzcoaZF7H1iYCEYm6da06rmEX8lGJaM'\n",
    "CREDS_JSON = 'credentials.json'\n",
    "scope = [\"https://spreadsheets.google.com/feeds\",'https://www.googleapis.com/auth/spreadsheets',\"https://www.googleapis.com/auth/drive.file\",\"https://www.googleapis.com/auth/drive\"]\n",
    "\n",
    "def get_selected_dataframe(sheet_name):\n",
    "    creds = ServiceAccountCredentials.from_json_keyfile_name(CREDS_JSON, scope)\n",
    "    client = gspread.authorize(creds)\n",
    "    sheet = client.open_by_key(KEY) # Open the spreadhseet\n",
    "    base_sheet = sheet.worksheet(sheet_name)\n",
    "    df = pd.DataFrame(base_sheet.get_all_records())\n",
    "    return df\n"
   ]
  },
  {
   "cell_type": "markdown",
   "id": "754e5e31",
   "metadata": {},
   "source": [
    "#### Apuntar hacia SHEET"
   ]
  },
  {
   "cell_type": "code",
   "execution_count": null,
   "id": "ccfc92e5",
   "metadata": {},
   "outputs": [],
   "source": [
    "df = get_selected_dataframe('CANTON')"
   ]
  },
  {
   "cell_type": "markdown",
   "id": "d7538367",
   "metadata": {},
   "source": [
    "#### Data Manipulation (******)"
   ]
  },
  {
   "cell_type": "code",
   "execution_count": null,
   "id": "41e2967c",
   "metadata": {
    "scrolled": true
   },
   "outputs": [],
   "source": [
    "df"
   ]
  },
  {
   "cell_type": "code",
   "execution_count": null,
   "id": "632ca758",
   "metadata": {},
   "outputs": [],
   "source": [
    "selection = df.loc[df['CANTON'] == \"Portoviejo\"]"
   ]
  },
  {
   "cell_type": "code",
   "execution_count": null,
   "id": "e882def0",
   "metadata": {},
   "outputs": [],
   "source": [
    "selection"
   ]
  },
  {
   "cell_type": "markdown",
   "id": "87268932",
   "metadata": {},
   "source": [
    "#### GeoPandas"
   ]
  },
  {
   "cell_type": "code",
   "execution_count": null,
   "id": "0072e2b7",
   "metadata": {},
   "outputs": [],
   "source": [
    "import geopandas as gpd\n",
    "import pyproj\n",
    "\n",
    "geo = gpd.read_file('ec.geojson', driver=\"GeoJSON\")\n",
    "geo.to_crs(pyproj.CRS.from_epsg(4326), inplace=True)"
   ]
  },
  {
   "cell_type": "code",
   "execution_count": null,
   "id": "fbda24cb",
   "metadata": {},
   "outputs": [],
   "source": [
    "geo.keys()"
   ]
  },
  {
   "cell_type": "code",
   "execution_count": null,
   "id": "184f7310",
   "metadata": {
    "scrolled": true
   },
   "outputs": [],
   "source": [
    "geo"
   ]
  },
  {
   "cell_type": "code",
   "execution_count": null,
   "id": "a65ef861",
   "metadata": {},
   "outputs": [],
   "source": [
    "selection_map = geo.loc[geo['DPA_CANTON'] == str(selection['DPA_CANTON'].values[0])]"
   ]
  },
  {
   "cell_type": "code",
   "execution_count": null,
   "id": "bd58ae63",
   "metadata": {},
   "outputs": [],
   "source": [
    "selection_map"
   ]
  },
  {
   "cell_type": "code",
   "execution_count": null,
   "id": "732ba160",
   "metadata": {
    "scrolled": false
   },
   "outputs": [],
   "source": [
    "import plotly.express as px\n",
    "\n",
    "fig = px.choropleth(geojson=selection_map.geometry, locations=selection_map.index, \n",
    "                    color_discrete_sequence=px.colors.qualitative.Pastel2)\n",
    "fig.update_geos(fitbounds=\"locations\", visible=False)\n",
    "\n",
    "fig.show()"
   ]
  },
  {
   "cell_type": "markdown",
   "id": "7009b5e7",
   "metadata": {},
   "source": [
    "#### Características de la Población"
   ]
  },
  {
   "cell_type": "code",
   "execution_count": null,
   "id": "8e18de50",
   "metadata": {},
   "outputs": [],
   "source": [
    "def get_stats_people(selection):\n",
    "    base_stats = []\n",
    "    rows_name = [\"% Hombres\",\"% Mujeres\",\"% Población Rural\",\"% Población Urbana\",\"% Población Provincial\", \"PEA\"]\n",
    "    total = selection['Poblacion Hombres 2022'].values[0] + selection['Poblacion Mujeres 2022'].values[0]\n",
    "    base_stats.append(str(round(((selection['Poblacion Hombres 2022'].values[0]/total)*100), 2))+\"%\")\n",
    "    base_stats.append(str(round(((selection['Poblacion Mujeres 2022'].values[0]/total)*100), 2))+\"%\")\n",
    "    base_stats.append(str(round(selection['% Poblacion Rural'].values[0], 2))+\"%\")\n",
    "    base_stats.append(str(round(100-selection['% Poblacion Rural'].values[0], 2))+\"%\")\n",
    "    base_stats.append(\"Pendiente\")\n",
    "    base_stats.append(str(round(selection['PEA'].values[0], 2))+\"%\")\n",
    "    df_stats_people = pd.DataFrame(base_stats,index = rows_name)\n",
    "    return df_stats_people"
   ]
  },
  {
   "cell_type": "code",
   "execution_count": null,
   "id": "0e0dbe1e",
   "metadata": {
    "scrolled": true
   },
   "outputs": [],
   "source": [
    "get_stats_people(selection)"
   ]
  },
  {
   "cell_type": "markdown",
   "id": "71d93a9d",
   "metadata": {},
   "source": [
    "#### Índice de Prosperidad Territorial 2021"
   ]
  },
  {
   "cell_type": "code",
   "execution_count": null,
   "id": "3dd9c425",
   "metadata": {},
   "outputs": [],
   "source": [
    "def get_index_prosperity(selection):\n",
    "    base_stats = []\n",
    "    rows_name = [\"Tasa de Alfabetismo\",\"Ingreso Medio de Hogares USD (Mensual)\",\n",
    "                 \"Población en asentamientos Precarios\",\"Población Afectada por eventos naturales (cada mil personas)\"]\n",
    "    base_stats.append(str(round(selection['Tasa de Alfabetismo'].values[0], 2))+\"%\")\n",
    "    base_stats.append(str(round(selection['Ingreso Medio Hogares  USD (Mensual)'].values[0], 2)))\n",
    "    base_stats.append(str(round(selection['Poblacion en asentamientos precarios'].values[0], 2))+\"%\")\n",
    "    base_stats.append(str(round(selection['Poblacion afectada por eventos naturales'].values[0], 2))+\"%\")\n",
    "    df_stats_people = pd.DataFrame(base_stats,index=rows_name)\n",
    "    return df_stats_people"
   ]
  },
  {
   "cell_type": "code",
   "execution_count": null,
   "id": "33571f6c",
   "metadata": {},
   "outputs": [],
   "source": [
    "get_index_prosperity(selection)"
   ]
  },
  {
   "cell_type": "code",
   "execution_count": null,
   "id": "bc87338b",
   "metadata": {},
   "outputs": [],
   "source": [
    "def get_service_access(selection):\n",
    "    base_stats = []\n",
    "    rows_name = [\"Acceso a Agua Mejorada (% Población)\",\"Acceso a Saneamiento Adecuado (%Población)\",\"Acceso a Electricidad (% Población)\",\n",
    "                 \"Acceso a Internet (Usuarios de internet por cada 100 habitantes)\", \"Acceso Computadores (% Hogares)\"]\n",
    "    #column_name = ['Indicador','%']\n",
    "    base_stats.append(str(round(selection['Acceso a Agua Mejorada'].values[0], 2))+\"%\")\n",
    "    base_stats.append(str(round(selection['Acceso a Saneamiento Adecuado'].values[0], 2)))\n",
    "    base_stats.append(str(round(selection['Acceso a Electricidad'].values[0], 2))+\"%\")\n",
    "    base_stats.append(str(round(selection['Acceso a Internet'].values[0], 2))+\"%\")\n",
    "    base_stats.append(str(round(selection['Acceso Computadores (% Hogares)'].values[0], 2))+\"%\")\n",
    "    df_stats_people = pd.DataFrame(base_stats,index=rows_name)\n",
    "    return df_stats_people"
   ]
  },
  {
   "cell_type": "code",
   "execution_count": null,
   "id": "6527ed3f",
   "metadata": {},
   "outputs": [],
   "source": [
    "get_service_access(selection)"
   ]
  },
  {
   "cell_type": "code",
   "execution_count": null,
   "id": "9782e257",
   "metadata": {},
   "outputs": [],
   "source": []
  }
 ],
 "metadata": {
  "kernelspec": {
   "display_name": "Python 3 (ipykernel)",
   "language": "python",
   "name": "python3"
  },
  "language_info": {
   "codemirror_mode": {
    "name": "ipython",
    "version": 3
   },
   "file_extension": ".py",
   "mimetype": "text/x-python",
   "name": "python",
   "nbconvert_exporter": "python",
   "pygments_lexer": "ipython3",
   "version": "3.8.10"
  }
 },
 "nbformat": 4,
 "nbformat_minor": 5
}
